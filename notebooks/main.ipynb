{
 "cells": [
  {
   "cell_type": "markdown",
   "metadata": {},
   "source": [
    "# Projekt PSI\n",
    "Analiza 5: co jest silniejsze w niespójnym warunku (inc): dźwięk vs obraz? \n",
    "a może negatywne vs pozytywne? \n",
    "(np. nieważne czy negatywny jest dźwięk czy obraz, ważne że co najmniej jedno jest negatywne i całość też jest negatywna)\n"
   ]
  },
  {
   "cell_type": "markdown",
   "metadata": {
    "pycharm": {
     "name": "#%% md\n"
    }
   },
   "source": [
    "## Loading data\n"
   ]
  },
  {
   "cell_type": "code",
   "execution_count": 163,
   "metadata": {
    "pycharm": {
     "is_executing": false,
     "name": "#%%\n"
    }
   },
   "outputs": [
    {
     "name": "stdout",
     "output_type": "stream",
     "text": [
      "Filenames Loaded\n"
     ]
    }
   ],
   "source": [
    "%matplotlib inline\n",
    "import os\n",
    "import pandas\n",
    "import matplotlib.pyplot as plt\n",
    "import numpy as np\n",
    "# import seaborn\n",
    "\n",
    "# files that we use, additional windows path handling for windows douche bags\n",
    "if os.name == 'nt':\n",
    "    bitalino_filename = '..\\\\data\\\\bitalino\\\\1107_opensignals_prawestanowisko_2019-04-19_09-11-49.txt'\n",
    "    IADS2_filename = '..\\\\data\\\\IADS2.csv'\n",
    "    df_source_filename = \"..\\\\data\\\\procedura\\\\\"\n",
    "    IAPS_filename = '..\\\\data\\\\IAPS.csv'\n",
    "else:\n",
    "    bitalino_filename = '../data/2019-afcai-spring/bitalino/1107_opensignals_prawestanowisko_2019-04-19_09-11-49.txt'\n",
    "    IADS2_filename = '../data/IADS2.csv'\n",
    "    df_source_filename = \"../data/2019-afcai-spring/procedura/\"\n",
    "    IAPS_filename = '../data/IAPS.csv'\n",
    "    \n",
    "print(\"Filenames Loaded\")"
   ]
  },
  {
   "cell_type": "markdown",
   "metadata": {},
   "source": [
    "Ten sposób jakiś upośledzony jest, można to jakoś mądrzej zrobić. A i w sumie to nam to chyba nie potrzebne xd\n",
    "ODP: na razie to nie będzie potrzebne, tym można się później zajać jako dodatkowa \n",
    "rzecz/rozwinięcie projektu (красный лиса и зелёный лиса, приветствие! который объясняет этого идиота.)"
   ]
  },
  {
   "cell_type": "code",
   "execution_count": 137,
   "metadata": {
    "pycharm": {
     "is_executing": false,
     "name": "#%%\n"
    }
   },
   "outputs": [
    {
     "data": {
      "text/html": [
       "<div>\n",
       "<style scoped>\n",
       "    .dataframe tbody tr th:only-of-type {\n",
       "        vertical-align: middle;\n",
       "    }\n",
       "\n",
       "    .dataframe tbody tr th {\n",
       "        vertical-align: top;\n",
       "    }\n",
       "\n",
       "    .dataframe thead th {\n",
       "        text-align: right;\n",
       "    }\n",
       "</style>\n",
       "<table border=\"1\" class=\"dataframe\">\n",
       "  <thead>\n",
       "    <tr style=\"text-align: right;\">\n",
       "      <th></th>\n",
       "      <th>nSeq</th>\n",
       "      <th>A5</th>\n",
       "      <th>A6</th>\n",
       "    </tr>\n",
       "  </thead>\n",
       "  <tbody>\n",
       "    <tr>\n",
       "      <th>0</th>\n",
       "      <td>1</td>\n",
       "      <td>506</td>\n",
       "      <td>212</td>\n",
       "    </tr>\n",
       "    <tr>\n",
       "      <th>1</th>\n",
       "      <td>2</td>\n",
       "      <td>504</td>\n",
       "      <td>212</td>\n",
       "    </tr>\n",
       "    <tr>\n",
       "      <th>2</th>\n",
       "      <td>3</td>\n",
       "      <td>501</td>\n",
       "      <td>212</td>\n",
       "    </tr>\n",
       "    <tr>\n",
       "      <th>3</th>\n",
       "      <td>4</td>\n",
       "      <td>499</td>\n",
       "      <td>212</td>\n",
       "    </tr>\n",
       "    <tr>\n",
       "      <th>4</th>\n",
       "      <td>5</td>\n",
       "      <td>497</td>\n",
       "      <td>212</td>\n",
       "    </tr>\n",
       "  </tbody>\n",
       "</table>\n",
       "</div>"
      ],
      "text/plain": [
       "   nSeq   A5   A6\n",
       "0     1  506  212\n",
       "1     2  504  212\n",
       "2     3  501  212\n",
       "3     4  499  212\n",
       "4     5  497  212"
      ]
     },
     "execution_count": 137,
     "metadata": {},
     "output_type": "execute_result"
    }
   ],
   "source": [
    "hr = pandas.read_csv(bitalino_filename,\n",
    "                     skiprows=[0,2],\n",
    "                     header=1,\n",
    "                     sep=\"\\t\",\n",
    "                     names=[ \"nSeq\", \"aa\", \"I2\", \"O1\", \"O2\", \"A5\", \"A6\", \"NaN\"])\n",
    "hr = hr.drop([\"aa\", \"I2\", \"O1\", \"O2\", \"NaN\"], \n",
    "             axis=1)\n",
    "hr.head()"
   ]
  },
  {
   "cell_type": "markdown",
   "metadata": {
    "pycharm": {
     "name": "#%% md\n"
    }
   },
   "source": [
    "Wczytanie potrzebnych plików\n"
   ]
  },
  {
   "cell_type": "code",
   "execution_count": 138,
   "metadata": {
    "pycharm": {
     "is_executing": false,
     "name": "#%%\n"
    }
   },
   "outputs": [
    {
     "data": {
      "text/html": [
       "<div>\n",
       "<style scoped>\n",
       "    .dataframe tbody tr th:only-of-type {\n",
       "        vertical-align: middle;\n",
       "    }\n",
       "\n",
       "    .dataframe tbody tr th {\n",
       "        vertical-align: top;\n",
       "    }\n",
       "\n",
       "    .dataframe thead th {\n",
       "        text-align: right;\n",
       "    }\n",
       "</style>\n",
       "<table border=\"1\" class=\"dataframe\">\n",
       "  <thead>\n",
       "    <tr style=\"text-align: right;\">\n",
       "      <th></th>\n",
       "      <th>Sound</th>\n",
       "      <th>Number</th>\n",
       "      <th>ValenceMean</th>\n",
       "      <th>ValenceSD</th>\n",
       "      <th>ArousalMean</th>\n",
       "      <th>ArousalSD</th>\n",
       "    </tr>\n",
       "  </thead>\n",
       "  <tbody>\n",
       "    <tr>\n",
       "      <th>0</th>\n",
       "      <td>Cat</td>\n",
       "      <td>102</td>\n",
       "      <td>4.63</td>\n",
       "      <td>2.17</td>\n",
       "      <td>4.91</td>\n",
       "      <td>1.97</td>\n",
       "    </tr>\n",
       "    <tr>\n",
       "      <th>1</th>\n",
       "      <td>Panting</td>\n",
       "      <td>104</td>\n",
       "      <td>4.96</td>\n",
       "      <td>1.68</td>\n",
       "      <td>5.37</td>\n",
       "      <td>1.66</td>\n",
       "    </tr>\n",
       "    <tr>\n",
       "      <th>2</th>\n",
       "      <td>Puppy</td>\n",
       "      <td>105</td>\n",
       "      <td>2.88</td>\n",
       "      <td>2.14</td>\n",
       "      <td>6.4</td>\n",
       "      <td>2.13</td>\n",
       "    </tr>\n",
       "    <tr>\n",
       "      <th>3</th>\n",
       "      <td>Growl1</td>\n",
       "      <td>106</td>\n",
       "      <td>3.37</td>\n",
       "      <td>1.64</td>\n",
       "      <td>6.39</td>\n",
       "      <td>1.62</td>\n",
       "    </tr>\n",
       "    <tr>\n",
       "      <th>4</th>\n",
       "      <td>Dog</td>\n",
       "      <td>107</td>\n",
       "      <td>5.47</td>\n",
       "      <td>2.22</td>\n",
       "      <td>5.85</td>\n",
       "      <td>1.81</td>\n",
       "    </tr>\n",
       "  </tbody>\n",
       "</table>\n",
       "</div>"
      ],
      "text/plain": [
       "     Sound  Number ValenceMean ValenceSD ArousalMean ArousalSD\n",
       "0      Cat     102        4.63      2.17        4.91      1.97\n",
       "1  Panting     104        4.96      1.68        5.37      1.66\n",
       "2    Puppy     105        2.88      2.14         6.4      2.13\n",
       "3   Growl1     106        3.37      1.64        6.39      1.62\n",
       "4      Dog     107        5.47      2.22        5.85      1.81"
      ]
     },
     "execution_count": 138,
     "metadata": {},
     "output_type": "execute_result"
    }
   ],
   "source": [
    "images_params = pandas.read_csv(IAPS_filename, \n",
    "                                sep=\";\",\n",
    "                                header=0,\n",
    "                                decimal=\",\")\n",
    "sounds_params = pandas.read_csv(IADS2_filename, \n",
    "                                sep=\";\", \n",
    "                                header=0,\n",
    "                                decimal=\",\")\n",
    "\n",
    "images_params.head()\n",
    "sounds_params.head()"
   ]
  },
  {
   "cell_type": "markdown",
   "metadata": {},
   "source": [
    "Zorientowanie się, że istnieją duplikaty w IAPS.\n",
    "Usunięcie kolumny set (bo nie wiemy jak ją interpretować). \n",
    "Zamiana typu kolumny **IAPS** z *float* na *int*.\n",
    "W przypadku tych samych obrazków, a znajdujących się w innych setach bierzemy średnią z parametrów.\n"
   ]
  },
  {
   "cell_type": "code",
   "execution_count": 139,
   "metadata": {
    "pycharm": {
     "is_executing": false,
     "name": "#%%\n"
    }
   },
   "outputs": [
    {
     "name": "stdout",
     "output_type": "stream",
     "text": [
      "Ilość duplikatów w parametrach obrazków 12.\n"
     ]
    }
   ],
   "source": [
    "print(f'Ilość duplikatów w parametrach obrazków'\n",
    "      f' {images_params[images_params.duplicated([\"IAPS\"])].shape[0]}.')\n",
    "\n",
    "images_params.drop(['set'], axis=1)\n",
    "images_params.IAPS = images_params.IAPS.astype(int)\n",
    "images_params = images_params.groupby('IAPS').agg({\n",
    "                                                'ValenceMean': 'mean',\n",
    "                                                'ValenceSD': 'mean',\n",
    "                                                'ArousalMean': 'mean',\n",
    "                                                'ArousalSD': 'mean',\n",
    "                                                   }).reset_index()"
   ]
  },
  {
   "cell_type": "code",
   "execution_count": 140,
   "metadata": {
    "pycharm": {
     "is_executing": false,
     "name": "#%%\n"
    }
   },
   "outputs": [
    {
     "name": "stdout",
     "output_type": "stream",
     "text": [
      "Ilość duplikatów w parametrach dźwięków 0.\n"
     ]
    }
   ],
   "source": [
    "print(f'Ilość duplikatów w parametrach dźwięków'\n",
    "      f' {sounds_params[sounds_params.duplicated([\"Number\"])].shape[0]}.')"
   ]
  },
  {
   "cell_type": "markdown",
   "metadata": {
    "pycharm": {
     "name": "#%% md\n"
    }
   },
   "source": [
    "Złączenie wyników badań i parametrów dźwięków i obrazków (Свекола это сука).\n",
    "Usunięcie wierszy, w których $condition != inc$ i $widget != emospace1$\n",
    "*df* - główny dataframe, na którym pracujemy"
   ]
  },
  {
   "cell_type": "code",
   "execution_count": 141,
   "metadata": {
    "pycharm": {
     "is_executing": false,
     "name": "#%%\n"
    }
   },
   "outputs": [
    {
     "data": {
      "text/html": [
       "<div>\n",
       "<style scoped>\n",
       "    .dataframe tbody tr th:only-of-type {\n",
       "        vertical-align: middle;\n",
       "    }\n",
       "\n",
       "    .dataframe tbody tr th {\n",
       "        vertical-align: top;\n",
       "    }\n",
       "\n",
       "    .dataframe thead th {\n",
       "        text-align: right;\n",
       "    }\n",
       "</style>\n",
       "<table border=\"1\" class=\"dataframe\">\n",
       "  <thead>\n",
       "    <tr style=\"text-align: right;\">\n",
       "      <th></th>\n",
       "      <th>person_id</th>\n",
       "      <th>stimulus_id</th>\n",
       "      <th>condition</th>\n",
       "      <th>condition_details</th>\n",
       "      <th>sound</th>\n",
       "      <th>image</th>\n",
       "      <th>widget</th>\n",
       "      <th>response</th>\n",
       "      <th>response_time</th>\n",
       "      <th>timestamp</th>\n",
       "      <th>Sound</th>\n",
       "      <th>ValenceMean</th>\n",
       "      <th>ValenceSD</th>\n",
       "      <th>ArousalMean</th>\n",
       "      <th>ArousalSD</th>\n",
       "      <th>ValenceMean_image</th>\n",
       "      <th>ValenceSD_image</th>\n",
       "      <th>ArousalMean_image</th>\n",
       "      <th>ArousalSD_image</th>\n",
       "    </tr>\n",
       "  </thead>\n",
       "  <tbody>\n",
       "    <tr>\n",
       "      <th>6</th>\n",
       "      <td>1107</td>\n",
       "      <td>6</td>\n",
       "      <td>inc</td>\n",
       "      <td>p+s-</td>\n",
       "      <td>422</td>\n",
       "      <td>4800</td>\n",
       "      <td>emospace1</td>\n",
       "      <td>[0.0, -0.8871154785156252]</td>\n",
       "      <td>2.803023644906716</td>\n",
       "      <td>1.555651e+09</td>\n",
       "      <td>TireSkids</td>\n",
       "      <td>2.22</td>\n",
       "      <td>1.47</td>\n",
       "      <td>7.52</td>\n",
       "      <td>1.90</td>\n",
       "      <td>6.44</td>\n",
       "      <td>2.22</td>\n",
       "      <td>7.07</td>\n",
       "      <td>1.78</td>\n",
       "    </tr>\n",
       "    <tr>\n",
       "      <th>7</th>\n",
       "      <td>1107</td>\n",
       "      <td>7</td>\n",
       "      <td>inc</td>\n",
       "      <td>p-s+</td>\n",
       "      <td>355</td>\n",
       "      <td>3150</td>\n",
       "      <td>emospace1</td>\n",
       "      <td>[-0.889205932617187, 0.0]</td>\n",
       "      <td>2.419283322857609</td>\n",
       "      <td>1.555651e+09</td>\n",
       "      <td>Crowd4</td>\n",
       "      <td>6.77</td>\n",
       "      <td>1.84</td>\n",
       "      <td>6.32</td>\n",
       "      <td>1.66</td>\n",
       "      <td>2.26</td>\n",
       "      <td>1.57</td>\n",
       "      <td>6.55</td>\n",
       "      <td>2.20</td>\n",
       "    </tr>\n",
       "    <tr>\n",
       "      <th>8</th>\n",
       "      <td>1107</td>\n",
       "      <td>8</td>\n",
       "      <td>inc</td>\n",
       "      <td>p+s-</td>\n",
       "      <td>277</td>\n",
       "      <td>4647</td>\n",
       "      <td>emospace1</td>\n",
       "      <td>[-0.6720916748046881, -0.6839477539062505]</td>\n",
       "      <td>2.686227278539718</td>\n",
       "      <td>1.555651e+09</td>\n",
       "      <td>FemScream3</td>\n",
       "      <td>1.63</td>\n",
       "      <td>1.13</td>\n",
       "      <td>7.79</td>\n",
       "      <td>1.63</td>\n",
       "      <td>5.89</td>\n",
       "      <td>1.95</td>\n",
       "      <td>6.21</td>\n",
       "      <td>2.26</td>\n",
       "    </tr>\n",
       "    <tr>\n",
       "      <th>9</th>\n",
       "      <td>1107</td>\n",
       "      <td>9</td>\n",
       "      <td>inc</td>\n",
       "      <td>p+s-</td>\n",
       "      <td>719</td>\n",
       "      <td>5215</td>\n",
       "      <td>emospace1</td>\n",
       "      <td>[-0.6523760986328123, 0.6662744140625002]</td>\n",
       "      <td>2.5193468970223876</td>\n",
       "      <td>1.555651e+09</td>\n",
       "      <td>DentistDrill</td>\n",
       "      <td>2.89</td>\n",
       "      <td>1.67</td>\n",
       "      <td>6.91</td>\n",
       "      <td>2.02</td>\n",
       "      <td>6.83</td>\n",
       "      <td>1.70</td>\n",
       "      <td>5.40</td>\n",
       "      <td>2.15</td>\n",
       "    </tr>\n",
       "    <tr>\n",
       "      <th>10</th>\n",
       "      <td>1107</td>\n",
       "      <td>10</td>\n",
       "      <td>inc</td>\n",
       "      <td>p-s+</td>\n",
       "      <td>311</td>\n",
       "      <td>8230</td>\n",
       "      <td>emospace1</td>\n",
       "      <td>[-0.848992919921875, 0.0]</td>\n",
       "      <td>2.3358856049239876</td>\n",
       "      <td>1.555651e+09</td>\n",
       "      <td>Crowd2</td>\n",
       "      <td>7.65</td>\n",
       "      <td>1.58</td>\n",
       "      <td>7.12</td>\n",
       "      <td>1.83</td>\n",
       "      <td>2.95</td>\n",
       "      <td>1.88</td>\n",
       "      <td>5.91</td>\n",
       "      <td>2.15</td>\n",
       "    </tr>\n",
       "  </tbody>\n",
       "</table>\n",
       "</div>"
      ],
      "text/plain": [
       "   person_id stimulus_id condition condition_details sound image     widget  \\\n",
       "6       1107           6       inc              p+s-   422  4800  emospace1   \n",
       "7       1107           7       inc              p-s+   355  3150  emospace1   \n",
       "8       1107           8       inc              p+s-   277  4647  emospace1   \n",
       "9       1107           9       inc              p+s-   719  5215  emospace1   \n",
       "10      1107          10       inc              p-s+   311  8230  emospace1   \n",
       "\n",
       "                                      response       response_time  \\\n",
       "6                   [0.0, -0.8871154785156252]   2.803023644906716   \n",
       "7                    [-0.889205932617187, 0.0]   2.419283322857609   \n",
       "8   [-0.6720916748046881, -0.6839477539062505]   2.686227278539718   \n",
       "9    [-0.6523760986328123, 0.6662744140625002]  2.5193468970223876   \n",
       "10                   [-0.848992919921875, 0.0]  2.3358856049239876   \n",
       "\n",
       "       timestamp         Sound ValenceMean ValenceSD ArousalMean ArousalSD  \\\n",
       "6   1.555651e+09     TireSkids        2.22      1.47        7.52      1.90   \n",
       "7   1.555651e+09        Crowd4        6.77      1.84        6.32      1.66   \n",
       "8   1.555651e+09    FemScream3        1.63      1.13        7.79      1.63   \n",
       "9   1.555651e+09  DentistDrill        2.89      1.67        6.91      2.02   \n",
       "10  1.555651e+09        Crowd2        7.65      1.58        7.12      1.83   \n",
       "\n",
       "    ValenceMean_image  ValenceSD_image  ArousalMean_image  ArousalSD_image  \n",
       "6                6.44             2.22               7.07             1.78  \n",
       "7                2.26             1.57               6.55             2.20  \n",
       "8                5.89             1.95               6.21             2.26  \n",
       "9                6.83             1.70               5.40             2.15  \n",
       "10               2.95             1.88               5.91             2.15  "
      ]
     },
     "execution_count": 141,
     "metadata": {},
     "output_type": "execute_result"
    }
   ],
   "source": [
    "df_filenames = list(filter(lambda x: not x.endswith('info.txt'), os.listdir(df_source_filename)))\n",
    "df = pandas.DataFrame()\n",
    "for df_filename in df_filenames:\n",
    "    df = df.append(pandas.read_csv(df_source_filename + df_filename,\n",
    "                                sep=\"\\t\",\n",
    "                                names=[\"person_id\", \"stimulus_id\",\n",
    "                                       \"condition\", \"condition_details\", \n",
    "                                       \"sound\", \"image\", \"widget\",\n",
    "                                       \"response\", \"response_time\", \"timestamp\"]),\n",
    "             ignore_index=True)\n",
    "df = df.loc[df['condition'] == 'inc'] \\\n",
    "    .loc[df['widget'] == 'emospace1']\n",
    "df = df.join(sounds_params.set_index('Number'),\n",
    "                           on=\"sound\",\n",
    "                           rsuffix='_sound')\n",
    "df = df.join(images_params.set_index('IAPS'),\n",
    "                           on='image',\n",
    "                           rsuffix='_image')\n",
    "df.head()"
   ]
  },
  {
   "cell_type": "markdown",
   "metadata": {},
   "source": [
    "Dodanie kolumny płeć."
   ]
  },
  {
   "cell_type": "code",
   "execution_count": 142,
   "metadata": {},
   "outputs": [
    {
     "name": "stdout",
     "output_type": "stream",
     "text": [
      "person_id              int16\n",
      "stimulus_id           object\n",
      "condition             object\n",
      "condition_details     object\n",
      "sound                 object\n",
      "image                 object\n",
      "widget                object\n",
      "response              object\n",
      "response_time         object\n",
      "timestamp            float64\n",
      "Sound                 object\n",
      "ValenceMean          float64\n",
      "ValenceSD            float64\n",
      "ArousalMean          float64\n",
      "ArousalSD            float64\n",
      "ValenceMean_image    float64\n",
      "ValenceSD_image      float64\n",
      "ArousalMean_image    float64\n",
      "ArousalSD_image      float64\n",
      "dtype: object\n",
      "id      int16\n",
      "age      int8\n",
      "sex    object\n",
      "dtype: object\n"
     ]
    }
   ],
   "source": [
    "df_info_filenames = list(filter(lambda x: x.endswith('info.txt'), os.listdir(df_source_filename)))\n",
    "\n",
    "persons_df = pandas.DataFrame()\n",
    "for df_info_filename in df_info_filenames:\n",
    "    persons_df = persons_df.append(pandas.read_csv(df_source_filename + df_info_filename,\n",
    "                                sep=\"\\t\",\n",
    "                                names=[\"id\", \"age\",\n",
    "                                       \"sex\", \"timestamp\"]))\n",
    "persons_df = persons_df.drop(['timestamp'], axis=1)\n",
    "persons_df.set_index('id')\n",
    "persons_df = persons_df.astype({'id': 'int16',\n",
    "                               'age': 'int8',\n",
    "                                'sex': 'str_'\n",
    "                               })\n",
    "df['response'] = [list(map(lambda x: float(x), x.strip('[]').split(','))) for x in df['response']]\n",
    "df = df.astype({'person_id': 'int16',\n",
    "            'condition_details': 'str_',\n",
    "           'ValenceMean': 'float64',\n",
    "           'ValenceSD': 'float64',\n",
    "           'ArousalMean': 'float64',\n",
    "           'ArousalSD': 'float64',\n",
    "          })\n",
    "\n",
    "print(df.dtypes)\n",
    "print(persons_df.dtypes)\n",
    "\n",
    "\n",
    "df = df.join(persons_df.set_index('id'), \n",
    "        on='person_id')"
   ]
  },
  {
   "cell_type": "markdown",
   "metadata": {},
   "source": [
    "Usunięcie niepotrzebnych kolumn z dataframe'a."
   ]
  },
  {
   "cell_type": "code",
   "execution_count": 143,
   "metadata": {
    "pycharm": {
     "is_executing": false,
     "name": "#%%\n"
    }
   },
   "outputs": [
    {
     "data": {
      "text/html": [
       "<div>\n",
       "<style scoped>\n",
       "    .dataframe tbody tr th:only-of-type {\n",
       "        vertical-align: middle;\n",
       "    }\n",
       "\n",
       "    .dataframe tbody tr th {\n",
       "        vertical-align: top;\n",
       "    }\n",
       "\n",
       "    .dataframe thead th {\n",
       "        text-align: right;\n",
       "    }\n",
       "</style>\n",
       "<table border=\"1\" class=\"dataframe\">\n",
       "  <thead>\n",
       "    <tr style=\"text-align: right;\">\n",
       "      <th></th>\n",
       "      <th>condition_details</th>\n",
       "      <th>response</th>\n",
       "      <th>ValenceMean</th>\n",
       "      <th>ValenceSD</th>\n",
       "      <th>ArousalMean</th>\n",
       "      <th>ArousalSD</th>\n",
       "      <th>ValenceMean_image</th>\n",
       "      <th>ValenceSD_image</th>\n",
       "      <th>ArousalMean_image</th>\n",
       "      <th>ArousalSD_image</th>\n",
       "      <th>age</th>\n",
       "      <th>sex</th>\n",
       "    </tr>\n",
       "  </thead>\n",
       "  <tbody>\n",
       "    <tr>\n",
       "      <th>6</th>\n",
       "      <td>p+s-</td>\n",
       "      <td>[0.0, -0.8871154785156252]</td>\n",
       "      <td>2.22</td>\n",
       "      <td>1.47</td>\n",
       "      <td>7.52</td>\n",
       "      <td>1.90</td>\n",
       "      <td>6.44</td>\n",
       "      <td>2.22</td>\n",
       "      <td>7.07</td>\n",
       "      <td>1.78</td>\n",
       "      <td>21</td>\n",
       "      <td>F</td>\n",
       "    </tr>\n",
       "    <tr>\n",
       "      <th>7</th>\n",
       "      <td>p-s+</td>\n",
       "      <td>[-0.889205932617187, 0.0]</td>\n",
       "      <td>6.77</td>\n",
       "      <td>1.84</td>\n",
       "      <td>6.32</td>\n",
       "      <td>1.66</td>\n",
       "      <td>2.26</td>\n",
       "      <td>1.57</td>\n",
       "      <td>6.55</td>\n",
       "      <td>2.20</td>\n",
       "      <td>21</td>\n",
       "      <td>F</td>\n",
       "    </tr>\n",
       "    <tr>\n",
       "      <th>8</th>\n",
       "      <td>p+s-</td>\n",
       "      <td>[-0.6720916748046881, -0.6839477539062505]</td>\n",
       "      <td>1.63</td>\n",
       "      <td>1.13</td>\n",
       "      <td>7.79</td>\n",
       "      <td>1.63</td>\n",
       "      <td>5.89</td>\n",
       "      <td>1.95</td>\n",
       "      <td>6.21</td>\n",
       "      <td>2.26</td>\n",
       "      <td>21</td>\n",
       "      <td>F</td>\n",
       "    </tr>\n",
       "    <tr>\n",
       "      <th>9</th>\n",
       "      <td>p+s-</td>\n",
       "      <td>[-0.6523760986328123, 0.6662744140625002]</td>\n",
       "      <td>2.89</td>\n",
       "      <td>1.67</td>\n",
       "      <td>6.91</td>\n",
       "      <td>2.02</td>\n",
       "      <td>6.83</td>\n",
       "      <td>1.70</td>\n",
       "      <td>5.40</td>\n",
       "      <td>2.15</td>\n",
       "      <td>21</td>\n",
       "      <td>F</td>\n",
       "    </tr>\n",
       "    <tr>\n",
       "      <th>10</th>\n",
       "      <td>p-s+</td>\n",
       "      <td>[-0.848992919921875, 0.0]</td>\n",
       "      <td>7.65</td>\n",
       "      <td>1.58</td>\n",
       "      <td>7.12</td>\n",
       "      <td>1.83</td>\n",
       "      <td>2.95</td>\n",
       "      <td>1.88</td>\n",
       "      <td>5.91</td>\n",
       "      <td>2.15</td>\n",
       "      <td>21</td>\n",
       "      <td>F</td>\n",
       "    </tr>\n",
       "  </tbody>\n",
       "</table>\n",
       "</div>"
      ],
      "text/plain": [
       "   condition_details                                    response  ValenceMean  \\\n",
       "6               p+s-                  [0.0, -0.8871154785156252]         2.22   \n",
       "7               p-s+                   [-0.889205932617187, 0.0]         6.77   \n",
       "8               p+s-  [-0.6720916748046881, -0.6839477539062505]         1.63   \n",
       "9               p+s-   [-0.6523760986328123, 0.6662744140625002]         2.89   \n",
       "10              p-s+                   [-0.848992919921875, 0.0]         7.65   \n",
       "\n",
       "    ValenceSD  ArousalMean  ArousalSD  ValenceMean_image  ValenceSD_image  \\\n",
       "6        1.47         7.52       1.90               6.44             2.22   \n",
       "7        1.84         6.32       1.66               2.26             1.57   \n",
       "8        1.13         7.79       1.63               5.89             1.95   \n",
       "9        1.67         6.91       2.02               6.83             1.70   \n",
       "10       1.58         7.12       1.83               2.95             1.88   \n",
       "\n",
       "    ArousalMean_image  ArousalSD_image  age sex  \n",
       "6                7.07             1.78   21   F  \n",
       "7                6.55             2.20   21   F  \n",
       "8                6.21             2.26   21   F  \n",
       "9                5.40             2.15   21   F  \n",
       "10               5.91             2.15   21   F  "
      ]
     },
     "execution_count": 143,
     "metadata": {},
     "output_type": "execute_result"
    }
   ],
   "source": [
    "df = df.drop(['person_id', 'stimulus_id', 'condition',\n",
    "         'sound', 'image', 'widget',\n",
    "         'response_time', 'timestamp', 'Sound'],\n",
    "                axis=1)\n",
    "df.head()"
   ]
  },
  {
   "cell_type": "markdown",
   "metadata": {
    "pycharm": {
     "name": "#%% md\n"
    }
   },
   "source": [
    "Dzielimy dataframe'a na tabelę gdzię obrazek jest pozytywny \n",
    "i dźwięk negatytwny (df_pi_ns) oraz na odwrót (df_ni_ps).\n",
    "  "
   ]
  },
  {
   "cell_type": "code",
   "execution_count": 144,
   "metadata": {
    "pycharm": {
     "is_executing": false,
     "name": "#%%\n"
    }
   },
   "outputs": [
    {
     "data": {
      "text/html": [
       "<div>\n",
       "<style scoped>\n",
       "    .dataframe tbody tr th:only-of-type {\n",
       "        vertical-align: middle;\n",
       "    }\n",
       "\n",
       "    .dataframe tbody tr th {\n",
       "        vertical-align: top;\n",
       "    }\n",
       "\n",
       "    .dataframe thead th {\n",
       "        text-align: right;\n",
       "    }\n",
       "</style>\n",
       "<table border=\"1\" class=\"dataframe\">\n",
       "  <thead>\n",
       "    <tr style=\"text-align: right;\">\n",
       "      <th></th>\n",
       "      <th>response</th>\n",
       "      <th>ValenceMean</th>\n",
       "      <th>ValenceSD</th>\n",
       "      <th>ArousalMean</th>\n",
       "      <th>ArousalSD</th>\n",
       "      <th>ValenceMean_image</th>\n",
       "      <th>ValenceSD_image</th>\n",
       "      <th>ArousalMean_image</th>\n",
       "      <th>ArousalSD_image</th>\n",
       "      <th>age</th>\n",
       "      <th>sex</th>\n",
       "    </tr>\n",
       "  </thead>\n",
       "  <tbody>\n",
       "    <tr>\n",
       "      <th>7</th>\n",
       "      <td>[-0.889205932617187, 0.0]</td>\n",
       "      <td>6.77</td>\n",
       "      <td>1.84</td>\n",
       "      <td>6.32</td>\n",
       "      <td>1.66</td>\n",
       "      <td>2.26</td>\n",
       "      <td>1.570</td>\n",
       "      <td>6.55</td>\n",
       "      <td>2.20</td>\n",
       "      <td>21</td>\n",
       "      <td>F</td>\n",
       "    </tr>\n",
       "    <tr>\n",
       "      <th>10</th>\n",
       "      <td>[-0.848992919921875, 0.0]</td>\n",
       "      <td>7.65</td>\n",
       "      <td>1.58</td>\n",
       "      <td>7.12</td>\n",
       "      <td>1.83</td>\n",
       "      <td>2.95</td>\n",
       "      <td>1.880</td>\n",
       "      <td>5.91</td>\n",
       "      <td>2.15</td>\n",
       "      <td>21</td>\n",
       "      <td>F</td>\n",
       "    </tr>\n",
       "    <tr>\n",
       "      <th>14</th>\n",
       "      <td>[0.8944860839843755, -0.016984252929687502]</td>\n",
       "      <td>6.32</td>\n",
       "      <td>1.76</td>\n",
       "      <td>6.35</td>\n",
       "      <td>2.15</td>\n",
       "      <td>1.75</td>\n",
       "      <td>1.235</td>\n",
       "      <td>7.21</td>\n",
       "      <td>2.05</td>\n",
       "      <td>21</td>\n",
       "      <td>F</td>\n",
       "    </tr>\n",
       "    <tr>\n",
       "      <th>20</th>\n",
       "      <td>[0.6604333496093752, 0.6413775634765618]</td>\n",
       "      <td>7.90</td>\n",
       "      <td>1.53</td>\n",
       "      <td>6.85</td>\n",
       "      <td>2.16</td>\n",
       "      <td>3.10</td>\n",
       "      <td>1.900</td>\n",
       "      <td>6.26</td>\n",
       "      <td>1.98</td>\n",
       "      <td>21</td>\n",
       "      <td>F</td>\n",
       "    </tr>\n",
       "    <tr>\n",
       "      <th>22</th>\n",
       "      <td>[-0.8678228759765627, 0.0]</td>\n",
       "      <td>7.00</td>\n",
       "      <td>2.17</td>\n",
       "      <td>6.44</td>\n",
       "      <td>1.73</td>\n",
       "      <td>2.47</td>\n",
       "      <td>1.520</td>\n",
       "      <td>5.75</td>\n",
       "      <td>2.43</td>\n",
       "      <td>21</td>\n",
       "      <td>F</td>\n",
       "    </tr>\n",
       "  </tbody>\n",
       "</table>\n",
       "</div>"
      ],
      "text/plain": [
       "                                       response  ValenceMean  ValenceSD  \\\n",
       "7                     [-0.889205932617187, 0.0]         6.77       1.84   \n",
       "10                    [-0.848992919921875, 0.0]         7.65       1.58   \n",
       "14  [0.8944860839843755, -0.016984252929687502]         6.32       1.76   \n",
       "20     [0.6604333496093752, 0.6413775634765618]         7.90       1.53   \n",
       "22                   [-0.8678228759765627, 0.0]         7.00       2.17   \n",
       "\n",
       "    ArousalMean  ArousalSD  ValenceMean_image  ValenceSD_image  \\\n",
       "7          6.32       1.66               2.26            1.570   \n",
       "10         7.12       1.83               2.95            1.880   \n",
       "14         6.35       2.15               1.75            1.235   \n",
       "20         6.85       2.16               3.10            1.900   \n",
       "22         6.44       1.73               2.47            1.520   \n",
       "\n",
       "    ArousalMean_image  ArousalSD_image  age sex  \n",
       "7                6.55             2.20   21   F  \n",
       "10               5.91             2.15   21   F  \n",
       "14               7.21             2.05   21   F  \n",
       "20               6.26             1.98   21   F  \n",
       "22               5.75             2.43   21   F  "
      ]
     },
     "execution_count": 144,
     "metadata": {},
     "output_type": "execute_result"
    }
   ],
   "source": [
    "df_pi_ns = df.loc[df['condition_details'] == 'p+s-'] \\\n",
    "    .drop(['condition_details'], axis=1)\n",
    "df_ni_ps = df.loc[df['condition_details'] == 'p-s+'] \\\n",
    "    .drop(['condition_details'], axis=1)\n",
    "    \n",
    "df_ni_ps.head()"
   ]
  },
  {
   "cell_type": "markdown",
   "metadata": {
    "pycharm": {
     "name": "#%% md\n"
    }
   },
   "source": [
    "Stwierdzamy czy typ obrazka wpłynął na zadowolenie osoby badanej\n",
    "piv - positive image valence\n",
    "niv - negative image valence"
   ]
  },
  {
   "cell_type": "code",
   "execution_count": 156,
   "metadata": {
    "pycharm": {
     "is_executing": false,
     "name": "#%%\n"
    }
   },
   "outputs": [
    {
     "data": {
      "text/plain": [
       "'55.57909604519774 % - odsetek przypadków, w których pozytywny obrazek wywołał zadowolenie'"
      ]
     },
     "execution_count": 156,
     "metadata": {},
     "output_type": "execute_result"
    }
   ],
   "source": [
    "piv = sum(list(map(lambda x: 1 if x[0] >= 0 else 0 , df_pi_ns.loc[:,\"response\"]))) / df_pi_ns.loc[:,\"response\"].size\n",
    "\n",
    "f'{piv * 100} % - odsetek przypadków, w których pozytywny obrazek wywołał zadowolenie'"
   ]
  },
  {
   "cell_type": "code",
   "execution_count": 155,
   "metadata": {},
   "outputs": [
    {
     "data": {
      "text/plain": [
       "'74.92559523809523 % - odsetek przypadków, w których negatywny obrazek wywołał niezadowolenie'"
      ]
     },
     "execution_count": 155,
     "metadata": {},
     "output_type": "execute_result"
    }
   ],
   "source": [
    "niv = sum(list(map(lambda x: 1 if x[0] < 0 else 0 , df_ni_ps.loc[:,'response']))) / df_ni_ps.loc[:,'response'].size\n",
    "\n",
    "f'{niv * 100} % - odsetek przypadków, w których negatywny obrazek wywołał niezadowolenie'"
   ]
  },
  {
   "cell_type": "markdown",
   "metadata": {},
   "source": [
    "WNIOSEK: nie stwierdzono wpływu pozytywnego obrazka na zadowolenie, lecz stwierdzo to w przypadku negatywnego\n",
    "\n",
    "Następnie przeprowadzamy ten sam eksperyment, tylko dzielimy próbki ze względu na płeć."
   ]
  },
  {
   "cell_type": "code",
   "execution_count": 187,
   "metadata": {},
   "outputs": [
    {
     "data": {
      "image/png": "[encoded data removed]",
      "text/plain": [
       "<Figure size 1080x360 with 1 Axes>"
      ]
     },
     "metadata": {
      "needs_background": "light"
     },
     "output_type": "display_data"
    }
   ],
   "source": [
    "df_pi_ns_females = df_pi_ns.loc[df_pi_ns['sex'] == 'F'] \n",
    "df_pi_ns_males = df_pi_ns.loc[df_pi_ns['sex'] == 'M'] \n",
    "\n",
    "df_ni_ps_females = df_ni_ps.loc[df_ni_ps['sex'] == 'F'] \n",
    "df_ni_ps_males = df_ni_ps.loc[df_ni_ps['sex'] == 'M']\n",
    "\n",
    "piv_females = sum(list(map(lambda x: 1 if x[0] >= 0 else 0 , df_pi_ns_females.loc[:,\"response\"]))) / df_pi_ns_females.loc[:,\"response\"].size\n",
    "piv_males = sum(list(map(lambda x: 1 if x[0] >= 0 else 0 , df_pi_ns_males.loc[:,\"response\"]))) / df_pi_ns_males.loc[:,\"response\"].size\n",
    "\n",
    "niv_females = sum(list(map(lambda x: 1 if x[0] < 0 else 0 , df_ni_ps_females.loc[:,\"response\"]))) / df_ni_ps_females.loc[:,\"response\"].size\n",
    "niv_males = sum(list(map(lambda x: 1 if x[0] < 0 else 0 , df_ni_ps_males.loc[:,\"response\"]))) / df_ni_ps_males.loc[:,\"response\"].size\n",
    "\n",
    "labels = ['positive img females', 'positive img males', 'negative img females', 'negative img males']\n",
    "values = [piv_females, piv_males, niv_females, niv_males]\n",
    "\n",
    "y_pos = np.arange(len(labels))\n",
    "\n",
    "plt.figure(figsize=(15, 5))\n",
    "plt.bar(y_pos, values, align='center', alpha=1, width=0.3)\n",
    "plt.xticks(y_pos, labels)\n",
    "\n",
    "plt.show()"
   ]
  },
  {
   "cell_type": "markdown",
   "metadata": {},
   "source": [
    "WNIOSEK: Przy negatywnym obrazku nie ma zauważalnych różnic między płciami. W przypadku pozytywnego obrazka mężczyzni wykazują większe zadowolenie niż kobiety. Potwierdza to tezę, że mężczyźni są wzrokowcami."
   ]
  },
  {
   "cell_type": "code",
   "execution_count": null,
   "metadata": {},
   "outputs": [],
   "source": []
  },
  {
   "cell_type": "code",
   "execution_count": null,
   "metadata": {},
   "outputs": [],
   "source": []
  },
  {
   "cell_type": "code",
   "execution_count": null,
   "metadata": {},
   "outputs": [],
   "source": []
  }
 ],
 "metadata": {
  "kernelspec": {
   "display_name": "Python 3",
   "language": "python",
   "name": "python3"
  },
  "language_info": {
   "codemirror_mode": {
    "name": "ipython",
    "version": 3
   },
   "file_extension": ".py",
   "mimetype": "text/x-python",
   "name": "python",
   "nbconvert_exporter": "python",
   "pygments_lexer": "ipython3",
   "version": "3.7.3"
  },
  "pycharm": {
   "stem_cell": {
    "cell_type": "raw",
    "metadata": {
     "collapsed": false
    },
    "source": []
   }
  }
 },
 "nbformat": 4,
 "nbformat_minor": 1
}
