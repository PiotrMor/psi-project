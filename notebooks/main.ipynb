{
 "cells": [
  {
   "cell_type": "markdown",
   "source": [
    "# Projekt PSI\n",
    "Analiza 5: co jest silniejsze w niespójnym warunku (inc): dźwięk vs obraz? a może negatywne vs pozytywne? (np. nieważne czy negatywny jest dźwięk czy obraz, ważne że co najmniej jedno jest negatywne i całość też jest negatywna)\n"
   ],
   "metadata": {
    "collapsed": false
   }
  },
  {
   "cell_type": "markdown",
   "source": [
    "## Loading data"
   ],
   "metadata": {
    "collapsed": false,
    "pycharm": {
     "name": "#%% md\n"
    }
   }
  },
  {
   "cell_type": "code",
   "execution_count": 4,
   "metadata": {
    "collapsed": true,
    "pycharm": {
     "name": "#%%\n",
     "is_executing": false
    }
   },
   "outputs": [],
   "source": [
    "%matplotlib inline\n",
    "import pandas"
   ]
  },
  {
   "cell_type": "code",
   "execution_count": 10,
   "outputs": [
    {
     "name": "stdout",
     "text": [
      "            Sound  Number ValenceMean ValenceSD ArousalMean ArousalSD\n0             Cat     102        4.63      2.17        4.91      1.97\n1         Panting     104        4.96      1.68        5.37      1.66\n2           Puppy     105        2.88      2.14         6.4      2.13\n3          Growl1     106        3.37      1.64        6.39      1.62\n4             Dog     107        5.47      2.22        5.85      1.81\n5        Carousel     109         6.4      2.13        5.64      1.84\n6            Baby     110        7.64       2.1        6.03      1.98\n7        MusicBox     111        6.01      2.19        5.65      1.91\n8           Kids1     112        6.84      1.72        4.46      2.13\n9            Cows     113        5.45      1.71        4.88      1.95\n10         Cattle     114        5.01      1.85        6.04      1.81\n11           Bees     115        2.16      1.33        7.03      1.91\n12        Buzzing     116        3.02      1.65        6.51      2.13\n13        Rooster     120         5.2       2.1        5.41      2.13\n14            Pig     130        4.64      2.11        4.93      1.98\n15       Chickens     132        5.64      1.76        4.77      1.73\n16         Growl2     133        3.79      1.69        6.23      1.84\n17    RattleSnake     134        3.55      1.99        6.98      1.67\n18        Seagull     150        6.95      1.64        4.38      2.22\n19          Robin     151        7.12      1.56        4.47      2.27\n20       Tropical     152        5.23      2.28        5.51      2.23\n21          Night     170        5.31      2.12         4.6      2.07\n22   CountryNight     171        5.59      1.79        3.71      2.05\n23          Brook     172        6.62      1.69        3.36      2.07\n24   EroticCouple     200        6.31      1.93         7.1      1.66\n25     EroticFem1     201         6.7      2.22        7.31      1.86\n26     EroticFem2     202        6.81      2.08        7.13      1.89\n27     EroticFem4     204        5.68      2.16        6.82      1.71\n28     EroticFem3     205        6.47      1.98        6.46      2.06\n29         Shower     206         6.2       1.6         4.4      1.82\n..            ...     ...         ...       ...         ...       ...\n137        Sirens     713        2.95      1.71        6.98      1.53\n138        Siren2     714         3.1      1.67        6.94      1.85\n139         Alarm     715         4.3       2.5        6.99      1.79\n140  SlotMachine1     716           7      2.17        6.44      1.73\n141  SlotMachine2     717        7.32      1.64        6.56      2.19\n142  DentistDrill     719        2.89      1.67        6.91      2.02\n143    BrushTeeth     720        4.86       1.8        4.18      1.79\n144          Beer     721        6.71      1.75           5      2.12\n145       Walking     722        4.83      1.22        4.97      1.82\n146         Radio     723        4.52      1.47        4.42      1.92\n147       Chewing     724        5.34      1.97        4.91      1.74\n148      SodaFizz     725        6.61       1.8        4.55      2.17\n149      CorkPour     726        6.82       1.6        4.51      2.08\n150        Paper1     728        4.72      1.26        4.35      2.09\n151        Paper2     729         4.3      1.69        5.79      1.90\n152    GlassBreak     730        3.22      1.45        6.23      1.78\n153         Crash     732        2.89      1.68        6.98      1.75\n154    NativeSong     802        6.17      1.99        5.29      1.74\n155         Bugle     808        6.32      1.76        6.35      2.15\n156          Harp     809        7.44      1.41        3.36      1.84\n157     Beethoven     810        7.51      1.66        4.18      2.38\n158          Bach     811         7.4      1.63        4.95      2.46\n159         Choir     812         6.9      1.69        3.43      2.56\n160       Wedding     813         7.2      1.86        5.89      2.40\n161     RockNRoll     815         7.9      1.53        6.85      2.16\n162        Guitar     816        6.98       1.9        5.23      2.08\n163        Bongos     817        7.67      1.46        7.15      2.11\n164     FunkMusic     820        6.94      1.98        5.87      1.92\n165      BagPipes     826        6.21      2.12        5.07      2.06\n166   Electricity     910        3.86      1.83        6.18      2.27\n\n[167 rows x 6 columns]\n"
     ],
     "output_type": "stream"
    }
   ],
   "source": [
    "\n",
    "images_params = pandas.read_csv(\"../data/IAPS.csv\", sep=\";\", header=0, decimal=\",\")\n",
    "sounds_params = pandas.read_csv(\"../data/IADS2.csv\", sep=\";\", header=0, decimal=\",\")\n",
    "\n"
   ],
   "metadata": {
    "collapsed": false,
    "pycharm": {
     "name": "#%%\n",
     "is_executing": false
    }
   }
  }
 ],
 "metadata": {
  "language_info": {
   "codemirror_mode": {
    "name": "ipython",
    "version": 2
   },
   "file_extension": ".py",
   "mimetype": "text/x-python",
   "name": "python",
   "nbconvert_exporter": "python",
   "pygments_lexer": "ipython2",
   "version": "2.7.6"
  },
  "kernelspec": {
   "name": "python3",
   "language": "python",
   "display_name": "Python 3"
  },
  "pycharm": {
   "stem_cell": {
    "cell_type": "raw",
    "source": [],
    "metadata": {
     "collapsed": false
    }
   }
  }
 },
 "nbformat": 4,
 "nbformat_minor": 0
}