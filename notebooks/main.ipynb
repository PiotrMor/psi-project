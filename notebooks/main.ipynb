{
 "cells": [
  {
   "cell_type": "markdown",
   "metadata": {},
   "source": [
    "# Projekt PSI\n",
    "Analiza 5: co jest silniejsze w niespójnym warunku (inc): dźwięk vs obraz? \n",
    "a może negatywne vs pozytywne? \n",
    "(np. nieważne czy negatywny jest dźwięk czy obraz, ważne że co najmniej jedno jest negatywne i całość też jest negatywna)\n"
   ]
  },
  {
   "cell_type": "markdown",
   "metadata": {
    "pycharm": {
     "name": "#%% md\n"
    }
   },
   "source": [
    "## Loading data\n"
   ]
  },
  {
   "cell_type": "code",
   "execution_count": 26,
   "metadata": {
    "pycharm": {
     "is_executing": false,
     "name": "#%%\n"
    }
   },
   "outputs": [
    {
     "name": "stdout",
     "output_type": "stream",
     "text": [
      "Filenames Loaded\n"
     ]
    }
   ],
   "source": [
    "%matplotlib inline\n",
    "import os\n",
    "import pandas\n",
    "import matplotlib.pyplot as plt\n",
    "import numpy as np\n",
    "# import seaborn\n",
    "\n",
    "# files that we use, additional windows path handling for windows douche bags\n",
    "if os.name == 'nt':\n",
    "    bitalino_filename = '..\\\\data\\\\bitalino\\\\1107_opensignals_prawestanowisko_2019-04-19_09-11-49.txt'\n",
    "    IADS2_filename = '..\\\\data\\\\IADS2.csv'\n",
    "    df_source_filename = \"..\\\\data\\\\procedura\\\\\"\n",
    "    IAPS_filename = '..\\\\data\\\\IAPS.csv'\n",
    "else:\n",
    "    bitalino_filename = '../data/2019-afcai-spring/bitalino/1107_opensignals_prawestanowisko_2019-04-19_09-11-49.txt'\n",
    "    IADS2_filename = '../data/IADS2.csv'\n",
    "    df_source_filename = \"../data/2019-afcai-spring/procedura/\"\n",
    "    IAPS_filename = '../data/IAPS.csv'\n",
    "    \n",
    "print(\"Filenames Loaded\")"
   ]
  },
  {
   "cell_type": "markdown",
   "metadata": {},
   "source": [
    "Ten sposób jakiś upośledzony jest, można to jakoś mądrzej zrobić. A i w sumie to nam to chyba nie potrzebne xd\n",
    "ODP: na razie to nie będzie potrzebne, tym można się później zajać jako dodatkowa \n",
    "rzecz/rozwinięcie projektu (красный лиса и зелёный лиса, приветствие! который объясняет этого идиота.)"
   ]
  },
  {
   "cell_type": "code",
   "execution_count": 27,
   "metadata": {
    "pycharm": {
     "is_executing": false,
     "name": "#%%\n"
    }
   },
   "outputs": [
    {
     "data": {
      "text/html": [
       "<div>\n",
       "<style scoped>\n",
       "    .dataframe tbody tr th:only-of-type {\n",
       "        vertical-align: middle;\n",
       "    }\n",
       "\n",
       "    .dataframe tbody tr th {\n",
       "        vertical-align: top;\n",
       "    }\n",
       "\n",
       "    .dataframe thead th {\n",
       "        text-align: right;\n",
       "    }\n",
       "</style>\n",
       "<table border=\"1\" class=\"dataframe\">\n",
       "  <thead>\n",
       "    <tr style=\"text-align: right;\">\n",
       "      <th></th>\n",
       "      <th>nSeq</th>\n",
       "      <th>A5</th>\n",
       "      <th>A6</th>\n",
       "    </tr>\n",
       "  </thead>\n",
       "  <tbody>\n",
       "    <tr>\n",
       "      <th>0</th>\n",
       "      <td>1</td>\n",
       "      <td>506</td>\n",
       "      <td>212</td>\n",
       "    </tr>\n",
       "    <tr>\n",
       "      <th>1</th>\n",
       "      <td>2</td>\n",
       "      <td>504</td>\n",
       "      <td>212</td>\n",
       "    </tr>\n",
       "    <tr>\n",
       "      <th>2</th>\n",
       "      <td>3</td>\n",
       "      <td>501</td>\n",
       "      <td>212</td>\n",
       "    </tr>\n",
       "    <tr>\n",
       "      <th>3</th>\n",
       "      <td>4</td>\n",
       "      <td>499</td>\n",
       "      <td>212</td>\n",
       "    </tr>\n",
       "    <tr>\n",
       "      <th>4</th>\n",
       "      <td>5</td>\n",
       "      <td>497</td>\n",
       "      <td>212</td>\n",
       "    </tr>\n",
       "  </tbody>\n",
       "</table>\n",
       "</div>"
      ],
      "text/plain": [
       "   nSeq   A5   A6\n",
       "0     1  506  212\n",
       "1     2  504  212\n",
       "2     3  501  212\n",
       "3     4  499  212\n",
       "4     5  497  212"
      ]
     },
     "execution_count": 27,
     "metadata": {},
     "output_type": "execute_result"
    }
   ],
   "source": [
    "hr = pandas.read_csv(bitalino_filename,\n",
    "                     skiprows=[0,2],\n",
    "                     header=1,\n",
    "                     sep=\"\\t\",\n",
    "                     names=[ \"nSeq\", \"aa\", \"I2\", \"O1\", \"O2\", \"A5\", \"A6\", \"NaN\"])\n",
    "hr = hr.drop([\"aa\", \"I2\", \"O1\", \"O2\", \"NaN\"], \n",
    "             axis=1)\n",
    "hr.head()"
   ]
  },
  {
   "cell_type": "markdown",
   "metadata": {
    "pycharm": {
     "name": "#%% md\n"
    }
   },
   "source": [
    "Wczytanie potrzebnych plików\n"
   ]
  },
  {
   "cell_type": "code",
   "execution_count": 28,
   "metadata": {
    "pycharm": {
     "is_executing": false,
     "name": "#%%\n"
    }
   },
   "outputs": [
    {
     "data": {
      "text/html": [
       "<div>\n",
       "<style scoped>\n",
       "    .dataframe tbody tr th:only-of-type {\n",
       "        vertical-align: middle;\n",
       "    }\n",
       "\n",
       "    .dataframe tbody tr th {\n",
       "        vertical-align: top;\n",
       "    }\n",
       "\n",
       "    .dataframe thead th {\n",
       "        text-align: right;\n",
       "    }\n",
       "</style>\n",
       "<table border=\"1\" class=\"dataframe\">\n",
       "  <thead>\n",
       "    <tr style=\"text-align: right;\">\n",
       "      <th></th>\n",
       "      <th>Sound</th>\n",
       "      <th>Number</th>\n",
       "      <th>ValenceMean</th>\n",
       "      <th>ValenceSD</th>\n",
       "      <th>ArousalMean</th>\n",
       "      <th>ArousalSD</th>\n",
       "    </tr>\n",
       "  </thead>\n",
       "  <tbody>\n",
       "    <tr>\n",
       "      <th>0</th>\n",
       "      <td>Cat</td>\n",
       "      <td>102</td>\n",
       "      <td>4.63</td>\n",
       "      <td>2.17</td>\n",
       "      <td>4.91</td>\n",
       "      <td>1.97</td>\n",
       "    </tr>\n",
       "    <tr>\n",
       "      <th>1</th>\n",
       "      <td>Panting</td>\n",
       "      <td>104</td>\n",
       "      <td>4.96</td>\n",
       "      <td>1.68</td>\n",
       "      <td>5.37</td>\n",
       "      <td>1.66</td>\n",
       "    </tr>\n",
       "    <tr>\n",
       "      <th>2</th>\n",
       "      <td>Puppy</td>\n",
       "      <td>105</td>\n",
       "      <td>2.88</td>\n",
       "      <td>2.14</td>\n",
       "      <td>6.4</td>\n",
       "      <td>2.13</td>\n",
       "    </tr>\n",
       "    <tr>\n",
       "      <th>3</th>\n",
       "      <td>Growl1</td>\n",
       "      <td>106</td>\n",
       "      <td>3.37</td>\n",
       "      <td>1.64</td>\n",
       "      <td>6.39</td>\n",
       "      <td>1.62</td>\n",
       "    </tr>\n",
       "    <tr>\n",
       "      <th>4</th>\n",
       "      <td>Dog</td>\n",
       "      <td>107</td>\n",
       "      <td>5.47</td>\n",
       "      <td>2.22</td>\n",
       "      <td>5.85</td>\n",
       "      <td>1.81</td>\n",
       "    </tr>\n",
       "  </tbody>\n",
       "</table>\n",
       "</div>"
      ],
      "text/plain": [
       "     Sound  Number ValenceMean ValenceSD ArousalMean ArousalSD\n",
       "0      Cat     102        4.63      2.17        4.91      1.97\n",
       "1  Panting     104        4.96      1.68        5.37      1.66\n",
       "2    Puppy     105        2.88      2.14         6.4      2.13\n",
       "3   Growl1     106        3.37      1.64        6.39      1.62\n",
       "4      Dog     107        5.47      2.22        5.85      1.81"
      ]
     },
     "execution_count": 28,
     "metadata": {},
     "output_type": "execute_result"
    }
   ],
   "source": [
    "images_params = pandas.read_csv(IAPS_filename, \n",
    "                                sep=\";\",\n",
    "                                header=0,\n",
    "                                decimal=\",\")\n",
    "sounds_params = pandas.read_csv(IADS2_filename, \n",
    "                                sep=\";\", \n",
    "                                header=0,\n",
    "                                decimal=\",\")\n",
    "\n",
    "images_params.head()\n",
    "sounds_params.head()"
   ]
  },
  {
   "cell_type": "markdown",
   "metadata": {},
   "source": [
    "Zorientowanie się, że istnieją duplikaty w IAPS.\n",
    "Usunięcie kolumny set (bo nie wiemy jak ją interpretować). \n",
    "Zamiana typu kolumny **IAPS** z *float* na *int*.\n",
    "W przypadku tych samych obrazków, a znajdujących się w innych setach bierzemy średnią z parametrów.\n"
   ]
  },
  {
   "cell_type": "code",
   "execution_count": 29,
   "metadata": {
    "pycharm": {
     "is_executing": false,
     "name": "#%%\n"
    }
   },
   "outputs": [
    {
     "name": "stdout",
     "output_type": "stream",
     "text": [
      "Ilość duplikatów w parametrach obrazków 12.\n"
     ]
    }
   ],
   "source": [
    "print(f'Ilość duplikatów w parametrach obrazków'\n",
    "      f' {images_params[images_params.duplicated([\"IAPS\"])].shape[0]}.')\n",
    "\n",
    "images_params.drop(['set'], axis=1)\n",
    "images_params.IAPS = images_params.IAPS.astype(int)\n",
    "images_params = images_params.groupby('IAPS').agg({\n",
    "                                                'ValenceMean': 'mean',\n",
    "                                                'ValenceSD': 'mean',\n",
    "                                                'ArousalMean': 'mean',\n",
    "                                                'ArousalSD': 'mean',\n",
    "                                                   }).reset_index()"
   ]
  },
  {
   "cell_type": "code",
   "execution_count": 30,
   "metadata": {
    "pycharm": {
     "is_executing": false,
     "name": "#%%\n"
    }
   },
   "outputs": [
    {
     "name": "stdout",
     "output_type": "stream",
     "text": [
      "Ilość duplikatów w parametrach dźwięków 0.\n"
     ]
    }
   ],
   "source": [
    "print(f'Ilość duplikatów w parametrach dźwięków'\n",
    "      f' {sounds_params[sounds_params.duplicated([\"Number\"])].shape[0]}.')"
   ]
  },
  {
   "cell_type": "markdown",
   "metadata": {
    "pycharm": {
     "name": "#%% md\n"
    }
   },
   "source": [
    "Złączenie wyników badań i parametrów dźwięków i obrazków (Свекола это сука).\n",
    "Usunięcie wierszy, w których $condition != inc$ i $widget != emospace1$\n",
    "*df* - główny dataframe, na którym pracujemy"
   ]
  },
  {
   "cell_type": "code",
   "execution_count": 31,
   "metadata": {
    "pycharm": {
     "is_executing": false,
     "name": "#%%\n"
    }
   },
   "outputs": [
    {
     "data": {
      "text/html": [
       "<div>\n",
       "<style scoped>\n",
       "    .dataframe tbody tr th:only-of-type {\n",
       "        vertical-align: middle;\n",
       "    }\n",
       "\n",
       "    .dataframe tbody tr th {\n",
       "        vertical-align: top;\n",
       "    }\n",
       "\n",
       "    .dataframe thead th {\n",
       "        text-align: right;\n",
       "    }\n",
       "</style>\n",
       "<table border=\"1\" class=\"dataframe\">\n",
       "  <thead>\n",
       "    <tr style=\"text-align: right;\">\n",
       "      <th></th>\n",
       "      <th>person_id</th>\n",
       "      <th>stimulus_id</th>\n",
       "      <th>condition</th>\n",
       "      <th>condition_details</th>\n",
       "      <th>sound</th>\n",
       "      <th>image</th>\n",
       "      <th>widget</th>\n",
       "      <th>response</th>\n",
       "      <th>response_time</th>\n",
       "      <th>timestamp</th>\n",
       "      <th>Sound</th>\n",
       "      <th>ValenceMean</th>\n",
       "      <th>ValenceSD</th>\n",
       "      <th>ArousalMean</th>\n",
       "      <th>ArousalSD</th>\n",
       "      <th>ValenceMean_image</th>\n",
       "      <th>ValenceSD_image</th>\n",
       "      <th>ArousalMean_image</th>\n",
       "      <th>ArousalSD_image</th>\n",
       "    </tr>\n",
       "  </thead>\n",
       "  <tbody>\n",
       "    <tr>\n",
       "      <th>62</th>\n",
       "      <td>9639</td>\n",
       "      <td>62</td>\n",
       "      <td>inc</td>\n",
       "      <td>p-s+</td>\n",
       "      <td>813</td>\n",
       "      <td>9423</td>\n",
       "      <td>emospace1</td>\n",
       "      <td>[0.13120300292968745, -0.6271185302734379]</td>\n",
       "      <td>4.733757720125141</td>\n",
       "      <td>1.554734e+09</td>\n",
       "      <td>Wedding</td>\n",
       "      <td>7.2</td>\n",
       "      <td>1.86</td>\n",
       "      <td>5.89</td>\n",
       "      <td>2.40</td>\n",
       "      <td>2.61</td>\n",
       "      <td>1.51</td>\n",
       "      <td>5.66</td>\n",
       "      <td>2.15</td>\n",
       "    </tr>\n",
       "    <tr>\n",
       "      <th>63</th>\n",
       "      <td>9639</td>\n",
       "      <td>63</td>\n",
       "      <td>inc</td>\n",
       "      <td>p-s+</td>\n",
       "      <td>355</td>\n",
       "      <td>3150</td>\n",
       "      <td>emospace1</td>\n",
       "      <td>[-0.6211352539062506, 0.3124658203125]</td>\n",
       "      <td>7.750645044710836</td>\n",
       "      <td>1.554734e+09</td>\n",
       "      <td>Crowd4</td>\n",
       "      <td>6.77</td>\n",
       "      <td>1.84</td>\n",
       "      <td>6.32</td>\n",
       "      <td>1.66</td>\n",
       "      <td>2.26</td>\n",
       "      <td>1.57</td>\n",
       "      <td>6.55</td>\n",
       "      <td>2.20</td>\n",
       "    </tr>\n",
       "    <tr>\n",
       "      <th>69</th>\n",
       "      <td>9639</td>\n",
       "      <td>69</td>\n",
       "      <td>inc</td>\n",
       "      <td>p+s-</td>\n",
       "      <td>699</td>\n",
       "      <td>8380</td>\n",
       "      <td>emospace1</td>\n",
       "      <td>[-0.5022534179687497, -0.09232849121093752]</td>\n",
       "      <td>3.216962544785929</td>\n",
       "      <td>1.554734e+09</td>\n",
       "      <td>Bomb</td>\n",
       "      <td>3.59</td>\n",
       "      <td>2.07</td>\n",
       "      <td>6.15</td>\n",
       "      <td>2.36</td>\n",
       "      <td>7.56</td>\n",
       "      <td>1.55</td>\n",
       "      <td>5.74</td>\n",
       "      <td>2.32</td>\n",
       "    </tr>\n",
       "    <tr>\n",
       "      <th>70</th>\n",
       "      <td>9639</td>\n",
       "      <td>70</td>\n",
       "      <td>inc</td>\n",
       "      <td>p+s-</td>\n",
       "      <td>625</td>\n",
       "      <td>5470</td>\n",
       "      <td>emospace1</td>\n",
       "      <td>[-0.2449359130859373, -0.3012628173828126]</td>\n",
       "      <td>7.833582066257804</td>\n",
       "      <td>1.554734e+09</td>\n",
       "      <td>MayDay</td>\n",
       "      <td>3.35</td>\n",
       "      <td>2.03</td>\n",
       "      <td>6.94</td>\n",
       "      <td>1.77</td>\n",
       "      <td>7.35</td>\n",
       "      <td>1.62</td>\n",
       "      <td>6.02</td>\n",
       "      <td>2.26</td>\n",
       "    </tr>\n",
       "    <tr>\n",
       "      <th>74</th>\n",
       "      <td>9639</td>\n",
       "      <td>74</td>\n",
       "      <td>inc</td>\n",
       "      <td>p+s-</td>\n",
       "      <td>283</td>\n",
       "      <td>4659</td>\n",
       "      <td>emospace1</td>\n",
       "      <td>[-0.34471008300781264, -0.2082128906250002]</td>\n",
       "      <td>7.833594672993058</td>\n",
       "      <td>1.554734e+09</td>\n",
       "      <td>Fight3</td>\n",
       "      <td>3.05</td>\n",
       "      <td>1.72</td>\n",
       "      <td>6.2</td>\n",
       "      <td>1.60</td>\n",
       "      <td>6.87</td>\n",
       "      <td>1.99</td>\n",
       "      <td>6.93</td>\n",
       "      <td>2.07</td>\n",
       "    </tr>\n",
       "  </tbody>\n",
       "</table>\n",
       "</div>"
      ],
      "text/plain": [
       "   person_id stimulus_id condition condition_details sound image     widget  \\\n",
       "62      9639          62       inc              p-s+   813  9423  emospace1   \n",
       "63      9639          63       inc              p-s+   355  3150  emospace1   \n",
       "69      9639          69       inc              p+s-   699  8380  emospace1   \n",
       "70      9639          70       inc              p+s-   625  5470  emospace1   \n",
       "74      9639          74       inc              p+s-   283  4659  emospace1   \n",
       "\n",
       "                                       response      response_time  \\\n",
       "62   [0.13120300292968745, -0.6271185302734379]  4.733757720125141   \n",
       "63       [-0.6211352539062506, 0.3124658203125]  7.750645044710836   \n",
       "69  [-0.5022534179687497, -0.09232849121093752]  3.216962544785929   \n",
       "70   [-0.2449359130859373, -0.3012628173828126]  7.833582066257804   \n",
       "74  [-0.34471008300781264, -0.2082128906250002]  7.833594672993058   \n",
       "\n",
       "       timestamp    Sound ValenceMean ValenceSD ArousalMean ArousalSD  \\\n",
       "62  1.554734e+09  Wedding         7.2      1.86        5.89      2.40   \n",
       "63  1.554734e+09   Crowd4        6.77      1.84        6.32      1.66   \n",
       "69  1.554734e+09     Bomb        3.59      2.07        6.15      2.36   \n",
       "70  1.554734e+09   MayDay        3.35      2.03        6.94      1.77   \n",
       "74  1.554734e+09   Fight3        3.05      1.72         6.2      1.60   \n",
       "\n",
       "    ValenceMean_image  ValenceSD_image  ArousalMean_image  ArousalSD_image  \n",
       "62               2.61             1.51               5.66             2.15  \n",
       "63               2.26             1.57               6.55             2.20  \n",
       "69               7.56             1.55               5.74             2.32  \n",
       "70               7.35             1.62               6.02             2.26  \n",
       "74               6.87             1.99               6.93             2.07  "
      ]
     },
     "execution_count": 31,
     "metadata": {},
     "output_type": "execute_result"
    }
   ],
   "source": [
    "df_filenames = list(filter(lambda x: not x.endswith('info.txt'), os.listdir(df_source_filename)))\n",
    "df = pandas.DataFrame()\n",
    "for df_filename in df_filenames:\n",
    "    df = df.append(pandas.read_csv(df_source_filename + df_filename,\n",
    "                                sep=\"\\t\",\n",
    "                                names=[\"person_id\", \"stimulus_id\",\n",
    "                                       \"condition\", \"condition_details\", \n",
    "                                       \"sound\", \"image\", \"widget\",\n",
    "                                       \"response\", \"response_time\", \"timestamp\"]),\n",
    "             ignore_index=True)\n",
    "df = df.loc[df['condition'] == 'inc'] \\\n",
    "    .loc[df['widget'] == 'emospace1']\n",
    "df = df.join(sounds_params.set_index('Number'),\n",
    "                           on=\"sound\",\n",
    "                           rsuffix='_sound')\n",
    "df = df.join(images_params.set_index('IAPS'),\n",
    "                           on='image',\n",
    "                           rsuffix='_image')\n",
    "df.head()"
   ]
  },
  {
   "cell_type": "markdown",
   "metadata": {},
   "source": [
    "Dodanie kolumny płeć."
   ]
  },
  {
   "cell_type": "code",
   "execution_count": 32,
   "metadata": {},
   "outputs": [
    {
     "name": "stdout",
     "output_type": "stream",
     "text": [
      "person_id              int16\n",
      "stimulus_id           object\n",
      "condition             object\n",
      "condition_details     object\n",
      "sound                 object\n",
      "image                 object\n",
      "widget                object\n",
      "response              object\n",
      "response_time         object\n",
      "timestamp            float64\n",
      "Sound                 object\n",
      "ValenceMean          float64\n",
      "ValenceSD            float64\n",
      "ArousalMean          float64\n",
      "ArousalSD            float64\n",
      "ValenceMean_image    float64\n",
      "ValenceSD_image      float64\n",
      "ArousalMean_image    float64\n",
      "ArousalSD_image      float64\n",
      "dtype: object\n",
      "id      int16\n",
      "age      int8\n",
      "sex    object\n",
      "dtype: object\n"
     ]
    }
   ],
   "source": [
    "df_info_filenames = list(filter(lambda x: x.endswith('info.txt'), os.listdir(df_source_filename)))\n",
    "\n",
    "persons_df = pandas.DataFrame()\n",
    "for df_info_filename in df_info_filenames:\n",
    "    persons_df = persons_df.append(pandas.read_csv(df_source_filename + df_info_filename,\n",
    "                                sep=\"\\t\",\n",
    "                                names=[\"id\", \"age\",\n",
    "                                       \"sex\", \"timestamp\"]))\n",
    "persons_df = persons_df.drop(['timestamp'], axis=1)\n",
    "persons_df.set_index('id')\n",
    "persons_df = persons_df.astype({'id': 'int16',\n",
    "                               'age': 'int8',\n",
    "                                'sex': 'str_'\n",
    "                               })\n",
    "df['response'] = [list(map(lambda x: float(x), x.strip('[]').split(','))) for x in df['response']]\n",
    "df = df.astype({'person_id': 'int16',\n",
    "            'condition_details': 'str_',\n",
    "           'ValenceMean': 'float64',\n",
    "           'ValenceSD': 'float64',\n",
    "           'ArousalMean': 'float64',\n",
    "           'ArousalSD': 'float64',\n",
    "          })\n",
    "\n",
    "print(df.dtypes)\n",
    "print(persons_df.dtypes)\n",
    "\n",
    "\n",
    "df = df.join(persons_df.set_index('id'), \n",
    "        on='person_id')"
   ]
  },
  {
   "cell_type": "markdown",
   "metadata": {},
   "source": [
    "Usunięcie niepotrzebnych kolumn z dataframe'a."
   ]
  },
  {
   "cell_type": "code",
   "execution_count": 33,
   "metadata": {
    "pycharm": {
     "is_executing": false,
     "name": "#%%\n"
    }
   },
   "outputs": [
    {
     "data": {
      "text/html": [
       "<div>\n",
       "<style scoped>\n",
       "    .dataframe tbody tr th:only-of-type {\n",
       "        vertical-align: middle;\n",
       "    }\n",
       "\n",
       "    .dataframe tbody tr th {\n",
       "        vertical-align: top;\n",
       "    }\n",
       "\n",
       "    .dataframe thead th {\n",
       "        text-align: right;\n",
       "    }\n",
       "</style>\n",
       "<table border=\"1\" class=\"dataframe\">\n",
       "  <thead>\n",
       "    <tr style=\"text-align: right;\">\n",
       "      <th></th>\n",
       "      <th>condition_details</th>\n",
       "      <th>response</th>\n",
       "      <th>ValenceMean</th>\n",
       "      <th>ValenceSD</th>\n",
       "      <th>ArousalMean</th>\n",
       "      <th>ArousalSD</th>\n",
       "      <th>ValenceMean_image</th>\n",
       "      <th>ValenceSD_image</th>\n",
       "      <th>ArousalMean_image</th>\n",
       "      <th>ArousalSD_image</th>\n",
       "      <th>age</th>\n",
       "      <th>sex</th>\n",
       "    </tr>\n",
       "  </thead>\n",
       "  <tbody>\n",
       "    <tr>\n",
       "      <th>62</th>\n",
       "      <td>p-s+</td>\n",
       "      <td>[0.13120300292968745, -0.6271185302734379]</td>\n",
       "      <td>7.20</td>\n",
       "      <td>1.86</td>\n",
       "      <td>5.89</td>\n",
       "      <td>2.40</td>\n",
       "      <td>2.61</td>\n",
       "      <td>1.51</td>\n",
       "      <td>5.66</td>\n",
       "      <td>2.15</td>\n",
       "      <td>20</td>\n",
       "      <td>F</td>\n",
       "    </tr>\n",
       "    <tr>\n",
       "      <th>63</th>\n",
       "      <td>p-s+</td>\n",
       "      <td>[-0.6211352539062506, 0.3124658203125]</td>\n",
       "      <td>6.77</td>\n",
       "      <td>1.84</td>\n",
       "      <td>6.32</td>\n",
       "      <td>1.66</td>\n",
       "      <td>2.26</td>\n",
       "      <td>1.57</td>\n",
       "      <td>6.55</td>\n",
       "      <td>2.20</td>\n",
       "      <td>20</td>\n",
       "      <td>F</td>\n",
       "    </tr>\n",
       "    <tr>\n",
       "      <th>69</th>\n",
       "      <td>p+s-</td>\n",
       "      <td>[-0.5022534179687497, -0.09232849121093752]</td>\n",
       "      <td>3.59</td>\n",
       "      <td>2.07</td>\n",
       "      <td>6.15</td>\n",
       "      <td>2.36</td>\n",
       "      <td>7.56</td>\n",
       "      <td>1.55</td>\n",
       "      <td>5.74</td>\n",
       "      <td>2.32</td>\n",
       "      <td>20</td>\n",
       "      <td>F</td>\n",
       "    </tr>\n",
       "    <tr>\n",
       "      <th>70</th>\n",
       "      <td>p+s-</td>\n",
       "      <td>[-0.2449359130859373, -0.3012628173828126]</td>\n",
       "      <td>3.35</td>\n",
       "      <td>2.03</td>\n",
       "      <td>6.94</td>\n",
       "      <td>1.77</td>\n",
       "      <td>7.35</td>\n",
       "      <td>1.62</td>\n",
       "      <td>6.02</td>\n",
       "      <td>2.26</td>\n",
       "      <td>20</td>\n",
       "      <td>F</td>\n",
       "    </tr>\n",
       "    <tr>\n",
       "      <th>74</th>\n",
       "      <td>p+s-</td>\n",
       "      <td>[-0.34471008300781264, -0.2082128906250002]</td>\n",
       "      <td>3.05</td>\n",
       "      <td>1.72</td>\n",
       "      <td>6.20</td>\n",
       "      <td>1.60</td>\n",
       "      <td>6.87</td>\n",
       "      <td>1.99</td>\n",
       "      <td>6.93</td>\n",
       "      <td>2.07</td>\n",
       "      <td>20</td>\n",
       "      <td>F</td>\n",
       "    </tr>\n",
       "  </tbody>\n",
       "</table>\n",
       "</div>"
      ],
      "text/plain": [
       "   condition_details                                     response  \\\n",
       "62              p-s+   [0.13120300292968745, -0.6271185302734379]   \n",
       "63              p-s+       [-0.6211352539062506, 0.3124658203125]   \n",
       "69              p+s-  [-0.5022534179687497, -0.09232849121093752]   \n",
       "70              p+s-   [-0.2449359130859373, -0.3012628173828126]   \n",
       "74              p+s-  [-0.34471008300781264, -0.2082128906250002]   \n",
       "\n",
       "    ValenceMean  ValenceSD  ArousalMean  ArousalSD  ValenceMean_image  \\\n",
       "62         7.20       1.86         5.89       2.40               2.61   \n",
       "63         6.77       1.84         6.32       1.66               2.26   \n",
       "69         3.59       2.07         6.15       2.36               7.56   \n",
       "70         3.35       2.03         6.94       1.77               7.35   \n",
       "74         3.05       1.72         6.20       1.60               6.87   \n",
       "\n",
       "    ValenceSD_image  ArousalMean_image  ArousalSD_image  age sex  \n",
       "62             1.51               5.66             2.15   20   F  \n",
       "63             1.57               6.55             2.20   20   F  \n",
       "69             1.55               5.74             2.32   20   F  \n",
       "70             1.62               6.02             2.26   20   F  \n",
       "74             1.99               6.93             2.07   20   F  "
      ]
     },
     "execution_count": 33,
     "metadata": {},
     "output_type": "execute_result"
    }
   ],
   "source": [
    "df = df.drop(['person_id', 'stimulus_id', 'condition',\n",
    "         'sound', 'image', 'widget',\n",
    "         'response_time', 'timestamp', 'Sound'],\n",
    "                axis=1)\n",
    "df.head()"
   ]
  },
  {
   "cell_type": "markdown",
   "metadata": {
    "pycharm": {
     "name": "#%% md\n"
    }
   },
   "source": [
    "Dzielimy dataframe'a na tabelę gdzię obrazek jest pozytywny \n",
    "i dźwięk negatytwny (df_pi_ns) oraz na odwrót (df_ni_ps).\n",
    "  "
   ]
  },
  {
   "cell_type": "code",
   "execution_count": 34,
   "metadata": {
    "pycharm": {
     "is_executing": false,
     "name": "#%%\n"
    }
   },
   "outputs": [
    {
     "data": {
      "text/html": [
       "<div>\n",
       "<style scoped>\n",
       "    .dataframe tbody tr th:only-of-type {\n",
       "        vertical-align: middle;\n",
       "    }\n",
       "\n",
       "    .dataframe tbody tr th {\n",
       "        vertical-align: top;\n",
       "    }\n",
       "\n",
       "    .dataframe thead th {\n",
       "        text-align: right;\n",
       "    }\n",
       "</style>\n",
       "<table border=\"1\" class=\"dataframe\">\n",
       "  <thead>\n",
       "    <tr style=\"text-align: right;\">\n",
       "      <th></th>\n",
       "      <th>response</th>\n",
       "      <th>ValenceMean</th>\n",
       "      <th>ValenceSD</th>\n",
       "      <th>ArousalMean</th>\n",
       "      <th>ArousalSD</th>\n",
       "      <th>ValenceMean_image</th>\n",
       "      <th>ValenceSD_image</th>\n",
       "      <th>ArousalMean_image</th>\n",
       "      <th>ArousalSD_image</th>\n",
       "      <th>age</th>\n",
       "      <th>sex</th>\n",
       "    </tr>\n",
       "  </thead>\n",
       "  <tbody>\n",
       "    <tr>\n",
       "      <th>62</th>\n",
       "      <td>[0.13120300292968745, -0.6271185302734379]</td>\n",
       "      <td>7.20</td>\n",
       "      <td>1.86</td>\n",
       "      <td>5.89</td>\n",
       "      <td>2.40</td>\n",
       "      <td>2.610</td>\n",
       "      <td>1.510</td>\n",
       "      <td>5.66</td>\n",
       "      <td>2.15</td>\n",
       "      <td>20</td>\n",
       "      <td>F</td>\n",
       "    </tr>\n",
       "    <tr>\n",
       "      <th>63</th>\n",
       "      <td>[-0.6211352539062506, 0.3124658203125]</td>\n",
       "      <td>6.77</td>\n",
       "      <td>1.84</td>\n",
       "      <td>6.32</td>\n",
       "      <td>1.66</td>\n",
       "      <td>2.260</td>\n",
       "      <td>1.570</td>\n",
       "      <td>6.55</td>\n",
       "      <td>2.20</td>\n",
       "      <td>20</td>\n",
       "      <td>F</td>\n",
       "    </tr>\n",
       "    <tr>\n",
       "      <th>75</th>\n",
       "      <td>[0.4682550048828131, 0.17689147949218748]</td>\n",
       "      <td>6.31</td>\n",
       "      <td>1.93</td>\n",
       "      <td>7.10</td>\n",
       "      <td>1.66</td>\n",
       "      <td>3.805</td>\n",
       "      <td>1.545</td>\n",
       "      <td>5.52</td>\n",
       "      <td>2.36</td>\n",
       "      <td>20</td>\n",
       "      <td>F</td>\n",
       "    </tr>\n",
       "    <tr>\n",
       "      <th>80</th>\n",
       "      <td>[-0.4515728759765626, -0.2763409423828126]</td>\n",
       "      <td>6.70</td>\n",
       "      <td>2.22</td>\n",
       "      <td>7.31</td>\n",
       "      <td>1.86</td>\n",
       "      <td>2.100</td>\n",
       "      <td>1.360</td>\n",
       "      <td>6.53</td>\n",
       "      <td>2.21</td>\n",
       "      <td>20</td>\n",
       "      <td>F</td>\n",
       "    </tr>\n",
       "    <tr>\n",
       "      <th>81</th>\n",
       "      <td>[0.6628399658203121, 0.4529986572265624]</td>\n",
       "      <td>7.90</td>\n",
       "      <td>1.53</td>\n",
       "      <td>6.85</td>\n",
       "      <td>2.16</td>\n",
       "      <td>3.100</td>\n",
       "      <td>1.900</td>\n",
       "      <td>6.26</td>\n",
       "      <td>1.98</td>\n",
       "      <td>20</td>\n",
       "      <td>F</td>\n",
       "    </tr>\n",
       "  </tbody>\n",
       "</table>\n",
       "</div>"
      ],
      "text/plain": [
       "                                      response  ValenceMean  ValenceSD  \\\n",
       "62  [0.13120300292968745, -0.6271185302734379]         7.20       1.86   \n",
       "63      [-0.6211352539062506, 0.3124658203125]         6.77       1.84   \n",
       "75   [0.4682550048828131, 0.17689147949218748]         6.31       1.93   \n",
       "80  [-0.4515728759765626, -0.2763409423828126]         6.70       2.22   \n",
       "81    [0.6628399658203121, 0.4529986572265624]         7.90       1.53   \n",
       "\n",
       "    ArousalMean  ArousalSD  ValenceMean_image  ValenceSD_image  \\\n",
       "62         5.89       2.40              2.610            1.510   \n",
       "63         6.32       1.66              2.260            1.570   \n",
       "75         7.10       1.66              3.805            1.545   \n",
       "80         7.31       1.86              2.100            1.360   \n",
       "81         6.85       2.16              3.100            1.900   \n",
       "\n",
       "    ArousalMean_image  ArousalSD_image  age sex  \n",
       "62               5.66             2.15   20   F  \n",
       "63               6.55             2.20   20   F  \n",
       "75               5.52             2.36   20   F  \n",
       "80               6.53             2.21   20   F  \n",
       "81               6.26             1.98   20   F  "
      ]
     },
     "execution_count": 34,
     "metadata": {},
     "output_type": "execute_result"
    }
   ],
   "source": [
    "df_pi_ns = df.loc[df['condition_details'] == 'p+s-'] \\\n",
    "    .drop(['condition_details'], axis=1)\n",
    "df_ni_ps = df.loc[df['condition_details'] == 'p-s+'] \\\n",
    "    .drop(['condition_details'], axis=1)\n",
    "    \n",
    "df_ni_ps.head()"
   ]
  },
  {
   "cell_type": "markdown",
   "metadata": {
    "pycharm": {
     "name": "#%% md\n"
    }
   },
   "source": [
    "Stwierdzamy czy typ obrazka wpłynął na zadowolenie osoby badanej\n",
    "piv - positive image valence\n",
    "niv - negative image valence"
   ]
  },
  {
   "cell_type": "code",
   "execution_count": 35,
   "metadata": {
    "pycharm": {
     "is_executing": false,
     "name": "#%%\n"
    }
   },
   "outputs": [
    {
     "data": {
      "text/plain": [
       "'55.58% - odsetek przypadków, w których pozytywny obrazek wywołał zadowolenie'"
      ]
     },
     "execution_count": 35,
     "metadata": {},
     "output_type": "execute_result"
    }
   ],
   "source": [
    "piv = sum(list(map(lambda x: 1 if x[0] >= 0 else 0 , df_pi_ns.loc[:,\"response\"]))) / df_pi_ns.loc[:,\"response\"].size\n",
    "\n",
    "f'{piv * 100:.2f}% - odsetek przypadków, w których pozytywny obrazek wywołał zadowolenie'"
   ]
  },
  {
   "cell_type": "code",
   "execution_count": 36,
   "metadata": {},
   "outputs": [
    {
     "data": {
      "text/plain": [
       "'74.93% - odsetek przypadków, w których negatywny obrazek wywołał niezadowolenie'"
      ]
     },
     "execution_count": 36,
     "metadata": {},
     "output_type": "execute_result"
    }
   ],
   "source": [
    "niv = sum(list(map(lambda x: 1 if x[0] < 0 else 0 , df_ni_ps.loc[:,'response']))) / df_ni_ps.loc[:,'response'].size\n",
    "\n",
    "f'{niv * 100:.2f}% - odsetek przypadków, w których negatywny obrazek wywołał niezadowolenie'"
   ]
  },
  {
   "cell_type": "markdown",
   "metadata": {},
   "source": [
    "WNIOSEK: nie stwierdzono wpływu pozytywnego obrazka na zadowolenie, lecz stwierdzo to w przypadku negatywnego\n",
    "\n",
    "Następnie przeprowadzamy ten sam eksperyment, tylko dzielimy próbki ze względu na płeć."
   ]
  },
  {
   "cell_type": "code",
   "execution_count": 37,
   "metadata": {},
   "outputs": [],
   "source": [
    "df_pi_ns_females = df_pi_ns.loc[df_pi_ns['sex'] == 'F'] \n",
    "df_pi_ns_males = df_pi_ns.loc[df_pi_ns['sex'] == 'M'] \n",
    "\n",
    "df_ni_ps_females = df_ni_ps.loc[df_ni_ps['sex'] == 'F'] \n",
    "df_ni_ps_males = df_ni_ps.loc[df_ni_ps['sex'] == 'M']"
   ]
  },
  {
   "cell_type": "code",
   "execution_count": 38,
   "metadata": {},
   "outputs": [
    {
     "name": "stdout",
     "output_type": "stream",
     "text": [
      "47.68% - odsetek przypadków wśród kobiet, w których pozytywny obrazek wywołał zadowolenie\n",
      "58.79% - odsetek przypadków wśród mężczyzn, w których pozytywny obrazek wywołał zadowolenie\n",
      "75.62% - odsetek przypadków wśród kobiet, w których negatywny obrazek wywołał niezadowolenie\n",
      "74.63% - odsetek przypadków wśród mężczyzn, w których negatywny obrazek wywołał niezadowolenie\n"
     ]
    }
   ],
   "source": [
    "piv_females = sum(list(map(lambda x: 1 if x[0] >= 0 else 0 , df_pi_ns_females.loc[:,\"response\"]))) / df_pi_ns_females.loc[:,\"response\"].size\n",
    "print(f'{piv_females * 100:.2f}% - odsetek przypadków wśród kobiet, w których pozytywny obrazek wywołał zadowolenie')\n",
    "piv_males = sum(list(map(lambda x: 1 if x[0] >= 0 else 0 , df_pi_ns_males.loc[:,\"response\"]))) / df_pi_ns_males.loc[:,\"response\"].size\n",
    "print(f'{piv_males * 100:.2f}% - odsetek przypadków wśród mężczyzn, w których pozytywny obrazek wywołał zadowolenie')\n",
    "\n",
    "niv_females = sum(list(map(lambda x: 1 if x[0] < 0 else 0 , df_ni_ps_females.loc[:,\"response\"]))) / df_ni_ps_females.loc[:,\"response\"].size\n",
    "print(f'{niv_females * 100:.2f}% - odsetek przypadków wśród kobiet, w których negatywny obrazek wywołał niezadowolenie')\n",
    "niv_males = sum(list(map(lambda x: 1 if x[0] < 0 else 0 , df_ni_ps_males.loc[:,\"response\"]))) / df_ni_ps_males.loc[:,\"response\"].size\n",
    "print(f'{niv_males * 100:.2f}% - odsetek przypadków wśród mężczyzn, w których negatywny obrazek wywołał niezadowolenie')"
   ]
  },
  {
   "cell_type": "code",
   "execution_count": 39,
   "metadata": {},
   "outputs": [
    {
     "data": {
      "image/png": "[encoded data removed]",
      "text/plain": [
       "<Figure size 1080x360 with 1 Axes>"
      ]
     },
     "metadata": {
      "needs_background": "light"
     },
     "output_type": "display_data"
    }
   ],
   "source": [
    "labels = ['positive img females', 'positive img males', 'negative img females', 'negative img males']\n",
    "values = [piv_females, piv_males, niv_females, niv_males]\n",
    "\n",
    "y_pos = np.arange(len(labels))\n",
    "\n",
    "plt.figure(figsize=(15, 5))\n",
    "plt.bar(y_pos, values, align='center', alpha=1, width=0.3)\n",
    "plt.xticks(y_pos, labels)\n",
    "\n",
    "plt.show()"
   ]
  },
  {
   "cell_type": "markdown",
   "metadata": {},
   "source": [
    "WNIOSEK: Przy negatywnym obrazku nie ma zauważalnych różnic między płciami. W przypadku pozytywnego obrazka mężczyzni wykazują większe zadowolenie niż kobiety. Potwierdza to tezę, że mężczyźni są wzrokowcami."
   ]
  },
  {
   "cell_type": "markdown",
   "metadata": {},
   "source": [
    "### Analiza powyższych przyadków odrzucając niektóre wyniki\n",
    "Odrzucono wyniki, które znajdowały się w odległości $0.1$ od $0$, z uwagi na przypuszcze o ich złej jakości (Мэтью)"
   ]
  },
  {
   "cell_type": "code",
   "execution_count": 40,
   "metadata": {},
   "outputs": [],
   "source": [
    "def filter_responses(df, interval=-1):    \n",
    "    responses = list(map(lambda x: x, df.loc[:,\"response\"]))\n",
    "    filtered_responses = list(filter(lambda v: -interval > v[0] or v[0] > interval, responses))\n",
    "    print(f'Odrzucono {100 - (len(filtered_responses) / len(responses) * 100):.2f}% wszystkich odpowiedzi.')\n",
    "    return filtered_responses\n",
    "\n",
    "interval = 0.1"
   ]
  },
  {
   "cell_type": "code",
   "execution_count": 41,
   "metadata": {},
   "outputs": [
    {
     "name": "stdout",
     "output_type": "stream",
     "text": [
      "Odrzucono 27.54% wszystkich odpowiedzi.\n"
     ]
    },
    {
     "data": {
      "text/plain": [
       "'48.93% - odsetek przypadków, w których pozytywny obrazek wywołał zadowolenie'"
      ]
     },
     "execution_count": 41,
     "metadata": {},
     "output_type": "execute_result"
    }
   ],
   "source": [
    "filtered_piv = filter_responses(df_pi_ns, interval)\n",
    "filtered_piv_percentage = sum(list(map(lambda x: 1 if x[0] >= 0 else 0 , filtered_piv))) / len(filtered_piv)\n",
    "\n",
    "f'{filtered_piv_percentage * 100:.2f}% - odsetek przypadków, w których pozytywny obrazek wywołał zadowolenie'"
   ]
  },
  {
   "cell_type": "code",
   "execution_count": 42,
   "metadata": {},
   "outputs": [
    {
     "name": "stdout",
     "output_type": "stream",
     "text": [
      "Odrzucono 15.92% wszystkich odpowiedzi.\n"
     ]
    },
    {
     "data": {
      "text/plain": [
       "'83.36% - odsetek przypadków, w których negatywny obrazek wywołał niezadowolenie'"
      ]
     },
     "execution_count": 42,
     "metadata": {},
     "output_type": "execute_result"
    }
   ],
   "source": [
    "filtered_niv = filter_responses(df_ni_ps, interval)\n",
    "filtered_niv_percentage = sum(list(map(lambda x: 1 if x[0] < 0 else 0 , filtered_niv))) / len(filtered_niv)\n",
    "\n",
    "f'{filtered_niv_percentage * 100:.2f}% - odsetek przypadków, w których negatywny obrazek wywołał niezadowolenie'"
   ]
  },
  {
   "cell_type": "code",
   "execution_count": 43,
   "metadata": {},
   "outputs": [
    {
     "name": "stdout",
     "output_type": "stream",
     "text": [
      "Odrzucono 26.65% wszystkich odpowiedzi.\n"
     ]
    },
    {
     "data": {
      "text/plain": [
       "'41.33% - odsetek przypadków wśród kobiet, w których pozytywny obrazek wywołał zadowolenie'"
      ]
     },
     "execution_count": 43,
     "metadata": {},
     "output_type": "execute_result"
    }
   ],
   "source": [
    "filtered_piv_females = filter_responses(df_pi_ns_females, interval)\n",
    "filtered_piv_females_percentage = sum(list(map(lambda x: 1 if x[0] >= 0 else 0 , filtered_piv_females))) / len(filtered_piv_females)\n",
    "\n",
    "f'{filtered_piv_females_percentage * 100:.2f}% - odsetek przypadków wśród kobiet, w których pozytywny obrazek wywołał zadowolenie'"
   ]
  },
  {
   "cell_type": "code",
   "execution_count": 44,
   "metadata": {},
   "outputs": [
    {
     "name": "stdout",
     "output_type": "stream",
     "text": [
      "Odrzucono 27.90% wszystkich odpowiedzi.\n"
     ]
    },
    {
     "data": {
      "text/plain": [
       "'52.07% - odsetek przypadków wśród mężczyzn, w których pozytywny obrazek wywołał zadowolenie'"
      ]
     },
     "execution_count": 44,
     "metadata": {},
     "output_type": "execute_result"
    }
   ],
   "source": [
    "filtered_piv_males = filter_responses(df_pi_ns_males, interval)\n",
    "filtered_piv_males_percentage = sum(list(map(lambda x: 1 if x[0] >= 0 else 0 , filtered_piv_males))) / len(filtered_piv_males)\n",
    "\n",
    "f'{filtered_piv_males_percentage * 100:.2f}% - odsetek przypadków wśród mężczyzn, w których pozytywny obrazek wywołał zadowolenie'"
   ]
  },
  {
   "cell_type": "code",
   "execution_count": 45,
   "metadata": {},
   "outputs": [
    {
     "name": "stdout",
     "output_type": "stream",
     "text": [
      "Odrzucono 15.02% wszystkich odpowiedzi.\n"
     ]
    },
    {
     "data": {
      "text/plain": [
       "'85.22% - odsetek przypadków wśród kobiet, w których negatywny obrazek wywołał niezadowolenie'"
      ]
     },
     "execution_count": 45,
     "metadata": {},
     "output_type": "execute_result"
    }
   ],
   "source": [
    "filtered_niv_females = filter_responses(df_ni_ps_females, interval)\n",
    "filtered_niv_females_percentage = sum(list(map(lambda x: 1 if x[0] < 0 else 0 , filtered_niv_females))) / len(filtered_niv_females)\n",
    "\n",
    "f'{filtered_niv_females_percentage * 100:.2f}% - odsetek przypadków wśród kobiet, w których negatywny obrazek wywołał niezadowolenie'"
   ]
  },
  {
   "cell_type": "code",
   "execution_count": 46,
   "metadata": {},
   "outputs": [
    {
     "name": "stdout",
     "output_type": "stream",
     "text": [
      "Odrzucono 16.31% wszystkich odpowiedzi.\n"
     ]
    },
    {
     "data": {
      "text/plain": [
       "'82.55% - odsetek przypadków wśród mężczyzn, w których negatywny obrazek wywołał niezadowolenie'"
      ]
     },
     "execution_count": 46,
     "metadata": {},
     "output_type": "execute_result"
    }
   ],
   "source": [
    "filtered_niv_males = filter_responses(df_ni_ps_males, interval)\n",
    "filtered_niv_males_percentage = sum(list(map(lambda x: 1 if x[0] < 0 else 0 , filtered_niv_males))) / len(filtered_niv_males)\n",
    "\n",
    "f'{filtered_niv_males_percentage * 100:.2f}% - odsetek przypadków wśród mężczyzn, w których negatywny obrazek wywołał niezadowolenie'"
   ]
  },
  {
   "cell_type": "code",
   "execution_count": 47,
   "metadata": {},
   "outputs": [
    {
     "data": {
      "image/png": "[encoded data removed]",
      "text/plain": [
       "<Figure size 1080x360 with 1 Axes>"
      ]
     },
     "metadata": {
      "needs_background": "light"
     },
     "output_type": "display_data"
    }
   ],
   "source": [
    "labels = ['positive img females', 'positive img males', 'negative img females', 'negative img males']\n",
    "values = [filtered_piv_females_percentage, filtered_piv_males_percentage, filtered_niv_females_percentage, filtered_niv_males_percentage]\n",
    "\n",
    "y_pos = np.arange(len(labels))\n",
    "\n",
    "plt.figure(figsize=(15, 5))\n",
    "plt.bar(y_pos, values, align='center', alpha=1, width=0.3)\n",
    "plt.xticks(y_pos, labels)\n",
    "\n",
    "plt.show()"
   ]
  },
  {
   "cell_type": "markdown",
   "metadata": {},
   "source": [
    "WNIOSEK: Wpływ negatywnego obrazka na negatywny wynik zadowolenia jest dużo większy. Kobiety bardziej zwracają uwagę (względem odgłosów) na obrazki negatywne, zaś mężczyźni na obrazki pozytywne."
   ]
  }
 ],
 "metadata": {
  "kernelspec": {
   "display_name": "Python 3",
   "language": "python",
   "name": "python3"
  },
  "language_info": {
   "codemirror_mode": {
    "name": "ipython",
    "version": 3
   },
   "file_extension": ".py",
   "mimetype": "text/x-python",
   "name": "python",
   "nbconvert_exporter": "python",
   "pygments_lexer": "ipython3",
   "version": "3.7.3"
  },
  "pycharm": {
   "stem_cell": {
    "cell_type": "raw",
    "metadata": {
     "collapsed": false
    },
    "source": []
   }
  }
 },
 "nbformat": 4,
 "nbformat_minor": 1
}
