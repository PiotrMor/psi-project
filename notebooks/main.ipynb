{
 "cells": [
  {
   "cell_type": "markdown",
   "metadata": {},
   "source": [
    "# Projekt PSI\n",
    "Analiza 5: co jest silniejsze w niespójnym warunku (inc): dźwięk vs obraz? \n",
    "a może negatywne vs pozytywne? \n",
    "(np. nieważne czy negatywny jest dźwięk czy obraz, ważne że co najmniej jedno jest negatywne i całość też jest negatywna)\n"
   ]
  },
  {
   "cell_type": "markdown",
   "metadata": {
    "pycharm": {
     "name": "#%% md\n"
    }
   },
   "source": [
    "## Loading data\n"
   ]
  },
  {
   "cell_type": "code",
   "execution_count": 30,
   "metadata": {
    "pycharm": {
     "is_executing": false,
     "name": "#%%\n"
    }
   },
   "outputs": [
    {
     "name": "stdout",
     "output_type": "stream",
     "text": [
      "['bitalino', 'procedura', 'space', 'freud']\n",
      "Filenames Loaded\n"
     ]
    }
   ],
   "source": [
    "%matplotlib inline\n",
    "import os\n",
    "import pandas\n",
    "import matplotlib.pyplot as plt\n",
    "#import seaborn\n",
    "\n",
    "print(os.listdir(\"../data/2019-afcai-spring\"))\n",
    "\n",
    "# files that we use, additional windows path handling for windows douche bags\n",
    "if os.name == 'nt':\n",
    "    bitalino_filename = '..\\\\data\\\\bitalino\\\\1107_opensignals_prawestanowisko_2019-04-19_09-11-49.txt'\n",
    "    IADS2_filename = '..\\\\data\\\\IADS2.csv'\n",
    "    df_source_filename = \"..\\\\data\\\\procedura\\\\\"\n",
    "    IAPS_filename = '..\\\\data\\\\IAPS.csv'\n",
    "else:\n",
    "    bitalino_filename = '../data/2019-afcai-spring/bitalino/1107_opensignals_prawestanowisko_2019-04-19_09-11-49.txt'\n",
    "    IADS2_filename = '../data/IADS2.csv'\n",
    "    df_source_filename = \"../data/2019-afcai-spring/procedura/\"\n",
    "    IAPS_filename = '../data/IAPS.csv'\n",
    "    \n",
    "print(\"Filenames Loaded\")"
   ]
  },
  {
   "cell_type": "markdown",
   "metadata": {},
   "source": [
    "Ten sposób jakiś upośledzony jest, można to jakoś mądrzej zrobić. A i w sumie to nam to chyba nie potrzebne xd\n",
    "ODP: na razie to nie będzie potrzebne, tym można się później zajać jako dodatkowa \n",
    "rzecz/rozwinięcie projektu (красный лиса и зелёный лиса, приветствие! который объясняет этого идиота.)"
   ]
  },
  {
   "cell_type": "code",
   "execution_count": 31,
   "metadata": {
    "pycharm": {
     "is_executing": false,
     "name": "#%%\n"
    }
   },
   "outputs": [
    {
     "data": {
      "text/html": [
       "<div>\n",
       "<style scoped>\n",
       "    .dataframe tbody tr th:only-of-type {\n",
       "        vertical-align: middle;\n",
       "    }\n",
       "\n",
       "    .dataframe tbody tr th {\n",
       "        vertical-align: top;\n",
       "    }\n",
       "\n",
       "    .dataframe thead th {\n",
       "        text-align: right;\n",
       "    }\n",
       "</style>\n",
       "<table border=\"1\" class=\"dataframe\">\n",
       "  <thead>\n",
       "    <tr style=\"text-align: right;\">\n",
       "      <th></th>\n",
       "      <th>nSeq</th>\n",
       "      <th>A5</th>\n",
       "      <th>A6</th>\n",
       "    </tr>\n",
       "  </thead>\n",
       "  <tbody>\n",
       "    <tr>\n",
       "      <th>0</th>\n",
       "      <td>1</td>\n",
       "      <td>506</td>\n",
       "      <td>212</td>\n",
       "    </tr>\n",
       "    <tr>\n",
       "      <th>1</th>\n",
       "      <td>2</td>\n",
       "      <td>504</td>\n",
       "      <td>212</td>\n",
       "    </tr>\n",
       "    <tr>\n",
       "      <th>2</th>\n",
       "      <td>3</td>\n",
       "      <td>501</td>\n",
       "      <td>212</td>\n",
       "    </tr>\n",
       "    <tr>\n",
       "      <th>3</th>\n",
       "      <td>4</td>\n",
       "      <td>499</td>\n",
       "      <td>212</td>\n",
       "    </tr>\n",
       "    <tr>\n",
       "      <th>4</th>\n",
       "      <td>5</td>\n",
       "      <td>497</td>\n",
       "      <td>212</td>\n",
       "    </tr>\n",
       "  </tbody>\n",
       "</table>\n",
       "</div>"
      ],
      "text/plain": [
       "   nSeq   A5   A6\n",
       "0     1  506  212\n",
       "1     2  504  212\n",
       "2     3  501  212\n",
       "3     4  499  212\n",
       "4     5  497  212"
      ]
     },
     "execution_count": 31,
     "metadata": {},
     "output_type": "execute_result"
    }
   ],
   "source": [
    "hr = pandas.read_csv(bitalino_filename,\n",
    "                     skiprows=[0,2],\n",
    "                     header=1,\n",
    "                     sep=\"\\t\",\n",
    "                     names=[ \"nSeq\", \"aa\", \"I2\", \"O1\", \"O2\", \"A5\", \"A6\", \"NaN\"])\n",
    "hr = hr.drop([\"aa\", \"I2\", \"O1\", \"O2\", \"NaN\"], \n",
    "             axis=1)\n",
    "hr.head()"
   ]
  },
  {
   "cell_type": "markdown",
   "metadata": {
    "pycharm": {
     "name": "#%% md\n"
    }
   },
   "source": [
    "Wczytanie potrzebnych plików\n"
   ]
  },
  {
   "cell_type": "code",
   "execution_count": 32,
   "metadata": {
    "pycharm": {
     "is_executing": false,
     "name": "#%%\n"
    }
   },
   "outputs": [
    {
     "data": {
      "text/html": [
       "<div>\n",
       "<style scoped>\n",
       "    .dataframe tbody tr th:only-of-type {\n",
       "        vertical-align: middle;\n",
       "    }\n",
       "\n",
       "    .dataframe tbody tr th {\n",
       "        vertical-align: top;\n",
       "    }\n",
       "\n",
       "    .dataframe thead th {\n",
       "        text-align: right;\n",
       "    }\n",
       "</style>\n",
       "<table border=\"1\" class=\"dataframe\">\n",
       "  <thead>\n",
       "    <tr style=\"text-align: right;\">\n",
       "      <th></th>\n",
       "      <th>Sound</th>\n",
       "      <th>Number</th>\n",
       "      <th>ValenceMean</th>\n",
       "      <th>ValenceSD</th>\n",
       "      <th>ArousalMean</th>\n",
       "      <th>ArousalSD</th>\n",
       "    </tr>\n",
       "  </thead>\n",
       "  <tbody>\n",
       "    <tr>\n",
       "      <th>0</th>\n",
       "      <td>Cat</td>\n",
       "      <td>102</td>\n",
       "      <td>4.63</td>\n",
       "      <td>2.17</td>\n",
       "      <td>4.91</td>\n",
       "      <td>1.97</td>\n",
       "    </tr>\n",
       "    <tr>\n",
       "      <th>1</th>\n",
       "      <td>Panting</td>\n",
       "      <td>104</td>\n",
       "      <td>4.96</td>\n",
       "      <td>1.68</td>\n",
       "      <td>5.37</td>\n",
       "      <td>1.66</td>\n",
       "    </tr>\n",
       "    <tr>\n",
       "      <th>2</th>\n",
       "      <td>Puppy</td>\n",
       "      <td>105</td>\n",
       "      <td>2.88</td>\n",
       "      <td>2.14</td>\n",
       "      <td>6.4</td>\n",
       "      <td>2.13</td>\n",
       "    </tr>\n",
       "    <tr>\n",
       "      <th>3</th>\n",
       "      <td>Growl1</td>\n",
       "      <td>106</td>\n",
       "      <td>3.37</td>\n",
       "      <td>1.64</td>\n",
       "      <td>6.39</td>\n",
       "      <td>1.62</td>\n",
       "    </tr>\n",
       "    <tr>\n",
       "      <th>4</th>\n",
       "      <td>Dog</td>\n",
       "      <td>107</td>\n",
       "      <td>5.47</td>\n",
       "      <td>2.22</td>\n",
       "      <td>5.85</td>\n",
       "      <td>1.81</td>\n",
       "    </tr>\n",
       "  </tbody>\n",
       "</table>\n",
       "</div>"
      ],
      "text/plain": [
       "     Sound  Number ValenceMean ValenceSD ArousalMean ArousalSD\n",
       "0      Cat     102        4.63      2.17        4.91      1.97\n",
       "1  Panting     104        4.96      1.68        5.37      1.66\n",
       "2    Puppy     105        2.88      2.14         6.4      2.13\n",
       "3   Growl1     106        3.37      1.64        6.39      1.62\n",
       "4      Dog     107        5.47      2.22        5.85      1.81"
      ]
     },
     "execution_count": 32,
     "metadata": {},
     "output_type": "execute_result"
    }
   ],
   "source": [
    "images_params = pandas.read_csv(IAPS_filename, \n",
    "                                sep=\";\",\n",
    "                                header=0,\n",
    "                                decimal=\",\")\n",
    "sounds_params = pandas.read_csv(IADS2_filename, \n",
    "                                sep=\";\", \n",
    "                                header=0,\n",
    "                                decimal=\",\")\n",
    "\n",
    "images_params.head()\n",
    "sounds_params.head()"
   ]
  },
  {
   "cell_type": "markdown",
   "metadata": {},
   "source": [
    "Zorientowanie się, że istnieją duplikaty w IAPS.\n",
    "Usunięcie kolumny set (bo nie wiemy jak ją interpretować). \n",
    "Zamiana typu kolumny **IAPS** z *float* na *int*.\n",
    "W przypadku tych samych obrazków, a znajdujących się w innych setach bierzemy średnią z parametrów.\n"
   ]
  },
  {
   "cell_type": "code",
   "execution_count": 33,
   "metadata": {
    "pycharm": {
     "is_executing": false,
     "name": "#%%\n"
    }
   },
   "outputs": [
    {
     "name": "stdout",
     "output_type": "stream",
     "text": [
      "Ilość duplikatów w parametrach obrazków 12.\n"
     ]
    }
   ],
   "source": [
    "print(f'Ilość duplikatów w parametrach obrazków'\n",
    "      f' {images_params[images_params.duplicated([\"IAPS\"])].shape[0]}.')\n",
    "\n",
    "images_params.drop(['set'], axis=1)\n",
    "images_params.IAPS = images_params.IAPS.astype(int)\n",
    "images_params = images_params.groupby('IAPS').agg({\n",
    "                                                'ValenceMean': 'mean',\n",
    "                                                'ValenceSD': 'mean',\n",
    "                                                'ArousalMean': 'mean',\n",
    "                                                'ArousalSD': 'mean',\n",
    "                                                   }).reset_index()"
   ]
  },
  {
   "cell_type": "code",
   "execution_count": 34,
   "metadata": {
    "pycharm": {
     "is_executing": false,
     "name": "#%%\n"
    }
   },
   "outputs": [
    {
     "name": "stdout",
     "output_type": "stream",
     "text": [
      "Ilość duplikatów w parametrach dźwięków 0.\n"
     ]
    }
   ],
   "source": [
    "print(f'Ilość duplikatów w parametrach dźwięków'\n",
    "      f' {sounds_params[sounds_params.duplicated([\"Number\"])].shape[0]}.')"
   ]
  },
  {
   "cell_type": "markdown",
   "metadata": {
    "pycharm": {
     "name": "#%% md\n"
    }
   },
   "source": [
    "Złączenie wyników badań i parametrów dźwięków i obrazków (Свекола это сука).\n",
    "Usunięcie wierszy, w których $condition != inc$ i $widget != emospace1$\n",
    "*df* - główny dataframe, na którym pracujemy"
   ]
  },
  {
   "cell_type": "code",
   "execution_count": 35,
   "metadata": {
    "pycharm": {
     "is_executing": false,
     "name": "#%%\n"
    }
   },
   "outputs": [
    {
     "data": {
      "text/html": [
       "<div>\n",
       "<style scoped>\n",
       "    .dataframe tbody tr th:only-of-type {\n",
       "        vertical-align: middle;\n",
       "    }\n",
       "\n",
       "    .dataframe tbody tr th {\n",
       "        vertical-align: top;\n",
       "    }\n",
       "\n",
       "    .dataframe thead th {\n",
       "        text-align: right;\n",
       "    }\n",
       "</style>\n",
       "<table border=\"1\" class=\"dataframe\">\n",
       "  <thead>\n",
       "    <tr style=\"text-align: right;\">\n",
       "      <th></th>\n",
       "      <th>person_id</th>\n",
       "      <th>stimulus_id</th>\n",
       "      <th>condition</th>\n",
       "      <th>condition_details</th>\n",
       "      <th>sound</th>\n",
       "      <th>image</th>\n",
       "      <th>widget</th>\n",
       "      <th>response</th>\n",
       "      <th>response_time</th>\n",
       "      <th>timestamp</th>\n",
       "      <th>Sound</th>\n",
       "      <th>ValenceMean</th>\n",
       "      <th>ValenceSD</th>\n",
       "      <th>ArousalMean</th>\n",
       "      <th>ArousalSD</th>\n",
       "      <th>ValenceMean_image</th>\n",
       "      <th>ValenceSD_image</th>\n",
       "      <th>ArousalMean_image</th>\n",
       "      <th>ArousalSD_image</th>\n",
       "    </tr>\n",
       "  </thead>\n",
       "  <tbody>\n",
       "    <tr>\n",
       "      <th>62</th>\n",
       "      <td>9639</td>\n",
       "      <td>62</td>\n",
       "      <td>inc</td>\n",
       "      <td>p-s+</td>\n",
       "      <td>813</td>\n",
       "      <td>9423</td>\n",
       "      <td>emospace1</td>\n",
       "      <td>[0.13120300292968745, -0.6271185302734379]</td>\n",
       "      <td>4.733757720125141</td>\n",
       "      <td>1.554734e+09</td>\n",
       "      <td>Wedding</td>\n",
       "      <td>7.2</td>\n",
       "      <td>1.86</td>\n",
       "      <td>5.89</td>\n",
       "      <td>2.40</td>\n",
       "      <td>2.61</td>\n",
       "      <td>1.51</td>\n",
       "      <td>5.66</td>\n",
       "      <td>2.15</td>\n",
       "    </tr>\n",
       "    <tr>\n",
       "      <th>63</th>\n",
       "      <td>9639</td>\n",
       "      <td>63</td>\n",
       "      <td>inc</td>\n",
       "      <td>p-s+</td>\n",
       "      <td>355</td>\n",
       "      <td>3150</td>\n",
       "      <td>emospace1</td>\n",
       "      <td>[-0.6211352539062506, 0.3124658203125]</td>\n",
       "      <td>7.750645044710836</td>\n",
       "      <td>1.554734e+09</td>\n",
       "      <td>Crowd4</td>\n",
       "      <td>6.77</td>\n",
       "      <td>1.84</td>\n",
       "      <td>6.32</td>\n",
       "      <td>1.66</td>\n",
       "      <td>2.26</td>\n",
       "      <td>1.57</td>\n",
       "      <td>6.55</td>\n",
       "      <td>2.20</td>\n",
       "    </tr>\n",
       "    <tr>\n",
       "      <th>69</th>\n",
       "      <td>9639</td>\n",
       "      <td>69</td>\n",
       "      <td>inc</td>\n",
       "      <td>p+s-</td>\n",
       "      <td>699</td>\n",
       "      <td>8380</td>\n",
       "      <td>emospace1</td>\n",
       "      <td>[-0.5022534179687497, -0.09232849121093752]</td>\n",
       "      <td>3.216962544785929</td>\n",
       "      <td>1.554734e+09</td>\n",
       "      <td>Bomb</td>\n",
       "      <td>3.59</td>\n",
       "      <td>2.07</td>\n",
       "      <td>6.15</td>\n",
       "      <td>2.36</td>\n",
       "      <td>7.56</td>\n",
       "      <td>1.55</td>\n",
       "      <td>5.74</td>\n",
       "      <td>2.32</td>\n",
       "    </tr>\n",
       "    <tr>\n",
       "      <th>70</th>\n",
       "      <td>9639</td>\n",
       "      <td>70</td>\n",
       "      <td>inc</td>\n",
       "      <td>p+s-</td>\n",
       "      <td>625</td>\n",
       "      <td>5470</td>\n",
       "      <td>emospace1</td>\n",
       "      <td>[-0.2449359130859373, -0.3012628173828126]</td>\n",
       "      <td>7.833582066257804</td>\n",
       "      <td>1.554734e+09</td>\n",
       "      <td>MayDay</td>\n",
       "      <td>3.35</td>\n",
       "      <td>2.03</td>\n",
       "      <td>6.94</td>\n",
       "      <td>1.77</td>\n",
       "      <td>7.35</td>\n",
       "      <td>1.62</td>\n",
       "      <td>6.02</td>\n",
       "      <td>2.26</td>\n",
       "    </tr>\n",
       "    <tr>\n",
       "      <th>74</th>\n",
       "      <td>9639</td>\n",
       "      <td>74</td>\n",
       "      <td>inc</td>\n",
       "      <td>p+s-</td>\n",
       "      <td>283</td>\n",
       "      <td>4659</td>\n",
       "      <td>emospace1</td>\n",
       "      <td>[-0.34471008300781264, -0.2082128906250002]</td>\n",
       "      <td>7.833594672993058</td>\n",
       "      <td>1.554734e+09</td>\n",
       "      <td>Fight3</td>\n",
       "      <td>3.05</td>\n",
       "      <td>1.72</td>\n",
       "      <td>6.2</td>\n",
       "      <td>1.60</td>\n",
       "      <td>6.87</td>\n",
       "      <td>1.99</td>\n",
       "      <td>6.93</td>\n",
       "      <td>2.07</td>\n",
       "    </tr>\n",
       "  </tbody>\n",
       "</table>\n",
       "</div>"
      ],
      "text/plain": [
       "   person_id stimulus_id condition condition_details sound image     widget  \\\n",
       "62      9639          62       inc              p-s+   813  9423  emospace1   \n",
       "63      9639          63       inc              p-s+   355  3150  emospace1   \n",
       "69      9639          69       inc              p+s-   699  8380  emospace1   \n",
       "70      9639          70       inc              p+s-   625  5470  emospace1   \n",
       "74      9639          74       inc              p+s-   283  4659  emospace1   \n",
       "\n",
       "                                       response      response_time  \\\n",
       "62   [0.13120300292968745, -0.6271185302734379]  4.733757720125141   \n",
       "63       [-0.6211352539062506, 0.3124658203125]  7.750645044710836   \n",
       "69  [-0.5022534179687497, -0.09232849121093752]  3.216962544785929   \n",
       "70   [-0.2449359130859373, -0.3012628173828126]  7.833582066257804   \n",
       "74  [-0.34471008300781264, -0.2082128906250002]  7.833594672993058   \n",
       "\n",
       "       timestamp    Sound ValenceMean ValenceSD ArousalMean ArousalSD  \\\n",
       "62  1.554734e+09  Wedding         7.2      1.86        5.89      2.40   \n",
       "63  1.554734e+09   Crowd4        6.77      1.84        6.32      1.66   \n",
       "69  1.554734e+09     Bomb        3.59      2.07        6.15      2.36   \n",
       "70  1.554734e+09   MayDay        3.35      2.03        6.94      1.77   \n",
       "74  1.554734e+09   Fight3        3.05      1.72         6.2      1.60   \n",
       "\n",
       "    ValenceMean_image  ValenceSD_image  ArousalMean_image  ArousalSD_image  \n",
       "62               2.61             1.51               5.66             2.15  \n",
       "63               2.26             1.57               6.55             2.20  \n",
       "69               7.56             1.55               5.74             2.32  \n",
       "70               7.35             1.62               6.02             2.26  \n",
       "74               6.87             1.99               6.93             2.07  "
      ]
     },
     "execution_count": 35,
     "metadata": {},
     "output_type": "execute_result"
    }
   ],
   "source": [
    "df_filenames = list(filter(lambda x: not x.endswith('info.txt'), os.listdir(df_source_filename)))\n",
    "df = pandas.DataFrame()\n",
    "for df_filename in df_filenames:\n",
    "    df = df.append(pandas.read_csv(df_source_filename + df_filename,\n",
    "                                sep=\"\\t\",\n",
    "                                names=[\"person_id\", \"stimulus_id\",\n",
    "                                       \"condition\", \"condition_details\", \n",
    "                                       \"sound\", \"image\", \"widget\",\n",
    "                                       \"response\", \"response_time\", \"timestamp\"]),\n",
    "             ignore_index=True)\n",
    "df = df.loc[df['condition'] == 'inc'] \\\n",
    "    .loc[df['widget'] == 'emospace1']\n",
    "df = df.join(sounds_params.set_index('Number'),\n",
    "                           on=\"sound\",\n",
    "                           rsuffix='_sound')\n",
    "df = df.join(images_params.set_index('IAPS'),\n",
    "                           on='image',\n",
    "                           rsuffix='_image')\n",
    "df.head()"
   ]
  },
  {
   "cell_type": "markdown",
   "metadata": {},
   "source": [
    "Usunięcie niepotrzebnych kolumn z dataframe'a.\n"
   ]
  },
  {
   "cell_type": "code",
   "execution_count": 36,
   "metadata": {
    "pycharm": {
     "is_executing": false,
     "name": "#%%\n"
    }
   },
   "outputs": [
    {
     "data": {
      "text/html": [
       "<div>\n",
       "<style scoped>\n",
       "    .dataframe tbody tr th:only-of-type {\n",
       "        vertical-align: middle;\n",
       "    }\n",
       "\n",
       "    .dataframe tbody tr th {\n",
       "        vertical-align: top;\n",
       "    }\n",
       "\n",
       "    .dataframe thead th {\n",
       "        text-align: right;\n",
       "    }\n",
       "</style>\n",
       "<table border=\"1\" class=\"dataframe\">\n",
       "  <thead>\n",
       "    <tr style=\"text-align: right;\">\n",
       "      <th></th>\n",
       "      <th>condition_details</th>\n",
       "      <th>response</th>\n",
       "      <th>ValenceMean</th>\n",
       "      <th>ValenceSD</th>\n",
       "      <th>ArousalMean</th>\n",
       "      <th>ArousalSD</th>\n",
       "      <th>ValenceMean_image</th>\n",
       "      <th>ValenceSD_image</th>\n",
       "      <th>ArousalMean_image</th>\n",
       "      <th>ArousalSD_image</th>\n",
       "    </tr>\n",
       "  </thead>\n",
       "  <tbody>\n",
       "    <tr>\n",
       "      <th>62</th>\n",
       "      <td>p-s+</td>\n",
       "      <td>[0.13120300292968745, -0.6271185302734379]</td>\n",
       "      <td>7.2</td>\n",
       "      <td>1.86</td>\n",
       "      <td>5.89</td>\n",
       "      <td>2.40</td>\n",
       "      <td>2.61</td>\n",
       "      <td>1.51</td>\n",
       "      <td>5.66</td>\n",
       "      <td>2.15</td>\n",
       "    </tr>\n",
       "    <tr>\n",
       "      <th>63</th>\n",
       "      <td>p-s+</td>\n",
       "      <td>[-0.6211352539062506, 0.3124658203125]</td>\n",
       "      <td>6.77</td>\n",
       "      <td>1.84</td>\n",
       "      <td>6.32</td>\n",
       "      <td>1.66</td>\n",
       "      <td>2.26</td>\n",
       "      <td>1.57</td>\n",
       "      <td>6.55</td>\n",
       "      <td>2.20</td>\n",
       "    </tr>\n",
       "    <tr>\n",
       "      <th>69</th>\n",
       "      <td>p+s-</td>\n",
       "      <td>[-0.5022534179687497, -0.09232849121093752]</td>\n",
       "      <td>3.59</td>\n",
       "      <td>2.07</td>\n",
       "      <td>6.15</td>\n",
       "      <td>2.36</td>\n",
       "      <td>7.56</td>\n",
       "      <td>1.55</td>\n",
       "      <td>5.74</td>\n",
       "      <td>2.32</td>\n",
       "    </tr>\n",
       "    <tr>\n",
       "      <th>70</th>\n",
       "      <td>p+s-</td>\n",
       "      <td>[-0.2449359130859373, -0.3012628173828126]</td>\n",
       "      <td>3.35</td>\n",
       "      <td>2.03</td>\n",
       "      <td>6.94</td>\n",
       "      <td>1.77</td>\n",
       "      <td>7.35</td>\n",
       "      <td>1.62</td>\n",
       "      <td>6.02</td>\n",
       "      <td>2.26</td>\n",
       "    </tr>\n",
       "    <tr>\n",
       "      <th>74</th>\n",
       "      <td>p+s-</td>\n",
       "      <td>[-0.34471008300781264, -0.2082128906250002]</td>\n",
       "      <td>3.05</td>\n",
       "      <td>1.72</td>\n",
       "      <td>6.2</td>\n",
       "      <td>1.60</td>\n",
       "      <td>6.87</td>\n",
       "      <td>1.99</td>\n",
       "      <td>6.93</td>\n",
       "      <td>2.07</td>\n",
       "    </tr>\n",
       "  </tbody>\n",
       "</table>\n",
       "</div>"
      ],
      "text/plain": [
       "   condition_details                                     response ValenceMean  \\\n",
       "62              p-s+   [0.13120300292968745, -0.6271185302734379]         7.2   \n",
       "63              p-s+       [-0.6211352539062506, 0.3124658203125]        6.77   \n",
       "69              p+s-  [-0.5022534179687497, -0.09232849121093752]        3.59   \n",
       "70              p+s-   [-0.2449359130859373, -0.3012628173828126]        3.35   \n",
       "74              p+s-  [-0.34471008300781264, -0.2082128906250002]        3.05   \n",
       "\n",
       "   ValenceSD ArousalMean ArousalSD  ValenceMean_image  ValenceSD_image  \\\n",
       "62      1.86        5.89      2.40               2.61             1.51   \n",
       "63      1.84        6.32      1.66               2.26             1.57   \n",
       "69      2.07        6.15      2.36               7.56             1.55   \n",
       "70      2.03        6.94      1.77               7.35             1.62   \n",
       "74      1.72         6.2      1.60               6.87             1.99   \n",
       "\n",
       "    ArousalMean_image  ArousalSD_image  \n",
       "62               5.66             2.15  \n",
       "63               6.55             2.20  \n",
       "69               5.74             2.32  \n",
       "70               6.02             2.26  \n",
       "74               6.93             2.07  "
      ]
     },
     "execution_count": 36,
     "metadata": {},
     "output_type": "execute_result"
    }
   ],
   "source": [
    "df = df.drop(['person_id', 'stimulus_id', 'condition',\n",
    "         'sound', 'image', 'widget',\n",
    "         'response_time', 'timestamp', 'Sound'],\n",
    "                axis=1)\n",
    "df.head()"
   ]
  },
  {
   "cell_type": "code",
   "execution_count": 37,
   "metadata": {
    "pycharm": {
     "is_executing": false,
     "name": "#%%\n"
    }
   },
   "outputs": [
    {
     "data": {
      "text/plain": [
       "condition_details     object\n",
       "response              object\n",
       "ValenceMean           object\n",
       "ValenceSD             object\n",
       "ArousalMean           object\n",
       "ArousalSD             object\n",
       "ValenceMean_image    float64\n",
       "ValenceSD_image      float64\n",
       "ArousalMean_image    float64\n",
       "ArousalSD_image      float64\n",
       "dtype: object"
      ]
     },
     "execution_count": 37,
     "metadata": {},
     "output_type": "execute_result"
    }
   ],
   "source": [
    "df['response'] = [list(map(lambda x: float(x), x.strip('[]').split(','))) for x in df['response']]\n",
    "\n",
    "df.dtypes"
   ]
  },
  {
   "cell_type": "markdown",
   "metadata": {
    "pycharm": {
     "name": "#%% md\n"
    }
   },
   "source": [
    "Dzielimy dataframe'a na tabelę gdzię obrazek jest pozytywny \n",
    "i dźwięk negatytwny (df_pi_ns) oraz na odwrót (df_ni_ps).\n",
    "  "
   ]
  },
  {
   "cell_type": "code",
   "execution_count": 38,
   "metadata": {
    "pycharm": {
     "is_executing": false,
     "name": "#%%\n"
    }
   },
   "outputs": [
    {
     "data": {
      "text/html": [
       "<div>\n",
       "<style scoped>\n",
       "    .dataframe tbody tr th:only-of-type {\n",
       "        vertical-align: middle;\n",
       "    }\n",
       "\n",
       "    .dataframe tbody tr th {\n",
       "        vertical-align: top;\n",
       "    }\n",
       "\n",
       "    .dataframe thead th {\n",
       "        text-align: right;\n",
       "    }\n",
       "</style>\n",
       "<table border=\"1\" class=\"dataframe\">\n",
       "  <thead>\n",
       "    <tr style=\"text-align: right;\">\n",
       "      <th></th>\n",
       "      <th>response</th>\n",
       "      <th>ValenceMean</th>\n",
       "      <th>ValenceSD</th>\n",
       "      <th>ArousalMean</th>\n",
       "      <th>ArousalSD</th>\n",
       "      <th>ValenceMean_image</th>\n",
       "      <th>ValenceSD_image</th>\n",
       "      <th>ArousalMean_image</th>\n",
       "      <th>ArousalSD_image</th>\n",
       "    </tr>\n",
       "  </thead>\n",
       "  <tbody>\n",
       "    <tr>\n",
       "      <th>62</th>\n",
       "      <td>[0.13120300292968745, -0.6271185302734379]</td>\n",
       "      <td>7.2</td>\n",
       "      <td>1.86</td>\n",
       "      <td>5.89</td>\n",
       "      <td>2.40</td>\n",
       "      <td>2.610</td>\n",
       "      <td>1.510</td>\n",
       "      <td>5.66</td>\n",
       "      <td>2.15</td>\n",
       "    </tr>\n",
       "    <tr>\n",
       "      <th>63</th>\n",
       "      <td>[-0.6211352539062506, 0.3124658203125]</td>\n",
       "      <td>6.77</td>\n",
       "      <td>1.84</td>\n",
       "      <td>6.32</td>\n",
       "      <td>1.66</td>\n",
       "      <td>2.260</td>\n",
       "      <td>1.570</td>\n",
       "      <td>6.55</td>\n",
       "      <td>2.20</td>\n",
       "    </tr>\n",
       "    <tr>\n",
       "      <th>75</th>\n",
       "      <td>[0.4682550048828131, 0.17689147949218748]</td>\n",
       "      <td>6.31</td>\n",
       "      <td>1.93</td>\n",
       "      <td>7.1</td>\n",
       "      <td>1.66</td>\n",
       "      <td>3.805</td>\n",
       "      <td>1.545</td>\n",
       "      <td>5.52</td>\n",
       "      <td>2.36</td>\n",
       "    </tr>\n",
       "    <tr>\n",
       "      <th>80</th>\n",
       "      <td>[-0.4515728759765626, -0.2763409423828126]</td>\n",
       "      <td>6.7</td>\n",
       "      <td>2.22</td>\n",
       "      <td>7.31</td>\n",
       "      <td>1.86</td>\n",
       "      <td>2.100</td>\n",
       "      <td>1.360</td>\n",
       "      <td>6.53</td>\n",
       "      <td>2.21</td>\n",
       "    </tr>\n",
       "    <tr>\n",
       "      <th>81</th>\n",
       "      <td>[0.6628399658203121, 0.4529986572265624]</td>\n",
       "      <td>7.9</td>\n",
       "      <td>1.53</td>\n",
       "      <td>6.85</td>\n",
       "      <td>2.16</td>\n",
       "      <td>3.100</td>\n",
       "      <td>1.900</td>\n",
       "      <td>6.26</td>\n",
       "      <td>1.98</td>\n",
       "    </tr>\n",
       "  </tbody>\n",
       "</table>\n",
       "</div>"
      ],
      "text/plain": [
       "                                      response ValenceMean ValenceSD  \\\n",
       "62  [0.13120300292968745, -0.6271185302734379]         7.2      1.86   \n",
       "63      [-0.6211352539062506, 0.3124658203125]        6.77      1.84   \n",
       "75   [0.4682550048828131, 0.17689147949218748]        6.31      1.93   \n",
       "80  [-0.4515728759765626, -0.2763409423828126]         6.7      2.22   \n",
       "81    [0.6628399658203121, 0.4529986572265624]         7.9      1.53   \n",
       "\n",
       "   ArousalMean ArousalSD  ValenceMean_image  ValenceSD_image  \\\n",
       "62        5.89      2.40              2.610            1.510   \n",
       "63        6.32      1.66              2.260            1.570   \n",
       "75         7.1      1.66              3.805            1.545   \n",
       "80        7.31      1.86              2.100            1.360   \n",
       "81        6.85      2.16              3.100            1.900   \n",
       "\n",
       "    ArousalMean_image  ArousalSD_image  \n",
       "62               5.66             2.15  \n",
       "63               6.55             2.20  \n",
       "75               5.52             2.36  \n",
       "80               6.53             2.21  \n",
       "81               6.26             1.98  "
      ]
     },
     "execution_count": 38,
     "metadata": {},
     "output_type": "execute_result"
    }
   ],
   "source": [
    "df_pi_ns = df.loc[df['condition_details'] == 'p+s-'] \\\n",
    "    .drop(['condition_details'], axis=1)\n",
    "df_ni_ps = df.loc[df['condition_details'] == 'p-s+'] \\\n",
    "    .drop(['condition_details'], axis=1)\n",
    "    \n",
    "df_ni_ps.head()\n"
   ]
  },
  {
   "cell_type": "markdown",
   "metadata": {
    "pycharm": {
     "name": "#%% md\n"
    }
   },
   "source": [
    "Stwierdzamy czy typ obrazka wpłynął na zadowolenie osoby badanej\n"
   ]
  },
  {
   "cell_type": "code",
   "execution_count": 39,
   "metadata": {
    "pycharm": {
     "is_executing": false,
     "name": "#%%\n"
    }
   },
   "outputs": [
    {
     "data": {
      "text/plain": [
       "0.5557909604519774"
      ]
     },
     "execution_count": 39,
     "metadata": {},
     "output_type": "execute_result"
    }
   ],
   "source": [
    "sum(list(map(lambda x: 1 if x[0] >= 0 else 0 , df_pi_ns.loc[:,'response']))) / df_pi_ns.loc[:,'response'].size"
   ]
  },
  {
   "cell_type": "code",
   "execution_count": 40,
   "metadata": {},
   "outputs": [
    {
     "data": {
      "text/plain": [
       "0.2507440476190476"
      ]
     },
     "execution_count": 40,
     "metadata": {},
     "output_type": "execute_result"
    }
   ],
   "source": [
    "sum(list(map(lambda x: 1 if x[0] >= 0 else 0 , df_ni_ps.loc[:,'response']))) / df_ni_ps.loc[:,'response'].size"
   ]
  },
  {
   "cell_type": "code",
   "execution_count": null,
   "metadata": {},
   "outputs": [],
   "source": []
  }
 ],
 "metadata": {
  "kernelspec": {
   "display_name": "Python 3",
   "language": "python",
   "name": "python3"
  },
  "language_info": {
   "codemirror_mode": {
    "name": "ipython",
    "version": 3
   },
   "file_extension": ".py",
   "mimetype": "text/x-python",
   "name": "python",
   "nbconvert_exporter": "python",
   "pygments_lexer": "ipython3",
   "version": "3.7.3"
  },
  "pycharm": {
   "stem_cell": {
    "cell_type": "raw",
    "source": [],
    "metadata": {
     "collapsed": false
    }
   }
  }
 },
 "nbformat": 4,
 "nbformat_minor": 1
}