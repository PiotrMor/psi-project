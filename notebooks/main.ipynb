{
 "cells": [
  {
   "cell_type": "markdown",
   "source": [
    "# Projekt PSI\n",
    "Analiza 5: co jest silniejsze w niespójnym warunku (inc): dźwięk vs obraz? \n",
    "a może negatywne vs pozytywne? \n",
    "(np. nieważne czy negatywny jest dźwięk czy obraz, ważne że co najmniej jedno jest negatywne i całość też jest negatywna)\n"
   ],
   "metadata": {
    "collapsed": false
   }
  },
  {
   "cell_type": "markdown",
   "source": [
    "## Loading data\n"
   ],
   "metadata": {
    "collapsed": false,
    "pycharm": {
     "name": "#%% md\n"
    }
   }
  },
  {
   "cell_type": "code",
   "execution_count": 115,
   "metadata": {
    "collapsed": true,
    "pycharm": {
     "name": "#%%\n",
     "is_executing": false
    }
   },
   "outputs": [
    {
     "name": "stdout",
     "text": [
      "Filenames Loaded\n"
     ],
     "output_type": "stream"
    }
   ],
   "source": [
    "%matplotlib inline\n",
    "import os\n",
    "import pandas\n",
    "import matplotlib.pyplot as plt\n",
    "import seaborn\n",
    "\n",
    "# files that we use, additional windows path handling for windows douche bags\n",
    "if os.name == 'nt':\n",
    "    bitalino_filename = 'bitalino\\\\1107_opensignals_prawestanowisko_2019-04-19_09-11-49.txt'\n",
    "    IADS2_filename = 'IADS2.csv'\n",
    "    df_filename = \"procedura\\\\1107_2019_Apr_19_0712.txt\"\n",
    "    IAPS_filename = 'IAPS.csv'\n",
    "else:\n",
    "    bitalino_filename = '../data/2019-afcai-spring/bitalino/1107_opensignals_prawestanowisko_2019-04-19_09-11-49.txt'\n",
    "    IADS2_filename = '../data/IADS2.csv'\n",
    "    df_filename = \"../data/procedura/1107_2019_Apr_19_0712.txt\"\n",
    "    IAPS_filename = '../data/IAPS.csv'\n",
    "\n",
    "print(\"Filenames Loaded\")\n"
   ]
  },
  {
   "cell_type": "markdown",
   "source": [
    "Ten sposób jakiś upośledzony jest, można to jakoś mądrzej zrobić. A i w sumie to nam to chyba nie potrzebne xd\n",
    "ODP: na razie to nie będzie potrzebne, tym można się później zajać jako dodatkowa \n",
    "rzecz/rozwinięcie projektu (красный лиса и зелёный лиса, приветствие! который объясняет этого идиота.)"
   ],
   "metadata": {
    "collapsed": false
   }
  },
  {
   "cell_type": "code",
   "execution_count": 116,
   "outputs": [
    {
     "data": {
      "text/plain": "   nSeq   A5   A6\n0     1  506  212\n1     2  504  212\n2     3  501  212\n3     4  499  212\n4     5  497  212",
      "text/html": "<div>\n<style scoped>\n    .dataframe tbody tr th:only-of-type {\n        vertical-align: middle;\n    }\n\n    .dataframe tbody tr th {\n        vertical-align: top;\n    }\n\n    .dataframe thead th {\n        text-align: right;\n    }\n</style>\n<table border=\"1\" class=\"dataframe\">\n  <thead>\n    <tr style=\"text-align: right;\">\n      <th></th>\n      <th>nSeq</th>\n      <th>A5</th>\n      <th>A6</th>\n    </tr>\n  </thead>\n  <tbody>\n    <tr>\n      <th>0</th>\n      <td>1</td>\n      <td>506</td>\n      <td>212</td>\n    </tr>\n    <tr>\n      <th>1</th>\n      <td>2</td>\n      <td>504</td>\n      <td>212</td>\n    </tr>\n    <tr>\n      <th>2</th>\n      <td>3</td>\n      <td>501</td>\n      <td>212</td>\n    </tr>\n    <tr>\n      <th>3</th>\n      <td>4</td>\n      <td>499</td>\n      <td>212</td>\n    </tr>\n    <tr>\n      <th>4</th>\n      <td>5</td>\n      <td>497</td>\n      <td>212</td>\n    </tr>\n  </tbody>\n</table>\n</div>"
     },
     "metadata": {},
     "output_type": "execute_result",
     "execution_count": 116
    }
   ],
   "source": [
    "hr = pandas.read_csv(bitalino_filename,\n",
    "                     skiprows=[0,2],\n",
    "                     header=1,\n",
    "                     sep=\"\\t\",\n",
    "                     names=[ \"nSeq\", \"aa\", \"I2\", \"O1\", \"O2\", \"A5\", \"A6\", \"NaN\"])\n",
    "hr = hr.drop([\"aa\", \"I2\", \"O1\", \"O2\", \"NaN\"], \n",
    "             axis=1)\n",
    "hr.head()\n"
   ],
   "metadata": {
    "collapsed": false,
    "pycharm": {
     "name": "#%%\n",
     "is_executing": false
    }
   }
  },
  {
   "cell_type": "markdown",
   "source": [
    "Wczytanie potrzebnych plików\n"
   ],
   "metadata": {
    "collapsed": false,
    "pycharm": {
     "name": "#%% md\n"
    }
   }
  },
  {
   "cell_type": "code",
   "execution_count": 117,
   "outputs": [
    {
     "data": {
      "text/plain": "     Sound  Number ValenceMean ValenceSD ArousalMean ArousalSD\n0      Cat     102        4.63      2.17        4.91      1.97\n1  Panting     104        4.96      1.68        5.37      1.66\n2    Puppy     105        2.88      2.14         6.4      2.13\n3   Growl1     106        3.37      1.64        6.39      1.62\n4      Dog     107        5.47      2.22        5.85      1.81",
      "text/html": "<div>\n<style scoped>\n    .dataframe tbody tr th:only-of-type {\n        vertical-align: middle;\n    }\n\n    .dataframe tbody tr th {\n        vertical-align: top;\n    }\n\n    .dataframe thead th {\n        text-align: right;\n    }\n</style>\n<table border=\"1\" class=\"dataframe\">\n  <thead>\n    <tr style=\"text-align: right;\">\n      <th></th>\n      <th>Sound</th>\n      <th>Number</th>\n      <th>ValenceMean</th>\n      <th>ValenceSD</th>\n      <th>ArousalMean</th>\n      <th>ArousalSD</th>\n    </tr>\n  </thead>\n  <tbody>\n    <tr>\n      <th>0</th>\n      <td>Cat</td>\n      <td>102</td>\n      <td>4.63</td>\n      <td>2.17</td>\n      <td>4.91</td>\n      <td>1.97</td>\n    </tr>\n    <tr>\n      <th>1</th>\n      <td>Panting</td>\n      <td>104</td>\n      <td>4.96</td>\n      <td>1.68</td>\n      <td>5.37</td>\n      <td>1.66</td>\n    </tr>\n    <tr>\n      <th>2</th>\n      <td>Puppy</td>\n      <td>105</td>\n      <td>2.88</td>\n      <td>2.14</td>\n      <td>6.4</td>\n      <td>2.13</td>\n    </tr>\n    <tr>\n      <th>3</th>\n      <td>Growl1</td>\n      <td>106</td>\n      <td>3.37</td>\n      <td>1.64</td>\n      <td>6.39</td>\n      <td>1.62</td>\n    </tr>\n    <tr>\n      <th>4</th>\n      <td>Dog</td>\n      <td>107</td>\n      <td>5.47</td>\n      <td>2.22</td>\n      <td>5.85</td>\n      <td>1.81</td>\n    </tr>\n  </tbody>\n</table>\n</div>"
     },
     "metadata": {},
     "output_type": "execute_result",
     "execution_count": 117
    }
   ],
   "source": [
    "images_params = pandas.read_csv(IAPS_filename, \n",
    "                                sep=\";\",\n",
    "                                header=0,\n",
    "                                decimal=\",\")\n",
    "sounds_params = pandas.read_csv(IADS2_filename, \n",
    "                                sep=\";\", \n",
    "                                header=0,\n",
    "                                decimal=\",\")\n",
    "\n",
    "images_params.head()\n",
    "sounds_params.head()\n"
   ],
   "metadata": {
    "collapsed": false,
    "pycharm": {
     "name": "#%%\n",
     "is_executing": false
    }
   }
  },
  {
   "cell_type": "markdown",
   "source": [
    "Zorientowanie się, że istnieją duplikaty w IAPS.\n",
    "Usunięcie kolumny set (bo nie wiemy jak ją interpretować). \n",
    "Zamiana typu kolumny **IAPS** z *float* na *int*.\n",
    "W przypadku tych samych obrazków, a znajdujących się w innych setach bierzemy średnią z parametrów.\n"
   ],
   "metadata": {
    "collapsed": false
   }
  },
  {
   "cell_type": "code",
   "execution_count": 118,
   "outputs": [
    {
     "name": "stdout",
     "text": [
      "Ilość duplikatów w parametrach obrazków 12.\n"
     ],
     "output_type": "stream"
    }
   ],
   "source": [
    "print(f'Ilość duplikatów w parametrach obrazków'\n",
    "      f' {images_params[images_params.duplicated([\"IAPS\"])].shape[0]}.')\n",
    "\n",
    "images_params.drop(['set'], axis=1)\n",
    "images_params.IAPS = images_params.IAPS.astype(int)\n",
    "images_params = images_params.groupby('IAPS').agg({\n",
    "                                                'ValenceMean': 'mean',\n",
    "                                                'ValenceSD': 'mean',\n",
    "                                                'ArousalMean': 'mean',\n",
    "                                                'ArousalSD': 'mean',\n",
    "                                                   }).reset_index()\n"
   ],
   "metadata": {
    "collapsed": false,
    "pycharm": {
     "name": "#%%\n",
     "is_executing": false
    }
   }
  },
  {
   "cell_type": "code",
   "execution_count": 119,
   "outputs": [
    {
     "name": "stdout",
     "text": [
      "Ilość duplikatów w parametrach dźwięków 0.\n"
     ],
     "output_type": "stream"
    }
   ],
   "source": [
    "print(f'Ilość duplikatów w parametrach dźwięków'\n",
    "      f' {sounds_params[sounds_params.duplicated([\"Number\"])].shape[0]}.')\n",
    "\n"
   ],
   "metadata": {
    "collapsed": false,
    "pycharm": {
     "name": "#%%\n",
     "is_executing": false
    }
   }
  },
  {
   "cell_type": "markdown",
   "source": [
    "Złączenie wyników badań i parametrów dźwięków i obrazków (Свекола это сука).\n",
    "Usunięcie wierszy, w których $condition != inc$ i $widget != emospace1$\n",
    "*df* - główny dataframe, na którym pracujemy"
   ],
   "metadata": {
    "collapsed": false,
    "pycharm": {
     "name": "#%% md\n"
    }
   }
  },
  {
   "cell_type": "code",
   "execution_count": 120,
   "outputs": [
    {
     "data": {
      "text/plain": "    person_id  stimulus_id condition condition_details  sound  image  \\\n6        1107            6       inc              p+s-    422   4800   \n7        1107            7       inc              p-s+    355   3150   \n8        1107            8       inc              p+s-    277   4647   \n9        1107            9       inc              p+s-    719   5215   \n10       1107           10       inc              p-s+    311   8230   \n\n       widget                                    response  response_time  \\\n6   emospace1                  [0.0, -0.8871154785156252]       2.803024   \n7   emospace1                   [-0.889205932617187, 0.0]       2.419283   \n8   emospace1  [-0.6720916748046881, -0.6839477539062505]       2.686227   \n9   emospace1   [-0.6523760986328123, 0.6662744140625002]       2.519347   \n10  emospace1                   [-0.848992919921875, 0.0]       2.335886   \n\n       timestamp         Sound ValenceMean ValenceSD ArousalMean ArousalSD  \\\n6   1.555651e+09     TireSkids        2.22      1.47        7.52      1.90   \n7   1.555651e+09        Crowd4        6.77      1.84        6.32      1.66   \n8   1.555651e+09    FemScream3        1.63      1.13        7.79      1.63   \n9   1.555651e+09  DentistDrill        2.89      1.67        6.91      2.02   \n10  1.555651e+09        Crowd2        7.65      1.58        7.12      1.83   \n\n    ValenceMean_image  ValenceSD_image  ArousalMean_image  ArousalSD_image  \n6                6.44             2.22               7.07             1.78  \n7                2.26             1.57               6.55             2.20  \n8                5.89             1.95               6.21             2.26  \n9                6.83             1.70               5.40             2.15  \n10               2.95             1.88               5.91             2.15  ",
      "text/html": "<div>\n<style scoped>\n    .dataframe tbody tr th:only-of-type {\n        vertical-align: middle;\n    }\n\n    .dataframe tbody tr th {\n        vertical-align: top;\n    }\n\n    .dataframe thead th {\n        text-align: right;\n    }\n</style>\n<table border=\"1\" class=\"dataframe\">\n  <thead>\n    <tr style=\"text-align: right;\">\n      <th></th>\n      <th>person_id</th>\n      <th>stimulus_id</th>\n      <th>condition</th>\n      <th>condition_details</th>\n      <th>sound</th>\n      <th>image</th>\n      <th>widget</th>\n      <th>response</th>\n      <th>response_time</th>\n      <th>timestamp</th>\n      <th>Sound</th>\n      <th>ValenceMean</th>\n      <th>ValenceSD</th>\n      <th>ArousalMean</th>\n      <th>ArousalSD</th>\n      <th>ValenceMean_image</th>\n      <th>ValenceSD_image</th>\n      <th>ArousalMean_image</th>\n      <th>ArousalSD_image</th>\n    </tr>\n  </thead>\n  <tbody>\n    <tr>\n      <th>6</th>\n      <td>1107</td>\n      <td>6</td>\n      <td>inc</td>\n      <td>p+s-</td>\n      <td>422</td>\n      <td>4800</td>\n      <td>emospace1</td>\n      <td>[0.0, -0.8871154785156252]</td>\n      <td>2.803024</td>\n      <td>1.555651e+09</td>\n      <td>TireSkids</td>\n      <td>2.22</td>\n      <td>1.47</td>\n      <td>7.52</td>\n      <td>1.90</td>\n      <td>6.44</td>\n      <td>2.22</td>\n      <td>7.07</td>\n      <td>1.78</td>\n    </tr>\n    <tr>\n      <th>7</th>\n      <td>1107</td>\n      <td>7</td>\n      <td>inc</td>\n      <td>p-s+</td>\n      <td>355</td>\n      <td>3150</td>\n      <td>emospace1</td>\n      <td>[-0.889205932617187, 0.0]</td>\n      <td>2.419283</td>\n      <td>1.555651e+09</td>\n      <td>Crowd4</td>\n      <td>6.77</td>\n      <td>1.84</td>\n      <td>6.32</td>\n      <td>1.66</td>\n      <td>2.26</td>\n      <td>1.57</td>\n      <td>6.55</td>\n      <td>2.20</td>\n    </tr>\n    <tr>\n      <th>8</th>\n      <td>1107</td>\n      <td>8</td>\n      <td>inc</td>\n      <td>p+s-</td>\n      <td>277</td>\n      <td>4647</td>\n      <td>emospace1</td>\n      <td>[-0.6720916748046881, -0.6839477539062505]</td>\n      <td>2.686227</td>\n      <td>1.555651e+09</td>\n      <td>FemScream3</td>\n      <td>1.63</td>\n      <td>1.13</td>\n      <td>7.79</td>\n      <td>1.63</td>\n      <td>5.89</td>\n      <td>1.95</td>\n      <td>6.21</td>\n      <td>2.26</td>\n    </tr>\n    <tr>\n      <th>9</th>\n      <td>1107</td>\n      <td>9</td>\n      <td>inc</td>\n      <td>p+s-</td>\n      <td>719</td>\n      <td>5215</td>\n      <td>emospace1</td>\n      <td>[-0.6523760986328123, 0.6662744140625002]</td>\n      <td>2.519347</td>\n      <td>1.555651e+09</td>\n      <td>DentistDrill</td>\n      <td>2.89</td>\n      <td>1.67</td>\n      <td>6.91</td>\n      <td>2.02</td>\n      <td>6.83</td>\n      <td>1.70</td>\n      <td>5.40</td>\n      <td>2.15</td>\n    </tr>\n    <tr>\n      <th>10</th>\n      <td>1107</td>\n      <td>10</td>\n      <td>inc</td>\n      <td>p-s+</td>\n      <td>311</td>\n      <td>8230</td>\n      <td>emospace1</td>\n      <td>[-0.848992919921875, 0.0]</td>\n      <td>2.335886</td>\n      <td>1.555651e+09</td>\n      <td>Crowd2</td>\n      <td>7.65</td>\n      <td>1.58</td>\n      <td>7.12</td>\n      <td>1.83</td>\n      <td>2.95</td>\n      <td>1.88</td>\n      <td>5.91</td>\n      <td>2.15</td>\n    </tr>\n  </tbody>\n</table>\n</div>"
     },
     "metadata": {},
     "output_type": "execute_result",
     "execution_count": 120
    }
   ],
   "source": [
    "df = pandas.read_csv(df_filename,\n",
    "                            sep=\"\\t\",\n",
    "                            names=[\"person_id\", \"stimulus_id\",\n",
    "                                   \"condition\", \"condition_details\", \n",
    "                                   \"sound\", \"image\", \"widget\",\n",
    "                                   \"response\", \"response_time\", \"timestamp\"])\n",
    "df = df.loc[df['condition'] == 'inc'] \\\n",
    "    .loc[df['widget'] == 'emospace1']\n",
    "df = df.join(sounds_params.set_index('Number'),\n",
    "                           on=\"sound\",\n",
    "                           rsuffix='_sound')\n",
    "df = df.join(images_params.set_index('IAPS'),\n",
    "                           on='image',\n",
    "                           rsuffix='_image')\n",
    "df = df.astype({\"response_time\": float})\n",
    "df.head()\n"
   ],
   "metadata": {
    "collapsed": false,
    "pycharm": {
     "name": "#%%\n",
     "is_executing": false
    }
   }
  },
  {
   "cell_type": "markdown",
   "source": [
    "Usunięcie niepotrzebnych kolumn z dataframe'a.\n"
   ],
   "metadata": {
    "collapsed": false
   }
  },
  {
   "cell_type": "code",
   "execution_count": 123,
   "outputs": [
    {
     "data": {
      "text/plain": "   condition_details                                    response ValenceMean  \\\n6               p+s-                  [0.0, -0.8871154785156252]        2.22   \n7               p-s+                   [-0.889205932617187, 0.0]        6.77   \n8               p+s-  [-0.6720916748046881, -0.6839477539062505]        1.63   \n9               p+s-   [-0.6523760986328123, 0.6662744140625002]        2.89   \n10              p-s+                   [-0.848992919921875, 0.0]        7.65   \n\n   ValenceSD ArousalMean ArousalSD  ValenceMean_image  ValenceSD_image  \\\n6       1.47        7.52      1.90               6.44             2.22   \n7       1.84        6.32      1.66               2.26             1.57   \n8       1.13        7.79      1.63               5.89             1.95   \n9       1.67        6.91      2.02               6.83             1.70   \n10      1.58        7.12      1.83               2.95             1.88   \n\n    ArousalMean_image  ArousalSD_image  \n6                7.07             1.78  \n7                6.55             2.20  \n8                6.21             2.26  \n9                5.40             2.15  \n10               5.91             2.15  ",
      "text/html": "<div>\n<style scoped>\n    .dataframe tbody tr th:only-of-type {\n        vertical-align: middle;\n    }\n\n    .dataframe tbody tr th {\n        vertical-align: top;\n    }\n\n    .dataframe thead th {\n        text-align: right;\n    }\n</style>\n<table border=\"1\" class=\"dataframe\">\n  <thead>\n    <tr style=\"text-align: right;\">\n      <th></th>\n      <th>condition_details</th>\n      <th>response</th>\n      <th>ValenceMean</th>\n      <th>ValenceSD</th>\n      <th>ArousalMean</th>\n      <th>ArousalSD</th>\n      <th>ValenceMean_image</th>\n      <th>ValenceSD_image</th>\n      <th>ArousalMean_image</th>\n      <th>ArousalSD_image</th>\n    </tr>\n  </thead>\n  <tbody>\n    <tr>\n      <th>6</th>\n      <td>p+s-</td>\n      <td>[0.0, -0.8871154785156252]</td>\n      <td>2.22</td>\n      <td>1.47</td>\n      <td>7.52</td>\n      <td>1.90</td>\n      <td>6.44</td>\n      <td>2.22</td>\n      <td>7.07</td>\n      <td>1.78</td>\n    </tr>\n    <tr>\n      <th>7</th>\n      <td>p-s+</td>\n      <td>[-0.889205932617187, 0.0]</td>\n      <td>6.77</td>\n      <td>1.84</td>\n      <td>6.32</td>\n      <td>1.66</td>\n      <td>2.26</td>\n      <td>1.57</td>\n      <td>6.55</td>\n      <td>2.20</td>\n    </tr>\n    <tr>\n      <th>8</th>\n      <td>p+s-</td>\n      <td>[-0.6720916748046881, -0.6839477539062505]</td>\n      <td>1.63</td>\n      <td>1.13</td>\n      <td>7.79</td>\n      <td>1.63</td>\n      <td>5.89</td>\n      <td>1.95</td>\n      <td>6.21</td>\n      <td>2.26</td>\n    </tr>\n    <tr>\n      <th>9</th>\n      <td>p+s-</td>\n      <td>[-0.6523760986328123, 0.6662744140625002]</td>\n      <td>2.89</td>\n      <td>1.67</td>\n      <td>6.91</td>\n      <td>2.02</td>\n      <td>6.83</td>\n      <td>1.70</td>\n      <td>5.40</td>\n      <td>2.15</td>\n    </tr>\n    <tr>\n      <th>10</th>\n      <td>p-s+</td>\n      <td>[-0.848992919921875, 0.0]</td>\n      <td>7.65</td>\n      <td>1.58</td>\n      <td>7.12</td>\n      <td>1.83</td>\n      <td>2.95</td>\n      <td>1.88</td>\n      <td>5.91</td>\n      <td>2.15</td>\n    </tr>\n  </tbody>\n</table>\n</div>"
     },
     "metadata": {},
     "output_type": "execute_result",
     "execution_count": 123
    }
   ],
   "source": [
    "df = df.drop_duplicates()\n",
    "df = df.drop(['person_id', 'stimulus_id', 'condition',\n",
    "         'sound', 'image', 'widget',\n",
    "         'response_time', 'timestamp', 'Sound'],\n",
    "                axis=1)\n",
    "df.head()\n"
   ],
   "metadata": {
    "collapsed": false,
    "pycharm": {
     "name": "#%%\n",
     "is_executing": false
    }
   }
  },
  {
   "cell_type": "markdown",
   "source": [
    "Dzielimy dataframe'a na tabelę gdzię obrazek jest pozytywny \n",
    "i dźwięk negatytwny (df_pi_ns) oraz na odwrót (df_ni_ps).\n",
    "  "
   ],
   "metadata": {
    "collapsed": false,
    "pycharm": {
     "name": "#%% md\n"
    }
   }
  },
  {
   "cell_type": "code",
   "execution_count": 131,
   "outputs": [
    {
     "data": {
      "text/plain": "                                       response ValenceMean ValenceSD  \\\n7                     [-0.889205932617187, 0.0]        6.77      1.84   \n10                    [-0.848992919921875, 0.0]        7.65      1.58   \n14  [0.8944860839843755, -0.016984252929687502]        6.32      1.76   \n20     [0.6604333496093752, 0.6413775634765618]         7.9      1.53   \n22                   [-0.8678228759765627, 0.0]           7      2.17   \n\n   ArousalMean ArousalSD  ValenceMean_image  ValenceSD_image  \\\n7         6.32      1.66               2.26            1.570   \n10        7.12      1.83               2.95            1.880   \n14        6.35      2.15               1.75            1.235   \n20        6.85      2.16               3.10            1.900   \n22        6.44      1.73               2.47            1.520   \n\n    ArousalMean_image  ArousalSD_image  \n7                6.55             2.20  \n10               5.91             2.15  \n14               7.21             2.05  \n20               6.26             1.98  \n22               5.75             2.43  ",
      "text/html": "<div>\n<style scoped>\n    .dataframe tbody tr th:only-of-type {\n        vertical-align: middle;\n    }\n\n    .dataframe tbody tr th {\n        vertical-align: top;\n    }\n\n    .dataframe thead th {\n        text-align: right;\n    }\n</style>\n<table border=\"1\" class=\"dataframe\">\n  <thead>\n    <tr style=\"text-align: right;\">\n      <th></th>\n      <th>response</th>\n      <th>ValenceMean</th>\n      <th>ValenceSD</th>\n      <th>ArousalMean</th>\n      <th>ArousalSD</th>\n      <th>ValenceMean_image</th>\n      <th>ValenceSD_image</th>\n      <th>ArousalMean_image</th>\n      <th>ArousalSD_image</th>\n    </tr>\n  </thead>\n  <tbody>\n    <tr>\n      <th>7</th>\n      <td>[-0.889205932617187, 0.0]</td>\n      <td>6.77</td>\n      <td>1.84</td>\n      <td>6.32</td>\n      <td>1.66</td>\n      <td>2.26</td>\n      <td>1.570</td>\n      <td>6.55</td>\n      <td>2.20</td>\n    </tr>\n    <tr>\n      <th>10</th>\n      <td>[-0.848992919921875, 0.0]</td>\n      <td>7.65</td>\n      <td>1.58</td>\n      <td>7.12</td>\n      <td>1.83</td>\n      <td>2.95</td>\n      <td>1.880</td>\n      <td>5.91</td>\n      <td>2.15</td>\n    </tr>\n    <tr>\n      <th>14</th>\n      <td>[0.8944860839843755, -0.016984252929687502]</td>\n      <td>6.32</td>\n      <td>1.76</td>\n      <td>6.35</td>\n      <td>2.15</td>\n      <td>1.75</td>\n      <td>1.235</td>\n      <td>7.21</td>\n      <td>2.05</td>\n    </tr>\n    <tr>\n      <th>20</th>\n      <td>[0.6604333496093752, 0.6413775634765618]</td>\n      <td>7.9</td>\n      <td>1.53</td>\n      <td>6.85</td>\n      <td>2.16</td>\n      <td>3.10</td>\n      <td>1.900</td>\n      <td>6.26</td>\n      <td>1.98</td>\n    </tr>\n    <tr>\n      <th>22</th>\n      <td>[-0.8678228759765627, 0.0]</td>\n      <td>7</td>\n      <td>2.17</td>\n      <td>6.44</td>\n      <td>1.73</td>\n      <td>2.47</td>\n      <td>1.520</td>\n      <td>5.75</td>\n      <td>2.43</td>\n    </tr>\n  </tbody>\n</table>\n</div>"
     },
     "metadata": {},
     "output_type": "execute_result",
     "execution_count": 131
    }
   ],
   "source": [
    "\n",
    "df_pi_ns = df.loc[df['condition_details'] == 'p+s-'] \\\n",
    "    .drop(['condition_details'], axis=1)\n",
    "df_ni_ps = df.loc[df['condition_details'] == 'p-s+'] \\\n",
    "    .drop(['condition_details'], axis=1)\n",
    "    \n",
    "df_ni_ps.head()"
   ],
   "metadata": {
    "collapsed": false,
    "pycharm": {
     "name": "#%%\n",
     "is_executing": false
    }
   }
  }
 ],
 "metadata": {
  "language_info": {
   "codemirror_mode": {
    "name": "ipython",
    "version": 2
   },
   "file_extension": ".py",
   "mimetype": "text/x-python",
   "name": "python",
   "nbconvert_exporter": "python",
   "pygments_lexer": "ipython2",
   "version": "2.7.6"
  },
  "kernelspec": {
   "name": "pycharm-27c4e561",
   "language": "python",
   "display_name": "PyCharm (psi-project)"
  },
  "pycharm": {
   "stem_cell": {
    "cell_type": "raw",
    "source": [],
    "metadata": {
     "collapsed": false
    }
   }
  }
 },
 "nbformat": 4,
 "nbformat_minor": 0
}