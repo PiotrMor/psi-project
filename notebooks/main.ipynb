{
 "cells": [
  {
   "cell_type": "markdown",
   "source": [
    "# Projekt PSI\n",
    "Analiza 5: co jest silniejsze w niespójnym warunku (inc): dźwięk vs obraz? a może negatywne vs pozytywne? (np. nieważne czy negatywny jest dźwięk czy obraz, ważne że co najmniej jedno jest negatywne i całość też jest negatywna)\n"
   ],
   "metadata": {
    "collapsed": false
   }
  },
  {
   "cell_type": "markdown",
   "source": [
    "## Loading data"
   ],
   "metadata": {
    "collapsed": false,
    "pycharm": {
     "name": "#%% md\n"
    }
   }
  },
  {
   "cell_type": "code",
   "execution_count": 18,
   "metadata": {
    "collapsed": true,
    "pycharm": {
     "name": "#%%\n",
     "is_executing": false
    }
   },
   "outputs": [],
   "source": [
    "%matplotlib inline\n",
    "import os\n",
    "import pandas\n",
    "import matplotlib.pyplot as plt\n",
    "\n",
    "# files that we use\n",
    "if os.name == 'nt':\n",
    "    bitalino_filename = 'bitalino\\\\1107_opensignals_prawestanowisko_2019-04-19_09-11-49.txt'\n",
    "else:\n",
    "    bitalino_filename = '../data/2019-afcai-spring/bitalino/1107_opensignals_prawestanowisko_2019-04-19_09-11-49.txt'\n",
    "\n",
    "\n"
   ]
  },
  {
   "cell_type": "markdown",
   "source": [
    "Ten sposób jakiś upośledzony jest, można to jakoś mądrzej zrobić. A i w sumie to nam to chyba nie potrzebne xd"
   ],
   "metadata": {
    "collapsed": false
   }
  },
  {
   "cell_type": "code",
   "execution_count": 19,
   "outputs": [
    {
     "data": {
      "text/plain": "   nSeq   A5   A6\n0     1  506  212\n1     2  504  212\n2     3  501  212\n3     4  499  212\n4     5  497  212",
      "text/html": "<div>\n<style scoped>\n    .dataframe tbody tr th:only-of-type {\n        vertical-align: middle;\n    }\n\n    .dataframe tbody tr th {\n        vertical-align: top;\n    }\n\n    .dataframe thead th {\n        text-align: right;\n    }\n</style>\n<table border=\"1\" class=\"dataframe\">\n  <thead>\n    <tr style=\"text-align: right;\">\n      <th></th>\n      <th>nSeq</th>\n      <th>A5</th>\n      <th>A6</th>\n    </tr>\n  </thead>\n  <tbody>\n    <tr>\n      <th>0</th>\n      <td>1</td>\n      <td>506</td>\n      <td>212</td>\n    </tr>\n    <tr>\n      <th>1</th>\n      <td>2</td>\n      <td>504</td>\n      <td>212</td>\n    </tr>\n    <tr>\n      <th>2</th>\n      <td>3</td>\n      <td>501</td>\n      <td>212</td>\n    </tr>\n    <tr>\n      <th>3</th>\n      <td>4</td>\n      <td>499</td>\n      <td>212</td>\n    </tr>\n    <tr>\n      <th>4</th>\n      <td>5</td>\n      <td>497</td>\n      <td>212</td>\n    </tr>\n  </tbody>\n</table>\n</div>"
     },
     "metadata": {},
     "output_type": "execute_result",
     "execution_count": 19
    }
   ],
   "source": [
    "hr = pandas.read_csv(bitalino_filename,\n",
    "                     skiprows=[0,2],\n",
    "                     header=1,\n",
    "                     sep=\"\\t\",\n",
    "                     names=[ \"nSeq\", \"aa\", \"I2\", \"O1\", \"O2\", \"A5\", \"A6\", \"NaN\"])\n",
    "hr = hr.drop([\"aa\", \"I2\", \"O1\", \"O2\", \"NaN\"], \n",
    "             axis=1)\n",
    "hr.head()"
   ],
   "metadata": {
    "collapsed": false,
    "pycharm": {
     "name": "#%%\n",
     "is_executing": false
    }
   }
  },
  {
   "cell_type": "code",
   "execution_count": 10,
   "outputs": [
    {
     "data": {
      "text/plain": "  Description    IAPS  ValenceMean  ValenceSD  ArousalMean  ArousalSD  set\n0       Snake  1019.0         3.95       1.96         5.77       1.83   12\n1       Snake  1022.0         4.26       2.04         6.02       1.97   12\n2       Snake  1026.0         4.09       1.91         5.61       2.23   16\n3       Snake  1030.0         4.30       2.35         5.46       2.43    1\n4       Snake  1033.0         3.87       1.94         6.13       2.15   18",
      "text/html": "<div>\n<style scoped>\n    .dataframe tbody tr th:only-of-type {\n        vertical-align: middle;\n    }\n\n    .dataframe tbody tr th {\n        vertical-align: top;\n    }\n\n    .dataframe thead th {\n        text-align: right;\n    }\n</style>\n<table border=\"1\" class=\"dataframe\">\n  <thead>\n    <tr style=\"text-align: right;\">\n      <th></th>\n      <th>Description</th>\n      <th>IAPS</th>\n      <th>ValenceMean</th>\n      <th>ValenceSD</th>\n      <th>ArousalMean</th>\n      <th>ArousalSD</th>\n      <th>set</th>\n    </tr>\n  </thead>\n  <tbody>\n    <tr>\n      <th>0</th>\n      <td>Snake</td>\n      <td>1019.0</td>\n      <td>3.95</td>\n      <td>1.96</td>\n      <td>5.77</td>\n      <td>1.83</td>\n      <td>12</td>\n    </tr>\n    <tr>\n      <th>1</th>\n      <td>Snake</td>\n      <td>1022.0</td>\n      <td>4.26</td>\n      <td>2.04</td>\n      <td>6.02</td>\n      <td>1.97</td>\n      <td>12</td>\n    </tr>\n    <tr>\n      <th>2</th>\n      <td>Snake</td>\n      <td>1026.0</td>\n      <td>4.09</td>\n      <td>1.91</td>\n      <td>5.61</td>\n      <td>2.23</td>\n      <td>16</td>\n    </tr>\n    <tr>\n      <th>3</th>\n      <td>Snake</td>\n      <td>1030.0</td>\n      <td>4.30</td>\n      <td>2.35</td>\n      <td>5.46</td>\n      <td>2.43</td>\n      <td>1</td>\n    </tr>\n    <tr>\n      <th>4</th>\n      <td>Snake</td>\n      <td>1033.0</td>\n      <td>3.87</td>\n      <td>1.94</td>\n      <td>6.13</td>\n      <td>2.15</td>\n      <td>18</td>\n    </tr>\n  </tbody>\n</table>\n</div>"
     },
     "metadata": {},
     "output_type": "execute_result",
     "execution_count": 10
    }
   ],
   "source": [
    "filename = 'IAPS.csv'\n",
    "# filename = '../data/IAPS.csv'\n",
    "images_params = pandas.read_csv(filename, \n",
    "                                sep=\";\",\n",
    "                                header=0,\n",
    "                                decimal=\",\")\n",
    "\n",
    "filename = 'IADS2.csv'\n",
    "# filename = '../data/IADS2.csv'\n",
    "sounds_params = pandas.read_csv(filename, sep=\";\", header=0, decimal=\",\")\n",
    "\n",
    "images_params.head()\n"
   ],
   "metadata": {
    "collapsed": false,
    "pycharm": {
     "name": "#%%\n",
     "is_executing": false
    }
   }
  },
  {
   "cell_type": "code",
   "execution_count": 13,
   "outputs": [
    {
     "data": {
      "text/plain": "    person_id  stimulus_id condition condition_details  sound  image  \\\n6        1107            6       inc              p+s-    422   4800   \n7        1107            7       inc              p-s+    355   3150   \n8        1107            8       inc              p+s-    277   4647   \n9        1107            9       inc              p+s-    719   5215   \n10       1107           10       inc              p-s+    311   8230   \n\n       widget                                    response  response_time  \\\n6   emospace1                  [0.0, -0.8871154785156252]       2.803024   \n7   emospace1                   [-0.889205932617187, 0.0]       2.419283   \n8   emospace1  [-0.6720916748046881, -0.6839477539062505]       2.686227   \n9   emospace1   [-0.6523760986328123, 0.6662744140625002]       2.519347   \n10  emospace1                   [-0.848992919921875, 0.0]       2.335886   \n\n       timestamp  ... ValenceMean ValenceSD ArousalMean ArousalSD  \\\n6   1.555651e+09  ...        2.22      1.47        7.52      1.90   \n7   1.555651e+09  ...        6.77      1.84        6.32      1.66   \n8   1.555651e+09  ...        1.63      1.13        7.79      1.63   \n9   1.555651e+09  ...        2.89      1.67        6.91      2.02   \n10  1.555651e+09  ...        7.65      1.58        7.12      1.83   \n\n     Description ValenceMean_image  ValenceSD_image  ArousalMean_image  \\\n6   EroticCouple              6.44             2.22               7.07   \n7     Mutilation              2.26             1.57               6.55   \n8   EroticCouple              5.89             1.95               6.21   \n9         Harbor              6.83             1.70               5.40   \n10         Boxer              2.95             1.88               5.91   \n\n    ArousalSD_image   set  \n6              1.78   6.0  \n7              2.20   2.0  \n8              2.26  15.0  \n9              2.15  20.0  \n10             2.15   4.0  \n\n[5 rows x 21 columns]",
      "text/html": "<div>\n<style scoped>\n    .dataframe tbody tr th:only-of-type {\n        vertical-align: middle;\n    }\n\n    .dataframe tbody tr th {\n        vertical-align: top;\n    }\n\n    .dataframe thead th {\n        text-align: right;\n    }\n</style>\n<table border=\"1\" class=\"dataframe\">\n  <thead>\n    <tr style=\"text-align: right;\">\n      <th></th>\n      <th>person_id</th>\n      <th>stimulus_id</th>\n      <th>condition</th>\n      <th>condition_details</th>\n      <th>sound</th>\n      <th>image</th>\n      <th>widget</th>\n      <th>response</th>\n      <th>response_time</th>\n      <th>timestamp</th>\n      <th>...</th>\n      <th>ValenceMean</th>\n      <th>ValenceSD</th>\n      <th>ArousalMean</th>\n      <th>ArousalSD</th>\n      <th>Description</th>\n      <th>ValenceMean_image</th>\n      <th>ValenceSD_image</th>\n      <th>ArousalMean_image</th>\n      <th>ArousalSD_image</th>\n      <th>set</th>\n    </tr>\n  </thead>\n  <tbody>\n    <tr>\n      <th>6</th>\n      <td>1107</td>\n      <td>6</td>\n      <td>inc</td>\n      <td>p+s-</td>\n      <td>422</td>\n      <td>4800</td>\n      <td>emospace1</td>\n      <td>[0.0, -0.8871154785156252]</td>\n      <td>2.803024</td>\n      <td>1.555651e+09</td>\n      <td>...</td>\n      <td>2.22</td>\n      <td>1.47</td>\n      <td>7.52</td>\n      <td>1.90</td>\n      <td>EroticCouple</td>\n      <td>6.44</td>\n      <td>2.22</td>\n      <td>7.07</td>\n      <td>1.78</td>\n      <td>6.0</td>\n    </tr>\n    <tr>\n      <th>7</th>\n      <td>1107</td>\n      <td>7</td>\n      <td>inc</td>\n      <td>p-s+</td>\n      <td>355</td>\n      <td>3150</td>\n      <td>emospace1</td>\n      <td>[-0.889205932617187, 0.0]</td>\n      <td>2.419283</td>\n      <td>1.555651e+09</td>\n      <td>...</td>\n      <td>6.77</td>\n      <td>1.84</td>\n      <td>6.32</td>\n      <td>1.66</td>\n      <td>Mutilation</td>\n      <td>2.26</td>\n      <td>1.57</td>\n      <td>6.55</td>\n      <td>2.20</td>\n      <td>2.0</td>\n    </tr>\n    <tr>\n      <th>8</th>\n      <td>1107</td>\n      <td>8</td>\n      <td>inc</td>\n      <td>p+s-</td>\n      <td>277</td>\n      <td>4647</td>\n      <td>emospace1</td>\n      <td>[-0.6720916748046881, -0.6839477539062505]</td>\n      <td>2.686227</td>\n      <td>1.555651e+09</td>\n      <td>...</td>\n      <td>1.63</td>\n      <td>1.13</td>\n      <td>7.79</td>\n      <td>1.63</td>\n      <td>EroticCouple</td>\n      <td>5.89</td>\n      <td>1.95</td>\n      <td>6.21</td>\n      <td>2.26</td>\n      <td>15.0</td>\n    </tr>\n    <tr>\n      <th>9</th>\n      <td>1107</td>\n      <td>9</td>\n      <td>inc</td>\n      <td>p+s-</td>\n      <td>719</td>\n      <td>5215</td>\n      <td>emospace1</td>\n      <td>[-0.6523760986328123, 0.6662744140625002]</td>\n      <td>2.519347</td>\n      <td>1.555651e+09</td>\n      <td>...</td>\n      <td>2.89</td>\n      <td>1.67</td>\n      <td>6.91</td>\n      <td>2.02</td>\n      <td>Harbor</td>\n      <td>6.83</td>\n      <td>1.70</td>\n      <td>5.40</td>\n      <td>2.15</td>\n      <td>20.0</td>\n    </tr>\n    <tr>\n      <th>10</th>\n      <td>1107</td>\n      <td>10</td>\n      <td>inc</td>\n      <td>p-s+</td>\n      <td>311</td>\n      <td>8230</td>\n      <td>emospace1</td>\n      <td>[-0.848992919921875, 0.0]</td>\n      <td>2.335886</td>\n      <td>1.555651e+09</td>\n      <td>...</td>\n      <td>7.65</td>\n      <td>1.58</td>\n      <td>7.12</td>\n      <td>1.83</td>\n      <td>Boxer</td>\n      <td>2.95</td>\n      <td>1.88</td>\n      <td>5.91</td>\n      <td>2.15</td>\n      <td>4.0</td>\n    </tr>\n  </tbody>\n</table>\n<p>5 rows × 21 columns</p>\n</div>"
     },
     "metadata": {},
     "output_type": "execute_result",
     "execution_count": 13
    }
   ],
   "source": [
    "filename = \"procedura\\\\1107_2019_Apr_19_0712.txt\"\n",
    "# filename = \"../data/procedura/1107_2019_Apr_19_0712.txt\"\n",
    "procedure = pandas.read_csv(filename,\n",
    "                            sep=\"\\t\",\n",
    "                            names=[\"person_id\", \"stimulus_id\", \"condition\", \"condition_details\", \"sound\", \"image\", \"widget\", \"response\", \"response_time\", \"timestamp\" ])\n",
    "procedure = procedure.loc[procedure['condition'] == 'inc'].loc[procedure['widget'] == 'emospace1']\n",
    "procedure = procedure.join(sounds_params.set_index('Number'),\n",
    "                           on=\"sound\",\n",
    "                           rsuffix='_sound')\n",
    "procedure = procedure.join(images_params.set_index('IAPS'),\n",
    "                           on='image',\n",
    "                           rsuffix='_image')\n",
    "procedure = procedure.astype({\"response_time\": float})\n",
    "procedure.head()"
   ],
   "metadata": {
    "collapsed": false,
    "pycharm": {
     "name": "#%%\n",
     "is_executing": false
    }
   }
  },
  {
   "cell_type": "code",
   "execution_count": 15,
   "outputs": [
    {
     "data": {
      "text/plain": "<matplotlib.axes._subplots.AxesSubplot at 0x7fb7abd20dd8>"
     },
     "metadata": {},
     "output_type": "execute_result",
     "execution_count": 15
    },
    {
     "data": {
      "text/plain": "<Figure size 432x288 with 1 Axes>",
      "image/png": "[encoded data removed]"
     },
     "metadata": {
      "needs_background": "light"
     },
     "output_type": "display_data"
    }
   ],
   "source": [
    "procedure.plot(kind='scatter', x='ArousalSD_image', y='response_time')\n",
    "\n"
   ],
   "metadata": {
    "collapsed": false,
    "pycharm": {
     "name": "#%%\n",
     "is_executing": false
    }
   }
  }
 ],
 "metadata": {
  "language_info": {
   "codemirror_mode": {
    "name": "ipython",
    "version": 2
   },
   "file_extension": ".py",
   "mimetype": "text/x-python",
   "name": "python",
   "nbconvert_exporter": "python",
   "pygments_lexer": "ipython2",
   "version": "2.7.6"
  },
  "kernelspec": {
   "name": "pycharm-27c4e561",
   "language": "python",
   "display_name": "PyCharm (psi-project)"
  },
  "pycharm": {
   "stem_cell": {
    "cell_type": "raw",
    "source": [],
    "metadata": {
     "collapsed": false
    }
   }
  }
 },
 "nbformat": 4,
 "nbformat_minor": 0
}