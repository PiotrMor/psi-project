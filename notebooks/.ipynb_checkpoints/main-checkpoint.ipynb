{
 "cells": [
  {
   "cell_type": "markdown",
   "metadata": {},
   "source": [
    "# Projekt PSI\n",
    "Analiza 5: co jest silniejsze w niespójnym warunku (inc): dźwięk vs obraz? \n",
    "a może negatywne vs pozytywne? \n",
    "(np. nieważne czy negatywny jest dźwięk czy obraz, ważne że co najmniej jedno jest negatywne i całość też jest negatywna)\n"
   ]
  },
  {
   "cell_type": "markdown",
   "metadata": {
    "pycharm": {
     "name": "#%% md\n"
    }
   },
   "source": [
    "## Loading data\n"
   ]
  },
  {
   "cell_type": "code",
   "execution_count": 146,
   "metadata": {
    "pycharm": {
     "is_executing": false,
     "name": "#%%\n"
    }
   },
   "outputs": [
    {
     "name": "stdout",
     "output_type": "stream",
     "text": [
      "Filenames Loaded\n"
     ]
    }
   ],
   "source": [
    "%matplotlib inline\n",
    "import os\n",
    "import pandas\n",
    "import matplotlib.pyplot as plt\n",
    "#import seaborn\n",
    "\n",
    "# files that we use, additional windows path handling for windows douche bags\n",
    "if os.name == 'nt':\n",
    "    bitalino_filename = '..\\\\data\\\\bitalino\\\\1107_opensignals_prawestanowisko_2019-04-19_09-11-49.txt'\n",
    "    IADS2_filename = '..\\\\data\\\\IADS2.csv'\n",
    "    df_source_filename = \"..\\\\data\\\\procedura\\\\\"\n",
    "    IAPS_filename = '..\\\\data\\\\IAPS.csv'\n",
    "else:\n",
    "    bitalino_filename = '../data/2019-afcai-spring/bitalino/1107_opensignals_prawestanowisko_2019-04-19_09-11-49.txt'\n",
    "    IADS2_filename = '../data/IADS2.csv'\n",
    "    df_source_filename = \"../data/2019-afcai-spring/procedura/\"\n",
    "    IAPS_filename = '../data/IAPS.csv'\n",
    "    \n",
    "print(\"Filenames Loaded\")"
   ]
  },
  {
   "cell_type": "markdown",
   "metadata": {},
   "source": [
    "Ten sposób jakiś upośledzony jest, można to jakoś mądrzej zrobić. A i w sumie to nam to chyba nie potrzebne xd\n",
    "ODP: na razie to nie będzie potrzebne, tym można się później zajać jako dodatkowa \n",
    "rzecz/rozwinięcie projektu (красный лиса и зелёный лиса, приветствие! который объясняет этого идиота.)"
   ]
  },
  {
   "cell_type": "code",
   "execution_count": 147,
   "metadata": {
    "pycharm": {
     "is_executing": false,
     "name": "#%%\n"
    }
   },
   "outputs": [
    {
     "data": {
      "text/html": [
       "<div>\n",
       "<style scoped>\n",
       "    .dataframe tbody tr th:only-of-type {\n",
       "        vertical-align: middle;\n",
       "    }\n",
       "\n",
       "    .dataframe tbody tr th {\n",
       "        vertical-align: top;\n",
       "    }\n",
       "\n",
       "    .dataframe thead th {\n",
       "        text-align: right;\n",
       "    }\n",
       "</style>\n",
       "<table border=\"1\" class=\"dataframe\">\n",
       "  <thead>\n",
       "    <tr style=\"text-align: right;\">\n",
       "      <th></th>\n",
       "      <th>nSeq</th>\n",
       "      <th>A5</th>\n",
       "      <th>A6</th>\n",
       "    </tr>\n",
       "  </thead>\n",
       "  <tbody>\n",
       "    <tr>\n",
       "      <th>0</th>\n",
       "      <td>1</td>\n",
       "      <td>506</td>\n",
       "      <td>212</td>\n",
       "    </tr>\n",
       "    <tr>\n",
       "      <th>1</th>\n",
       "      <td>2</td>\n",
       "      <td>504</td>\n",
       "      <td>212</td>\n",
       "    </tr>\n",
       "    <tr>\n",
       "      <th>2</th>\n",
       "      <td>3</td>\n",
       "      <td>501</td>\n",
       "      <td>212</td>\n",
       "    </tr>\n",
       "    <tr>\n",
       "      <th>3</th>\n",
       "      <td>4</td>\n",
       "      <td>499</td>\n",
       "      <td>212</td>\n",
       "    </tr>\n",
       "    <tr>\n",
       "      <th>4</th>\n",
       "      <td>5</td>\n",
       "      <td>497</td>\n",
       "      <td>212</td>\n",
       "    </tr>\n",
       "  </tbody>\n",
       "</table>\n",
       "</div>"
      ],
      "text/plain": [
       "   nSeq   A5   A6\n",
       "0     1  506  212\n",
       "1     2  504  212\n",
       "2     3  501  212\n",
       "3     4  499  212\n",
       "4     5  497  212"
      ]
     },
     "execution_count": 147,
     "metadata": {},
     "output_type": "execute_result"
    }
   ],
   "source": [
    "hr = pandas.read_csv(bitalino_filename,\n",
    "                     skiprows=[0,2],\n",
    "                     header=1,\n",
    "                     sep=\"\\t\",\n",
    "                     names=[ \"nSeq\", \"aa\", \"I2\", \"O1\", \"O2\", \"A5\", \"A6\", \"NaN\"])\n",
    "hr = hr.drop([\"aa\", \"I2\", \"O1\", \"O2\", \"NaN\"], \n",
    "             axis=1)\n",
    "hr.head()"
   ]
  },
  {
   "cell_type": "markdown",
   "metadata": {
    "pycharm": {
     "name": "#%% md\n"
    }
   },
   "source": [
    "Wczytanie potrzebnych plików\n"
   ]
  },
  {
   "cell_type": "code",
   "execution_count": 148,
   "metadata": {
    "pycharm": {
     "is_executing": false,
     "name": "#%%\n"
    }
   },
   "outputs": [
    {
     "data": {
      "text/html": [
       "<div>\n",
       "<style scoped>\n",
       "    .dataframe tbody tr th:only-of-type {\n",
       "        vertical-align: middle;\n",
       "    }\n",
       "\n",
       "    .dataframe tbody tr th {\n",
       "        vertical-align: top;\n",
       "    }\n",
       "\n",
       "    .dataframe thead th {\n",
       "        text-align: right;\n",
       "    }\n",
       "</style>\n",
       "<table border=\"1\" class=\"dataframe\">\n",
       "  <thead>\n",
       "    <tr style=\"text-align: right;\">\n",
       "      <th></th>\n",
       "      <th>Sound</th>\n",
       "      <th>Number</th>\n",
       "      <th>ValenceMean</th>\n",
       "      <th>ValenceSD</th>\n",
       "      <th>ArousalMean</th>\n",
       "      <th>ArousalSD</th>\n",
       "    </tr>\n",
       "  </thead>\n",
       "  <tbody>\n",
       "    <tr>\n",
       "      <th>0</th>\n",
       "      <td>Cat</td>\n",
       "      <td>102</td>\n",
       "      <td>4.63</td>\n",
       "      <td>2.17</td>\n",
       "      <td>4.91</td>\n",
       "      <td>1.97</td>\n",
       "    </tr>\n",
       "    <tr>\n",
       "      <th>1</th>\n",
       "      <td>Panting</td>\n",
       "      <td>104</td>\n",
       "      <td>4.96</td>\n",
       "      <td>1.68</td>\n",
       "      <td>5.37</td>\n",
       "      <td>1.66</td>\n",
       "    </tr>\n",
       "    <tr>\n",
       "      <th>2</th>\n",
       "      <td>Puppy</td>\n",
       "      <td>105</td>\n",
       "      <td>2.88</td>\n",
       "      <td>2.14</td>\n",
       "      <td>6.4</td>\n",
       "      <td>2.13</td>\n",
       "    </tr>\n",
       "    <tr>\n",
       "      <th>3</th>\n",
       "      <td>Growl1</td>\n",
       "      <td>106</td>\n",
       "      <td>3.37</td>\n",
       "      <td>1.64</td>\n",
       "      <td>6.39</td>\n",
       "      <td>1.62</td>\n",
       "    </tr>\n",
       "    <tr>\n",
       "      <th>4</th>\n",
       "      <td>Dog</td>\n",
       "      <td>107</td>\n",
       "      <td>5.47</td>\n",
       "      <td>2.22</td>\n",
       "      <td>5.85</td>\n",
       "      <td>1.81</td>\n",
       "    </tr>\n",
       "  </tbody>\n",
       "</table>\n",
       "</div>"
      ],
      "text/plain": [
       "     Sound  Number ValenceMean ValenceSD ArousalMean ArousalSD\n",
       "0      Cat     102        4.63      2.17        4.91      1.97\n",
       "1  Panting     104        4.96      1.68        5.37      1.66\n",
       "2    Puppy     105        2.88      2.14         6.4      2.13\n",
       "3   Growl1     106        3.37      1.64        6.39      1.62\n",
       "4      Dog     107        5.47      2.22        5.85      1.81"
      ]
     },
     "execution_count": 148,
     "metadata": {},
     "output_type": "execute_result"
    }
   ],
   "source": [
    "images_params = pandas.read_csv(IAPS_filename, \n",
    "                                sep=\";\",\n",
    "                                header=0,\n",
    "                                decimal=\",\")\n",
    "sounds_params = pandas.read_csv(IADS2_filename, \n",
    "                                sep=\";\", \n",
    "                                header=0,\n",
    "                                decimal=\",\")\n",
    "\n",
    "images_params.head()\n",
    "sounds_params.head()"
   ]
  },
  {
   "cell_type": "markdown",
   "metadata": {},
   "source": [
    "Zorientowanie się, że istnieją duplikaty w IAPS.\n",
    "Usunięcie kolumny set (bo nie wiemy jak ją interpretować). \n",
    "Zamiana typu kolumny **IAPS** z *float* na *int*.\n",
    "W przypadku tych samych obrazków, a znajdujących się w innych setach bierzemy średnią z parametrów.\n"
   ]
  },
  {
   "cell_type": "code",
   "execution_count": 149,
   "metadata": {
    "pycharm": {
     "is_executing": false,
     "name": "#%%\n"
    }
   },
   "outputs": [
    {
     "name": "stdout",
     "output_type": "stream",
     "text": [
      "Ilość duplikatów w parametrach obrazków 12.\n"
     ]
    }
   ],
   "source": [
    "print(f'Ilość duplikatów w parametrach obrazków'\n",
    "      f' {images_params[images_params.duplicated([\"IAPS\"])].shape[0]}.')\n",
    "\n",
    "images_params.drop(['set'], axis=1)\n",
    "images_params.IAPS = images_params.IAPS.astype(int)\n",
    "images_params = images_params.groupby('IAPS').agg({\n",
    "                                                'ValenceMean': 'mean',\n",
    "                                                'ValenceSD': 'mean',\n",
    "                                                'ArousalMean': 'mean',\n",
    "                                                'ArousalSD': 'mean',\n",
    "                                                   }).reset_index()"
   ]
  },
  {
   "cell_type": "code",
   "execution_count": 150,
   "metadata": {
    "pycharm": {
     "is_executing": false,
     "name": "#%%\n"
    }
   },
   "outputs": [
    {
     "name": "stdout",
     "output_type": "stream",
     "text": [
      "Ilość duplikatów w parametrach dźwięków 0.\n"
     ]
    }
   ],
   "source": [
    "print(f'Ilość duplikatów w parametrach dźwięków'\n",
    "      f' {sounds_params[sounds_params.duplicated([\"Number\"])].shape[0]}.')"
   ]
  },
  {
   "cell_type": "markdown",
   "metadata": {
    "pycharm": {
     "name": "#%% md\n"
    }
   },
   "source": [
    "Złączenie wyników badań i parametrów dźwięków i obrazków (Свекола это сука).\n",
    "Usunięcie wierszy, w których $condition != inc$ i $widget != emospace1$\n",
    "*df* - główny dataframe, na którym pracujemy"
   ]
  },
  {
   "cell_type": "code",
   "execution_count": 151,
   "metadata": {
    "pycharm": {
     "is_executing": false,
     "name": "#%%\n"
    }
   },
   "outputs": [
    {
     "data": {
      "text/html": [
       "<div>\n",
       "<style scoped>\n",
       "    .dataframe tbody tr th:only-of-type {\n",
       "        vertical-align: middle;\n",
       "    }\n",
       "\n",
       "    .dataframe tbody tr th {\n",
       "        vertical-align: top;\n",
       "    }\n",
       "\n",
       "    .dataframe thead th {\n",
       "        text-align: right;\n",
       "    }\n",
       "</style>\n",
       "<table border=\"1\" class=\"dataframe\">\n",
       "  <thead>\n",
       "    <tr style=\"text-align: right;\">\n",
       "      <th></th>\n",
       "      <th>person_id</th>\n",
       "      <th>stimulus_id</th>\n",
       "      <th>condition</th>\n",
       "      <th>condition_details</th>\n",
       "      <th>sound</th>\n",
       "      <th>image</th>\n",
       "      <th>widget</th>\n",
       "      <th>response</th>\n",
       "      <th>response_time</th>\n",
       "      <th>timestamp</th>\n",
       "      <th>Sound</th>\n",
       "      <th>ValenceMean</th>\n",
       "      <th>ValenceSD</th>\n",
       "      <th>ArousalMean</th>\n",
       "      <th>ArousalSD</th>\n",
       "      <th>ValenceMean_image</th>\n",
       "      <th>ValenceSD_image</th>\n",
       "      <th>ArousalMean_image</th>\n",
       "      <th>ArousalSD_image</th>\n",
       "    </tr>\n",
       "  </thead>\n",
       "  <tbody>\n",
       "    <tr>\n",
       "      <th>60</th>\n",
       "      <td>7820</td>\n",
       "      <td>60</td>\n",
       "      <td>inc</td>\n",
       "      <td>p-s+</td>\n",
       "      <td>378</td>\n",
       "      <td>3120</td>\n",
       "      <td>emospace1</td>\n",
       "      <td>[-0.47958496093749997, -0.5052709960937503]</td>\n",
       "      <td>5.3669895201683175</td>\n",
       "      <td>1.554885e+09</td>\n",
       "      <td>Doorbell</td>\n",
       "      <td>6.06</td>\n",
       "      <td>2.01</td>\n",
       "      <td>6.15</td>\n",
       "      <td>2.22</td>\n",
       "      <td>1.56</td>\n",
       "      <td>1.09</td>\n",
       "      <td>6.84</td>\n",
       "      <td>2.36</td>\n",
       "    </tr>\n",
       "    <tr>\n",
       "      <th>64</th>\n",
       "      <td>7820</td>\n",
       "      <td>64</td>\n",
       "      <td>inc</td>\n",
       "      <td>p+s-</td>\n",
       "      <td>711</td>\n",
       "      <td>8130</td>\n",
       "      <td>emospace1</td>\n",
       "      <td>[0.06570678710937501, 0.38361999511718753]</td>\n",
       "      <td>6.433689564772067</td>\n",
       "      <td>1.554885e+09</td>\n",
       "      <td>Siren1</td>\n",
       "      <td>2.61</td>\n",
       "      <td>1.59</td>\n",
       "      <td>7.39</td>\n",
       "      <td>2.02</td>\n",
       "      <td>6.58</td>\n",
       "      <td>1.34</td>\n",
       "      <td>5.49</td>\n",
       "      <td>2.07</td>\n",
       "    </tr>\n",
       "    <tr>\n",
       "      <th>66</th>\n",
       "      <td>7820</td>\n",
       "      <td>66</td>\n",
       "      <td>inc</td>\n",
       "      <td>p+s-</td>\n",
       "      <td>276</td>\n",
       "      <td>8341</td>\n",
       "      <td>emospace1</td>\n",
       "      <td>[-0.00776672363281249, 0.601404418945313]</td>\n",
       "      <td>6.600258679014587</td>\n",
       "      <td>1.554885e+09</td>\n",
       "      <td>FemScream2</td>\n",
       "      <td>1.93</td>\n",
       "      <td>1.63</td>\n",
       "      <td>7.77</td>\n",
       "      <td>1.50</td>\n",
       "      <td>6.25</td>\n",
       "      <td>1.86</td>\n",
       "      <td>6.40</td>\n",
       "      <td>2.27</td>\n",
       "    </tr>\n",
       "    <tr>\n",
       "      <th>67</th>\n",
       "      <td>7820</td>\n",
       "      <td>67</td>\n",
       "      <td>inc</td>\n",
       "      <td>p-s+</td>\n",
       "      <td>210</td>\n",
       "      <td>3102</td>\n",
       "      <td>emospace1</td>\n",
       "      <td>[-0.5522393798828124, 0.5917858886718756]</td>\n",
       "      <td>5.183556743393638</td>\n",
       "      <td>1.554885e+09</td>\n",
       "      <td>EroticMale1</td>\n",
       "      <td>5.72</td>\n",
       "      <td>2.26</td>\n",
       "      <td>6.64</td>\n",
       "      <td>1.83</td>\n",
       "      <td>1.40</td>\n",
       "      <td>1.14</td>\n",
       "      <td>6.58</td>\n",
       "      <td>2.69</td>\n",
       "    </tr>\n",
       "    <tr>\n",
       "      <th>68</th>\n",
       "      <td>7820</td>\n",
       "      <td>68</td>\n",
       "      <td>inc</td>\n",
       "      <td>p-s+</td>\n",
       "      <td>352</td>\n",
       "      <td>6231</td>\n",
       "      <td>emospace1</td>\n",
       "      <td>[-0.19284912109375016, 0.7376489257812497]</td>\n",
       "      <td>4.616972861216709</td>\n",
       "      <td>1.554885e+09</td>\n",
       "      <td>SportsCrowd</td>\n",
       "      <td>7.17</td>\n",
       "      <td>1.97</td>\n",
       "      <td>7.07</td>\n",
       "      <td>2.12</td>\n",
       "      <td>2.49</td>\n",
       "      <td>1.54</td>\n",
       "      <td>6.82</td>\n",
       "      <td>2.11</td>\n",
       "    </tr>\n",
       "  </tbody>\n",
       "</table>\n",
       "</div>"
      ],
      "text/plain": [
       "   person_id stimulus_id condition condition_details sound image     widget  \\\n",
       "60      7820          60       inc              p-s+   378  3120  emospace1   \n",
       "64      7820          64       inc              p+s-   711  8130  emospace1   \n",
       "66      7820          66       inc              p+s-   276  8341  emospace1   \n",
       "67      7820          67       inc              p-s+   210  3102  emospace1   \n",
       "68      7820          68       inc              p-s+   352  6231  emospace1   \n",
       "\n",
       "                                       response       response_time  \\\n",
       "60  [-0.47958496093749997, -0.5052709960937503]  5.3669895201683175   \n",
       "64   [0.06570678710937501, 0.38361999511718753]   6.433689564772067   \n",
       "66    [-0.00776672363281249, 0.601404418945313]   6.600258679014587   \n",
       "67    [-0.5522393798828124, 0.5917858886718756]   5.183556743393638   \n",
       "68   [-0.19284912109375016, 0.7376489257812497]   4.616972861216709   \n",
       "\n",
       "       timestamp        Sound ValenceMean ValenceSD ArousalMean ArousalSD  \\\n",
       "60  1.554885e+09     Doorbell        6.06      2.01        6.15      2.22   \n",
       "64  1.554885e+09       Siren1        2.61      1.59        7.39      2.02   \n",
       "66  1.554885e+09   FemScream2        1.93      1.63        7.77      1.50   \n",
       "67  1.554885e+09  EroticMale1        5.72      2.26        6.64      1.83   \n",
       "68  1.554885e+09  SportsCrowd        7.17      1.97        7.07      2.12   \n",
       "\n",
       "    ValenceMean_image  ValenceSD_image  ArousalMean_image  ArousalSD_image  \n",
       "60               1.56             1.09               6.84             2.36  \n",
       "64               6.58             1.34               5.49             2.07  \n",
       "66               6.25             1.86               6.40             2.27  \n",
       "67               1.40             1.14               6.58             2.69  \n",
       "68               2.49             1.54               6.82             2.11  "
      ]
     },
     "execution_count": 151,
     "metadata": {},
     "output_type": "execute_result"
    }
   ],
   "source": [
    "df_filenames = list(filter(lambda x: not x.endswith('info.txt'), os.listdir(df_source_filename)))\n",
    "df = pandas.DataFrame()\n",
    "for df_filename in df_filenames:\n",
    "    df = df.append(pandas.read_csv(df_source_filename + df_filename,\n",
    "                                sep=\"\\t\",\n",
    "                                names=[\"person_id\", \"stimulus_id\",\n",
    "                                       \"condition\", \"condition_details\", \n",
    "                                       \"sound\", \"image\", \"widget\",\n",
    "                                       \"response\", \"response_time\", \"timestamp\"]),\n",
    "             ignore_index=True)\n",
    "df = df.loc[df['condition'] == 'inc'] \\\n",
    "    .loc[df['widget'] == 'emospace1']\n",
    "df = df.join(sounds_params.set_index('Number'),\n",
    "                           on=\"sound\",\n",
    "                           rsuffix='_sound')\n",
    "df = df.join(images_params.set_index('IAPS'),\n",
    "                           on='image',\n",
    "                           rsuffix='_image')\n",
    "df.head()"
   ]
  },
  {
   "cell_type": "markdown",
   "metadata": {},
   "source": [
    "Dodanie kolumny płeć."
   ]
  },
  {
   "cell_type": "code",
   "execution_count": 152,
   "metadata": {
    "scrolled": true
   },
   "outputs": [
    {
     "name": "stdout",
     "output_type": "stream",
     "text": [
      "person_id              int16\n",
      "stimulus_id           object\n",
      "condition             object\n",
      "condition_details     object\n",
      "sound                 object\n",
      "image                 object\n",
      "widget                object\n",
      "response              object\n",
      "response_time         object\n",
      "timestamp            float64\n",
      "Sound                 object\n",
      "ValenceMean          float64\n",
      "ValenceSD            float64\n",
      "ArousalMean          float64\n",
      "ArousalSD            float64\n",
      "ValenceMean_image    float64\n",
      "ValenceSD_image      float64\n",
      "ArousalMean_image    float64\n",
      "ArousalSD_image      float64\n",
      "dtype: object\n",
      "id      int16\n",
      "age      int8\n",
      "sex    object\n",
      "dtype: object\n"
     ]
    }
   ],
   "source": [
    "df_info_filenames = list(filter(lambda x: x.endswith('info.txt'), os.listdir(df_source_filename)))\n",
    "\n",
    "persons_df = pandas.DataFrame()\n",
    "for df_info_filename in df_info_filenames:\n",
    "    persons_df = persons_df.append(pandas.read_csv(df_source_filename + df_info_filename,\n",
    "                                sep=\"\\t\",\n",
    "                                names=[\"id\", \"age\",\n",
    "                                       \"sex\", \"timestamp\"]))\n",
    "persons_df = persons_df.drop(['timestamp'], axis=1)\n",
    "persons_df.set_index('id')\n",
    "persons_df = persons_df.astype({'id': 'int16',\n",
    "                               'age': 'int8',\n",
    "                                'sex': 'str_'\n",
    "                               })\n",
    "df['response'] = [list(map(lambda x: float(x), x.strip('[]').split(','))) for x in df['response']]\n",
    "df = df.astype({'person_id': 'int16',\n",
    "            'condition_details': 'str_',\n",
    "           'ValenceMean': 'float64',\n",
    "           'ValenceSD': 'float64',\n",
    "           'ArousalMean': 'float64',\n",
    "           'ArousalSD': 'float64',\n",
    "          })\n",
    "\n",
    "print(df.dtypes)\n",
    "print(persons_df.dtypes)\n",
    "\n",
    "\n",
    "df = df.join(persons_df.set_index('id'), \n",
    "        on='person_id')"
   ]
  },
  {
   "cell_type": "markdown",
   "metadata": {},
   "source": [
    "Usunięcie niepotrzebnych kolumn z dataframe'a."
   ]
  },
  {
   "cell_type": "code",
   "execution_count": 153,
   "metadata": {
    "pycharm": {
     "is_executing": false,
     "name": "#%%\n"
    },
    "scrolled": true
   },
   "outputs": [
    {
     "data": {
      "text/html": [
       "<div>\n",
       "<style scoped>\n",
       "    .dataframe tbody tr th:only-of-type {\n",
       "        vertical-align: middle;\n",
       "    }\n",
       "\n",
       "    .dataframe tbody tr th {\n",
       "        vertical-align: top;\n",
       "    }\n",
       "\n",
       "    .dataframe thead th {\n",
       "        text-align: right;\n",
       "    }\n",
       "</style>\n",
       "<table border=\"1\" class=\"dataframe\">\n",
       "  <thead>\n",
       "    <tr style=\"text-align: right;\">\n",
       "      <th></th>\n",
       "      <th>condition_details</th>\n",
       "      <th>response</th>\n",
       "      <th>ValenceMean</th>\n",
       "      <th>ValenceSD</th>\n",
       "      <th>ArousalMean</th>\n",
       "      <th>ArousalSD</th>\n",
       "      <th>ValenceMean_image</th>\n",
       "      <th>ValenceSD_image</th>\n",
       "      <th>ArousalMean_image</th>\n",
       "      <th>ArousalSD_image</th>\n",
       "      <th>age</th>\n",
       "      <th>sex</th>\n",
       "    </tr>\n",
       "  </thead>\n",
       "  <tbody>\n",
       "    <tr>\n",
       "      <th>60</th>\n",
       "      <td>p-s+</td>\n",
       "      <td>[-0.47958496093749997, -0.5052709960937503]</td>\n",
       "      <td>6.06</td>\n",
       "      <td>2.01</td>\n",
       "      <td>6.15</td>\n",
       "      <td>2.22</td>\n",
       "      <td>1.56</td>\n",
       "      <td>1.09</td>\n",
       "      <td>6.84</td>\n",
       "      <td>2.36</td>\n",
       "      <td>22</td>\n",
       "      <td>M</td>\n",
       "    </tr>\n",
       "    <tr>\n",
       "      <th>64</th>\n",
       "      <td>p+s-</td>\n",
       "      <td>[0.06570678710937501, 0.38361999511718753]</td>\n",
       "      <td>2.61</td>\n",
       "      <td>1.59</td>\n",
       "      <td>7.39</td>\n",
       "      <td>2.02</td>\n",
       "      <td>6.58</td>\n",
       "      <td>1.34</td>\n",
       "      <td>5.49</td>\n",
       "      <td>2.07</td>\n",
       "      <td>22</td>\n",
       "      <td>M</td>\n",
       "    </tr>\n",
       "    <tr>\n",
       "      <th>66</th>\n",
       "      <td>p+s-</td>\n",
       "      <td>[-0.00776672363281249, 0.601404418945313]</td>\n",
       "      <td>1.93</td>\n",
       "      <td>1.63</td>\n",
       "      <td>7.77</td>\n",
       "      <td>1.50</td>\n",
       "      <td>6.25</td>\n",
       "      <td>1.86</td>\n",
       "      <td>6.40</td>\n",
       "      <td>2.27</td>\n",
       "      <td>22</td>\n",
       "      <td>M</td>\n",
       "    </tr>\n",
       "    <tr>\n",
       "      <th>67</th>\n",
       "      <td>p-s+</td>\n",
       "      <td>[-0.5522393798828124, 0.5917858886718756]</td>\n",
       "      <td>5.72</td>\n",
       "      <td>2.26</td>\n",
       "      <td>6.64</td>\n",
       "      <td>1.83</td>\n",
       "      <td>1.40</td>\n",
       "      <td>1.14</td>\n",
       "      <td>6.58</td>\n",
       "      <td>2.69</td>\n",
       "      <td>22</td>\n",
       "      <td>M</td>\n",
       "    </tr>\n",
       "    <tr>\n",
       "      <th>68</th>\n",
       "      <td>p-s+</td>\n",
       "      <td>[-0.19284912109375016, 0.7376489257812497]</td>\n",
       "      <td>7.17</td>\n",
       "      <td>1.97</td>\n",
       "      <td>7.07</td>\n",
       "      <td>2.12</td>\n",
       "      <td>2.49</td>\n",
       "      <td>1.54</td>\n",
       "      <td>6.82</td>\n",
       "      <td>2.11</td>\n",
       "      <td>22</td>\n",
       "      <td>M</td>\n",
       "    </tr>\n",
       "  </tbody>\n",
       "</table>\n",
       "</div>"
      ],
      "text/plain": [
       "   condition_details                                     response  \\\n",
       "60              p-s+  [-0.47958496093749997, -0.5052709960937503]   \n",
       "64              p+s-   [0.06570678710937501, 0.38361999511718753]   \n",
       "66              p+s-    [-0.00776672363281249, 0.601404418945313]   \n",
       "67              p-s+    [-0.5522393798828124, 0.5917858886718756]   \n",
       "68              p-s+   [-0.19284912109375016, 0.7376489257812497]   \n",
       "\n",
       "    ValenceMean  ValenceSD  ArousalMean  ArousalSD  ValenceMean_image  \\\n",
       "60         6.06       2.01         6.15       2.22               1.56   \n",
       "64         2.61       1.59         7.39       2.02               6.58   \n",
       "66         1.93       1.63         7.77       1.50               6.25   \n",
       "67         5.72       2.26         6.64       1.83               1.40   \n",
       "68         7.17       1.97         7.07       2.12               2.49   \n",
       "\n",
       "    ValenceSD_image  ArousalMean_image  ArousalSD_image  age sex  \n",
       "60             1.09               6.84             2.36   22   M  \n",
       "64             1.34               5.49             2.07   22   M  \n",
       "66             1.86               6.40             2.27   22   M  \n",
       "67             1.14               6.58             2.69   22   M  \n",
       "68             1.54               6.82             2.11   22   M  "
      ]
     },
     "execution_count": 153,
     "metadata": {},
     "output_type": "execute_result"
    }
   ],
   "source": [
    "df = df.drop(['person_id', 'stimulus_id', 'condition',\n",
    "         'sound', 'image', 'widget',\n",
    "         'response_time', 'timestamp', 'Sound'],\n",
    "                axis=1)\n",
    "df.head()"
   ]
  },
  {
   "cell_type": "markdown",
   "metadata": {
    "pycharm": {
     "name": "#%% md\n"
    }
   },
   "source": [
    "Dzielimy dataframe'a na tabelę gdzię obrazek jest pozytywny \n",
    "i dźwięk negatytwny (df_pi_ns) oraz na odwrót (df_ni_ps).\n",
    "  "
   ]
  },
  {
   "cell_type": "code",
   "execution_count": 154,
   "metadata": {
    "pycharm": {
     "is_executing": false,
     "name": "#%%\n"
    }
   },
   "outputs": [
    {
     "data": {
      "text/html": [
       "<div>\n",
       "<style scoped>\n",
       "    .dataframe tbody tr th:only-of-type {\n",
       "        vertical-align: middle;\n",
       "    }\n",
       "\n",
       "    .dataframe tbody tr th {\n",
       "        vertical-align: top;\n",
       "    }\n",
       "\n",
       "    .dataframe thead th {\n",
       "        text-align: right;\n",
       "    }\n",
       "</style>\n",
       "<table border=\"1\" class=\"dataframe\">\n",
       "  <thead>\n",
       "    <tr style=\"text-align: right;\">\n",
       "      <th></th>\n",
       "      <th>response</th>\n",
       "      <th>ValenceMean</th>\n",
       "      <th>ValenceSD</th>\n",
       "      <th>ArousalMean</th>\n",
       "      <th>ArousalSD</th>\n",
       "      <th>ValenceMean_image</th>\n",
       "      <th>ValenceSD_image</th>\n",
       "      <th>ArousalMean_image</th>\n",
       "      <th>ArousalSD_image</th>\n",
       "      <th>age</th>\n",
       "      <th>sex</th>\n",
       "    </tr>\n",
       "  </thead>\n",
       "  <tbody>\n",
       "    <tr>\n",
       "      <th>60</th>\n",
       "      <td>[-0.47958496093749997, -0.5052709960937503]</td>\n",
       "      <td>6.06</td>\n",
       "      <td>2.01</td>\n",
       "      <td>6.15</td>\n",
       "      <td>2.22</td>\n",
       "      <td>1.56</td>\n",
       "      <td>1.09</td>\n",
       "      <td>6.84</td>\n",
       "      <td>2.36</td>\n",
       "      <td>22</td>\n",
       "      <td>M</td>\n",
       "    </tr>\n",
       "    <tr>\n",
       "      <th>67</th>\n",
       "      <td>[-0.5522393798828124, 0.5917858886718756]</td>\n",
       "      <td>5.72</td>\n",
       "      <td>2.26</td>\n",
       "      <td>6.64</td>\n",
       "      <td>1.83</td>\n",
       "      <td>1.40</td>\n",
       "      <td>1.14</td>\n",
       "      <td>6.58</td>\n",
       "      <td>2.69</td>\n",
       "      <td>22</td>\n",
       "      <td>M</td>\n",
       "    </tr>\n",
       "    <tr>\n",
       "      <th>68</th>\n",
       "      <td>[-0.19284912109375016, 0.7376489257812497]</td>\n",
       "      <td>7.17</td>\n",
       "      <td>1.97</td>\n",
       "      <td>7.07</td>\n",
       "      <td>2.12</td>\n",
       "      <td>2.49</td>\n",
       "      <td>1.54</td>\n",
       "      <td>6.82</td>\n",
       "      <td>2.11</td>\n",
       "      <td>22</td>\n",
       "      <td>M</td>\n",
       "    </tr>\n",
       "    <tr>\n",
       "      <th>71</th>\n",
       "      <td>[0.17308715820312504, 0.156636962890625]</td>\n",
       "      <td>7.28</td>\n",
       "      <td>1.91</td>\n",
       "      <td>6.00</td>\n",
       "      <td>1.99</td>\n",
       "      <td>2.62</td>\n",
       "      <td>1.78</td>\n",
       "      <td>6.21</td>\n",
       "      <td>2.15</td>\n",
       "      <td>22</td>\n",
       "      <td>M</td>\n",
       "    </tr>\n",
       "    <tr>\n",
       "      <th>81</th>\n",
       "      <td>[0.39840087890625003, 0.008126220703125001]</td>\n",
       "      <td>7.38</td>\n",
       "      <td>1.53</td>\n",
       "      <td>6.62</td>\n",
       "      <td>1.42</td>\n",
       "      <td>2.70</td>\n",
       "      <td>1.52</td>\n",
       "      <td>6.44</td>\n",
       "      <td>2.19</td>\n",
       "      <td>22</td>\n",
       "      <td>M</td>\n",
       "    </tr>\n",
       "  </tbody>\n",
       "</table>\n",
       "</div>"
      ],
      "text/plain": [
       "                                       response  ValenceMean  ValenceSD  \\\n",
       "60  [-0.47958496093749997, -0.5052709960937503]         6.06       2.01   \n",
       "67    [-0.5522393798828124, 0.5917858886718756]         5.72       2.26   \n",
       "68   [-0.19284912109375016, 0.7376489257812497]         7.17       1.97   \n",
       "71     [0.17308715820312504, 0.156636962890625]         7.28       1.91   \n",
       "81  [0.39840087890625003, 0.008126220703125001]         7.38       1.53   \n",
       "\n",
       "    ArousalMean  ArousalSD  ValenceMean_image  ValenceSD_image  \\\n",
       "60         6.15       2.22               1.56             1.09   \n",
       "67         6.64       1.83               1.40             1.14   \n",
       "68         7.07       2.12               2.49             1.54   \n",
       "71         6.00       1.99               2.62             1.78   \n",
       "81         6.62       1.42               2.70             1.52   \n",
       "\n",
       "    ArousalMean_image  ArousalSD_image  age sex  \n",
       "60               6.84             2.36   22   M  \n",
       "67               6.58             2.69   22   M  \n",
       "68               6.82             2.11   22   M  \n",
       "71               6.21             2.15   22   M  \n",
       "81               6.44             2.19   22   M  "
      ]
     },
     "execution_count": 154,
     "metadata": {},
     "output_type": "execute_result"
    }
   ],
   "source": [
    "df_pi_ns = df.loc[df['condition_details'] == 'p+s-'] \\\n",
    "    .drop(['condition_details'], axis=1)\n",
    "df_ni_ps = df.loc[df['condition_details'] == 'p-s+'] \\\n",
    "    .drop(['condition_details'], axis=1)\n",
    "    \n",
    "df_ni_ps.head()"
   ]
  },
  {
   "cell_type": "markdown",
   "metadata": {
    "pycharm": {
     "name": "#%% md\n"
    }
   },
   "source": [
    "Stwierdzamy czy typ obrazka wpłynął na zadowolenie osoby badanej\n"
   ]
  },
  {
   "cell_type": "code",
   "execution_count": 155,
   "metadata": {
    "pycharm": {
     "is_executing": false,
     "name": "#%%\n"
    }
   },
   "outputs": [
    {
     "data": {
      "text/plain": [
       "0.5557909604519774"
      ]
     },
     "execution_count": 155,
     "metadata": {},
     "output_type": "execute_result"
    }
   ],
   "source": [
    "sum(list(map(lambda x: 1 if x[0] >= 0 else 0 , df_pi_ns.loc[:,'response']))) / df_pi_ns.loc[:,'response'].size"
   ]
  },
  {
   "cell_type": "code",
   "execution_count": 156,
   "metadata": {},
   "outputs": [
    {
     "data": {
      "text/plain": [
       "0.7492559523809523"
      ]
     },
     "execution_count": 156,
     "metadata": {},
     "output_type": "execute_result"
    }
   ],
   "source": [
    "sum(list(map(lambda x: 1 if x[0] < 0 else 0 , df_ni_ps.loc[:,'response']))) / df_ni_ps.loc[:,'response'].size"
   ]
  },
  {
   "cell_type": "markdown",
   "metadata": {},
   "source": [
    "## Filtracja Danych\n"
   ]
  },
  {
   "cell_type": "code",
   "execution_count": 172,
   "metadata": {
    "scrolled": false
   },
   "outputs": [
    {
     "data": {
      "text/html": [
       "<div>\n",
       "<style scoped>\n",
       "    .dataframe tbody tr th:only-of-type {\n",
       "        vertical-align: middle;\n",
       "    }\n",
       "\n",
       "    .dataframe tbody tr th {\n",
       "        vertical-align: top;\n",
       "    }\n",
       "\n",
       "    .dataframe thead th {\n",
       "        text-align: right;\n",
       "    }\n",
       "</style>\n",
       "<table border=\"1\" class=\"dataframe\">\n",
       "  <thead>\n",
       "    <tr style=\"text-align: right;\">\n",
       "      <th></th>\n",
       "      <th>condition_details</th>\n",
       "      <th>response</th>\n",
       "      <th>ValenceMean</th>\n",
       "      <th>ValenceSD</th>\n",
       "      <th>ArousalMean</th>\n",
       "      <th>ArousalSD</th>\n",
       "      <th>ValenceMean_image</th>\n",
       "      <th>ValenceSD_image</th>\n",
       "      <th>ArousalMean_image</th>\n",
       "      <th>ArousalSD_image</th>\n",
       "      <th>age</th>\n",
       "      <th>sex</th>\n",
       "    </tr>\n",
       "  </thead>\n",
       "  <tbody>\n",
       "    <tr>\n",
       "      <th>60</th>\n",
       "      <td>p-s+</td>\n",
       "      <td>[-0.47958496093749997, -0.5052709960937503]</td>\n",
       "      <td>6.06</td>\n",
       "      <td>2.01</td>\n",
       "      <td>6.15</td>\n",
       "      <td>2.22</td>\n",
       "      <td>1.56</td>\n",
       "      <td>1.09</td>\n",
       "      <td>6.84</td>\n",
       "      <td>2.36</td>\n",
       "      <td>22</td>\n",
       "      <td>M</td>\n",
       "    </tr>\n",
       "    <tr>\n",
       "      <th>64</th>\n",
       "      <td>p+s-</td>\n",
       "      <td>[0.06570678710937501, 0.38361999511718753]</td>\n",
       "      <td>2.61</td>\n",
       "      <td>1.59</td>\n",
       "      <td>7.39</td>\n",
       "      <td>2.02</td>\n",
       "      <td>6.58</td>\n",
       "      <td>1.34</td>\n",
       "      <td>5.49</td>\n",
       "      <td>2.07</td>\n",
       "      <td>22</td>\n",
       "      <td>M</td>\n",
       "    </tr>\n",
       "    <tr>\n",
       "      <th>66</th>\n",
       "      <td>p+s-</td>\n",
       "      <td>[-0.00776672363281249, 0.601404418945313]</td>\n",
       "      <td>1.93</td>\n",
       "      <td>1.63</td>\n",
       "      <td>7.77</td>\n",
       "      <td>1.50</td>\n",
       "      <td>6.25</td>\n",
       "      <td>1.86</td>\n",
       "      <td>6.40</td>\n",
       "      <td>2.27</td>\n",
       "      <td>22</td>\n",
       "      <td>M</td>\n",
       "    </tr>\n",
       "    <tr>\n",
       "      <th>67</th>\n",
       "      <td>p-s+</td>\n",
       "      <td>[-0.5522393798828124, 0.5917858886718756]</td>\n",
       "      <td>5.72</td>\n",
       "      <td>2.26</td>\n",
       "      <td>6.64</td>\n",
       "      <td>1.83</td>\n",
       "      <td>1.40</td>\n",
       "      <td>1.14</td>\n",
       "      <td>6.58</td>\n",
       "      <td>2.69</td>\n",
       "      <td>22</td>\n",
       "      <td>M</td>\n",
       "    </tr>\n",
       "    <tr>\n",
       "      <th>68</th>\n",
       "      <td>p-s+</td>\n",
       "      <td>[-0.19284912109375016, 0.7376489257812497]</td>\n",
       "      <td>7.17</td>\n",
       "      <td>1.97</td>\n",
       "      <td>7.07</td>\n",
       "      <td>2.12</td>\n",
       "      <td>2.49</td>\n",
       "      <td>1.54</td>\n",
       "      <td>6.82</td>\n",
       "      <td>2.11</td>\n",
       "      <td>22</td>\n",
       "      <td>M</td>\n",
       "    </tr>\n",
       "  </tbody>\n",
       "</table>\n",
       "</div>"
      ],
      "text/plain": [
       "   condition_details                                     response  \\\n",
       "60              p-s+  [-0.47958496093749997, -0.5052709960937503]   \n",
       "64              p+s-   [0.06570678710937501, 0.38361999511718753]   \n",
       "66              p+s-    [-0.00776672363281249, 0.601404418945313]   \n",
       "67              p-s+    [-0.5522393798828124, 0.5917858886718756]   \n",
       "68              p-s+   [-0.19284912109375016, 0.7376489257812497]   \n",
       "\n",
       "    ValenceMean  ValenceSD  ArousalMean  ArousalSD  ValenceMean_image  \\\n",
       "60         6.06       2.01         6.15       2.22               1.56   \n",
       "64         2.61       1.59         7.39       2.02               6.58   \n",
       "66         1.93       1.63         7.77       1.50               6.25   \n",
       "67         5.72       2.26         6.64       1.83               1.40   \n",
       "68         7.17       1.97         7.07       2.12               2.49   \n",
       "\n",
       "    ValenceSD_image  ArousalMean_image  ArousalSD_image  age sex  \n",
       "60             1.09               6.84             2.36   22   M  \n",
       "64             1.34               5.49             2.07   22   M  \n",
       "66             1.86               6.40             2.27   22   M  \n",
       "67             1.14               6.58             2.69   22   M  \n",
       "68             1.54               6.82             2.11   22   M  "
      ]
     },
     "execution_count": 172,
     "metadata": {},
     "output_type": "execute_result"
    }
   ],
   "source": [
    "def filter_df(df, interval):\n",
    "    return df[df.response.apply(lambda x: x[1] > interval or x[1] < -interval)]\n",
    "\n",
    "filtered_df = filter_df(df, 0.1)\n",
    "filtered_df.head()"
   ]
  },
  {
   "cell_type": "markdown",
   "metadata": {},
   "source": [
    "## Analiza danych przed i po filtracji z wykorzystaniem kowariancji i korelacji\n",
    "Przygotowujemy dane do obliczania korelacji poprzez połączenie wartości 'arousal' dla obrazu i dźwięku z wskazaną przez osobę badaną wartością 'arousal'."
   ]
  },
  {
   "cell_type": "code",
   "execution_count": 174,
   "metadata": {},
   "outputs": [
    {
     "data": {
      "text/html": [
       "<div>\n",
       "<style scoped>\n",
       "    .dataframe tbody tr th:only-of-type {\n",
       "        vertical-align: middle;\n",
       "    }\n",
       "\n",
       "    .dataframe tbody tr th {\n",
       "        vertical-align: top;\n",
       "    }\n",
       "\n",
       "    .dataframe thead th {\n",
       "        text-align: right;\n",
       "    }\n",
       "</style>\n",
       "<table border=\"1\" class=\"dataframe\">\n",
       "  <thead>\n",
       "    <tr style=\"text-align: right;\">\n",
       "      <th></th>\n",
       "      <th>arousal</th>\n",
       "      <th>ArousalMean_image</th>\n",
       "    </tr>\n",
       "  </thead>\n",
       "  <tbody>\n",
       "    <tr>\n",
       "      <th>0</th>\n",
       "      <td>-0.505271</td>\n",
       "      <td>6.84</td>\n",
       "    </tr>\n",
       "    <tr>\n",
       "      <th>1</th>\n",
       "      <td>0.383620</td>\n",
       "      <td>5.49</td>\n",
       "    </tr>\n",
       "    <tr>\n",
       "      <th>2</th>\n",
       "      <td>0.601404</td>\n",
       "      <td>6.40</td>\n",
       "    </tr>\n",
       "    <tr>\n",
       "      <th>3</th>\n",
       "      <td>0.591786</td>\n",
       "      <td>6.58</td>\n",
       "    </tr>\n",
       "    <tr>\n",
       "      <th>4</th>\n",
       "      <td>0.737649</td>\n",
       "      <td>6.82</td>\n",
       "    </tr>\n",
       "  </tbody>\n",
       "</table>\n",
       "</div>"
      ],
      "text/plain": [
       "    arousal  ArousalMean_image\n",
       "0 -0.505271               6.84\n",
       "1  0.383620               5.49\n",
       "2  0.601404               6.40\n",
       "3  0.591786               6.58\n",
       "4  0.737649               6.82"
      ]
     },
     "execution_count": 174,
     "metadata": {},
     "output_type": "execute_result"
    }
   ],
   "source": [
    "def prepare_df_for_analysis(df, arousal_type):\n",
    "    return pandas.DataFrame(df['response'].values.tolist(), columns=['valence', 'arousal'])\\\n",
    "                .drop(['valence'], axis = 1)\\\n",
    "                .join(df[arousal_type].reset_index(), how='right')\\\n",
    "                .drop(['index'], axis = 1)\n",
    "\n",
    "\n",
    "\n",
    "arousal_sound = prepare_df_for_analysis(df, 'ArousalMean')\n",
    "\n",
    "arousal_image = prepare_df_for_analysis(df, 'ArousalMean_image')\n",
    "\n",
    "filtered_arousal_sound = prepare_df_for_analysis(filtered_df, 'ArousalMean')\n",
    "\n",
    "filtered_arousal_image = prepare_df_for_analysis(filtered_df, 'ArousalMean_image')\n",
    "\n",
    "arousal_image.head()\n"
   ]
  },
  {
   "cell_type": "code",
   "execution_count": 181,
   "metadata": {},
   "outputs": [
    {
     "name": "stdout",
     "output_type": "stream",
     "text": [
      "Dane przed filtracją \n",
      "\n",
      "                    arousal  ArousalMean_image\n",
      "arousal            1.000000           0.075726\n",
      "ArousalMean_image  0.075726           1.000000\n",
      "\n",
      "Dane po filtracji \n",
      "\n",
      "                    arousal  ArousalMean_image\n",
      "arousal            1.000000           0.082809\n",
      "ArousalMean_image  0.082809           1.000000\n"
     ]
    }
   ],
   "source": [
    "print('Dane przed filtracją \\n')\n",
    "print(arousal_image.corr())\n",
    "print('\\nDane po filtracji \\n')\n",
    "print(filtered_arousal_image.corr())"
   ]
  },
  {
   "cell_type": "code",
   "execution_count": 176,
   "metadata": {
    "scrolled": true
   },
   "outputs": [
    {
     "name": "stdout",
     "output_type": "stream",
     "text": [
      "              arousal  ArousalMean\n",
      "arousal      1.000000     0.107328\n",
      "ArousalMean  0.107328     1.000000\n",
      "              arousal  ArousalMean\n",
      "arousal      1.000000     0.114261\n",
      "ArousalMean  0.114261     1.000000\n"
     ]
    }
   ],
   "source": [
    "print('Dane przed filtracją \\n')\n",
    "print(arousal_sound.corr())\n",
    "print('\\nDane po filtracji \\n')\n",
    "print(filtered_arousal_sound.corr())\n"
   ]
  },
  {
   "cell_type": "markdown",
   "metadata": {},
   "source": [
    "### Analiza wyników korelacji\n",
    "Później"
   ]
  },
  {
   "cell_type": "code",
   "execution_count": 165,
   "metadata": {},
   "outputs": [
    {
     "name": "stdout",
     "output_type": "stream",
     "text": [
      "              arousal  ArousalMean\n",
      "arousal      0.208495     0.028944\n",
      "ArousalMean  0.028944     0.348823\n",
      "              arousal  ArousalMean\n",
      "arousal      0.184666     0.026181\n",
      "ArousalMean  0.026181     0.344951\n"
     ]
    }
   ],
   "source": [
    "print(arousal_sound.cov())\n",
    "print(filtered_arousal_sound.cov())\n"
   ]
  },
  {
   "cell_type": "code",
   "execution_count": 84,
   "metadata": {},
   "outputs": [
    {
     "name": "stdout",
     "output_type": "stream",
     "text": [
      "                    arousal  ArousalMean_image\n",
      "arousal            0.230537           0.010946\n",
      "ArousalMean_image  0.010946           0.259603\n",
      "                    arousal  ArousalMean_image\n",
      "arousal            0.284043           0.014554\n",
      "ArousalMean_image  0.014554           0.260226\n"
     ]
    }
   ],
   "source": [
    "print(arousal_image.cov())\n",
    "print(filtered_arousal_image.cov())"
   ]
  },
  {
   "cell_type": "markdown",
   "metadata": {},
   "source": [
    "### Analiza wyników kowariancji\n",
    "Później"
   ]
  },
  {
   "cell_type": "markdown",
   "metadata": {},
   "source": [
    "## Analiza korelacji z podziałem na płeć\n",
    "\n",
    "#### Przygotowujemy dane do obliczania korelacji poprzez połączenie wartości 'arousal' dla obrazu i dźwięku z wskazaną przez osobę badaną wartością 'arousal' z podziałem na płeć"
   ]
  },
  {
   "cell_type": "code",
   "execution_count": 177,
   "metadata": {},
   "outputs": [],
   "source": [
    "man_df = df[df['sex'] == 'M']\n",
    "woman_df = df[df['sex'] == 'F']\n",
    "\n",
    "filtered_man_df = filter_df(man_df, 0.1)\n",
    "filtered_woman_df = filter_df(woman_df, 0.1)\n",
    "\n",
    "arousal_sound_man = prepare_df_for_analysis(man_df, 'ArousalMean')\n",
    "arousal_image_man = prepare_df_for_analysis(man_df, 'ArousalMean_image')\n",
    "filtered_arousal_sound_man = prepare_df_for_analysis(filtered_man_df, 'ArousalMean')\n",
    "filtered_arousal_image_man = prepare_df_for_analysis(filtered_man_df, 'ArousalMean_image')\n",
    "\n",
    "arousal_sound_woman = prepare_df_for_analysis(woman_df, 'ArousalMean')\n",
    "arousal_image_woman = prepare_df_for_analysis(woman_df, 'ArousalMean_image')\n",
    "filtered_arousal_sound_woman = prepare_df_for_analysis(filtered_woman_df, 'ArousalMean')\n",
    "filtered_arousal_image_woman = prepare_df_for_analysis(filtered_woman_df, 'ArousalMean_image')"
   ]
  },
  {
   "cell_type": "code",
   "execution_count": 182,
   "metadata": {},
   "outputs": [
    {
     "name": "stdout",
     "output_type": "stream",
     "text": [
      "Mężczyźni\n",
      "\n",
      "Dane przed filtracji \n",
      "\n",
      "                    arousal  ArousalMean_image\n",
      "arousal            1.000000           0.082944\n",
      "ArousalMean_image  0.082944           1.000000\n",
      "\n",
      "Dane po filtracji \n",
      "\n",
      "                    arousal  ArousalMean_image\n",
      "arousal            1.000000           0.088807\n",
      "ArousalMean_image  0.088807           1.000000\n",
      "\n",
      "\n",
      "\n",
      "Kobiety\n",
      "\n",
      "Dane przed filtracji \n",
      "\n",
      "                    arousal  ArousalMean_image\n",
      "arousal            1.000000           0.059655\n",
      "ArousalMean_image  0.059655           1.000000\n",
      "\n",
      "Dane po filtracji \n",
      "\n",
      "                    arousal  ArousalMean_image\n",
      "arousal            1.000000           0.068851\n",
      "ArousalMean_image  0.068851           1.000000\n"
     ]
    }
   ],
   "source": [
    "print(\"Mężczyźni\")\n",
    "print('\\nDane przed filtracją \\n')\n",
    "print(arousal_image_man.corr())\n",
    "print('\\nDane po filtracji \\n')\n",
    "print(filtered_arousal_image_man.corr())\n",
    "print(\"\\n\\n\\nKobiety\")\n",
    "print('\\nDane przed filtracją \\n')\n",
    "print(arousal_image_woman.corr())\n",
    "print('\\nDane po filtracji \\n')\n",
    "print(filtered_arousal_image_woman.corr())"
   ]
  },
  {
   "cell_type": "code",
   "execution_count": 179,
   "metadata": {},
   "outputs": [
    {
     "name": "stdout",
     "output_type": "stream",
     "text": [
      "Mężczyźni\n",
      "              arousal  ArousalMean\n",
      "arousal      1.000000     0.107511\n",
      "ArousalMean  0.107511     1.000000\n",
      "              arousal  ArousalMean\n",
      "arousal      1.000000     0.111838\n",
      "ArousalMean  0.111838     1.000000\n",
      "\n",
      "\n",
      "\n",
      "Kobiety\n",
      "              arousal  ArousalMean\n",
      "arousal      1.000000     0.108352\n",
      "ArousalMean  0.108352     1.000000\n",
      "              arousal  ArousalMean\n",
      "arousal      1.000000     0.120078\n",
      "ArousalMean  0.120078     1.000000\n"
     ]
    }
   ],
   "source": [
    "print(\"Mężczyźni\")\n",
    "print(arousal_sound_man.corr())\n",
    "print(filtered_arousal_sound_man.corr())\n",
    "print(\"\\n\\n\\nKobiety\")\n",
    "print(arousal_sound_woman.corr())\n",
    "print(filtered_arousal_sound_woman.corr())"
   ]
  },
  {
   "cell_type": "markdown",
   "metadata": {},
   "source": [
    "### Analiza wyników korelacji\n",
    "Później"
   ]
  }
 ],
 "metadata": {
  "kernelspec": {
   "display_name": "Python 3",
   "language": "python",
   "name": "python3"
  },
  "language_info": {
   "codemirror_mode": {
    "name": "ipython",
    "version": 3
   },
   "file_extension": ".py",
   "mimetype": "text/x-python",
   "name": "python",
   "nbconvert_exporter": "python",
   "pygments_lexer": "ipython3",
   "version": "3.7.3"
  },
  "pycharm": {
   "stem_cell": {
    "cell_type": "raw",
    "metadata": {
     "collapsed": false
    },
    "source": []
   }
  }
 },
 "nbformat": 4,
 "nbformat_minor": 1
}
